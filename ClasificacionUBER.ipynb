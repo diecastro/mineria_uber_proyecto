{
 "nbformat": 4,
 "nbformat_minor": 0,
 "metadata": {
  "colab": {
   "provenance": []
  },
  "kernelspec": {
   "name": "python3",
   "display_name": "Python 3"
  },
  "language_info": {
   "name": "python"
  },
  "widgets": {
   "application/vnd.jupyter.widget-state+json": {
    "6891b97b75724cae801ed0c7df50aa29": {
     "model_module": "@jupyter-widgets/controls",
     "model_name": "HBoxModel",
     "model_module_version": "1.5.0",
     "state": {
      "_dom_classes": [],
      "_model_module": "@jupyter-widgets/controls",
      "_model_module_version": "1.5.0",
      "_model_name": "HBoxModel",
      "_view_count": null,
      "_view_module": "@jupyter-widgets/controls",
      "_view_module_version": "1.5.0",
      "_view_name": "HBoxView",
      "box_style": "",
      "children": [
       "IPY_MODEL_f41d304b27034b1ca6ac831dbf48607e",
       "IPY_MODEL_becaf2d17e3d4b37b72cd8046d1525ff",
       "IPY_MODEL_2a698eb617dc4bdfac627279cd8e4dbe"
      ],
      "layout": "IPY_MODEL_7ccb70b2e6ad42e0904b2b34c784c14c"
     }
    },
    "f41d304b27034b1ca6ac831dbf48607e": {
     "model_module": "@jupyter-widgets/controls",
     "model_name": "HTMLModel",
     "model_module_version": "1.5.0",
     "state": {
      "_dom_classes": [],
      "_model_module": "@jupyter-widgets/controls",
      "_model_module_version": "1.5.0",
      "_model_name": "HTMLModel",
      "_view_count": null,
      "_view_module": "@jupyter-widgets/controls",
      "_view_module_version": "1.5.0",
      "_view_name": "HTMLView",
      "description": "",
      "description_tooltip": null,
      "layout": "IPY_MODEL_60622e4cc82e43078a6e8b50377f87df",
      "placeholder": "​",
      "style": "IPY_MODEL_70bdfd24d2f0469db22ca82b6d73fef5",
      "value": "Summarize dataset: 100%"
     }
    },
    "becaf2d17e3d4b37b72cd8046d1525ff": {
     "model_module": "@jupyter-widgets/controls",
     "model_name": "FloatProgressModel",
     "model_module_version": "1.5.0",
     "state": {
      "_dom_classes": [],
      "_model_module": "@jupyter-widgets/controls",
      "_model_module_version": "1.5.0",
      "_model_name": "FloatProgressModel",
      "_view_count": null,
      "_view_module": "@jupyter-widgets/controls",
      "_view_module_version": "1.5.0",
      "_view_name": "ProgressView",
      "bar_style": "success",
      "description": "",
      "description_tooltip": null,
      "layout": "IPY_MODEL_3d6c600a0933430598686c3f57797f28",
      "max": 5,
      "min": 0,
      "orientation": "horizontal",
      "style": "IPY_MODEL_636d330bbf144799a87bb51f109ceb93",
      "value": 5
     }
    },
    "2a698eb617dc4bdfac627279cd8e4dbe": {
     "model_module": "@jupyter-widgets/controls",
     "model_name": "HTMLModel",
     "model_module_version": "1.5.0",
     "state": {
      "_dom_classes": [],
      "_model_module": "@jupyter-widgets/controls",
      "_model_module_version": "1.5.0",
      "_model_name": "HTMLModel",
      "_view_count": null,
      "_view_module": "@jupyter-widgets/controls",
      "_view_module_version": "1.5.0",
      "_view_name": "HTMLView",
      "description": "",
      "description_tooltip": null,
      "layout": "IPY_MODEL_0b5afeb60d70421bac16d37ec7ba1ba5",
      "placeholder": "​",
      "style": "IPY_MODEL_441c74a9542244d8a064be1ab2426d46",
      "value": " 46/46 [00:19&lt;00:00,  2.69it/s, Completed]"
     }
    },
    "7ccb70b2e6ad42e0904b2b34c784c14c": {
     "model_module": "@jupyter-widgets/base",
     "model_name": "LayoutModel",
     "model_module_version": "1.2.0",
     "state": {
      "_model_module": "@jupyter-widgets/base",
      "_model_module_version": "1.2.0",
      "_model_name": "LayoutModel",
      "_view_count": null,
      "_view_module": "@jupyter-widgets/base",
      "_view_module_version": "1.2.0",
      "_view_name": "LayoutView",
      "align_content": null,
      "align_items": null,
      "align_self": null,
      "border": null,
      "bottom": null,
      "display": null,
      "flex": null,
      "flex_flow": null,
      "grid_area": null,
      "grid_auto_columns": null,
      "grid_auto_flow": null,
      "grid_auto_rows": null,
      "grid_column": null,
      "grid_gap": null,
      "grid_row": null,
      "grid_template_areas": null,
      "grid_template_columns": null,
      "grid_template_rows": null,
      "height": null,
      "justify_content": null,
      "justify_items": null,
      "left": null,
      "margin": null,
      "max_height": null,
      "max_width": null,
      "min_height": null,
      "min_width": null,
      "object_fit": null,
      "object_position": null,
      "order": null,
      "overflow": null,
      "overflow_x": null,
      "overflow_y": null,
      "padding": null,
      "right": null,
      "top": null,
      "visibility": null,
      "width": null
     }
    },
    "60622e4cc82e43078a6e8b50377f87df": {
     "model_module": "@jupyter-widgets/base",
     "model_name": "LayoutModel",
     "model_module_version": "1.2.0",
     "state": {
      "_model_module": "@jupyter-widgets/base",
      "_model_module_version": "1.2.0",
      "_model_name": "LayoutModel",
      "_view_count": null,
      "_view_module": "@jupyter-widgets/base",
      "_view_module_version": "1.2.0",
      "_view_name": "LayoutView",
      "align_content": null,
      "align_items": null,
      "align_self": null,
      "border": null,
      "bottom": null,
      "display": null,
      "flex": null,
      "flex_flow": null,
      "grid_area": null,
      "grid_auto_columns": null,
      "grid_auto_flow": null,
      "grid_auto_rows": null,
      "grid_column": null,
      "grid_gap": null,
      "grid_row": null,
      "grid_template_areas": null,
      "grid_template_columns": null,
      "grid_template_rows": null,
      "height": null,
      "justify_content": null,
      "justify_items": null,
      "left": null,
      "margin": null,
      "max_height": null,
      "max_width": null,
      "min_height": null,
      "min_width": null,
      "object_fit": null,
      "object_position": null,
      "order": null,
      "overflow": null,
      "overflow_x": null,
      "overflow_y": null,
      "padding": null,
      "right": null,
      "top": null,
      "visibility": null,
      "width": null
     }
    },
    "70bdfd24d2f0469db22ca82b6d73fef5": {
     "model_module": "@jupyter-widgets/controls",
     "model_name": "DescriptionStyleModel",
     "model_module_version": "1.5.0",
     "state": {
      "_model_module": "@jupyter-widgets/controls",
      "_model_module_version": "1.5.0",
      "_model_name": "DescriptionStyleModel",
      "_view_count": null,
      "_view_module": "@jupyter-widgets/base",
      "_view_module_version": "1.2.0",
      "_view_name": "StyleView",
      "description_width": ""
     }
    },
    "3d6c600a0933430598686c3f57797f28": {
     "model_module": "@jupyter-widgets/base",
     "model_name": "LayoutModel",
     "model_module_version": "1.2.0",
     "state": {
      "_model_module": "@jupyter-widgets/base",
      "_model_module_version": "1.2.0",
      "_model_name": "LayoutModel",
      "_view_count": null,
      "_view_module": "@jupyter-widgets/base",
      "_view_module_version": "1.2.0",
      "_view_name": "LayoutView",
      "align_content": null,
      "align_items": null,
      "align_self": null,
      "border": null,
      "bottom": null,
      "display": null,
      "flex": null,
      "flex_flow": null,
      "grid_area": null,
      "grid_auto_columns": null,
      "grid_auto_flow": null,
      "grid_auto_rows": null,
      "grid_column": null,
      "grid_gap": null,
      "grid_row": null,
      "grid_template_areas": null,
      "grid_template_columns": null,
      "grid_template_rows": null,
      "height": null,
      "justify_content": null,
      "justify_items": null,
      "left": null,
      "margin": null,
      "max_height": null,
      "max_width": null,
      "min_height": null,
      "min_width": null,
      "object_fit": null,
      "object_position": null,
      "order": null,
      "overflow": null,
      "overflow_x": null,
      "overflow_y": null,
      "padding": null,
      "right": null,
      "top": null,
      "visibility": null,
      "width": null
     }
    },
    "636d330bbf144799a87bb51f109ceb93": {
     "model_module": "@jupyter-widgets/controls",
     "model_name": "ProgressStyleModel",
     "model_module_version": "1.5.0",
     "state": {
      "_model_module": "@jupyter-widgets/controls",
      "_model_module_version": "1.5.0",
      "_model_name": "ProgressStyleModel",
      "_view_count": null,
      "_view_module": "@jupyter-widgets/base",
      "_view_module_version": "1.2.0",
      "_view_name": "StyleView",
      "bar_color": null,
      "description_width": ""
     }
    },
    "0b5afeb60d70421bac16d37ec7ba1ba5": {
     "model_module": "@jupyter-widgets/base",
     "model_name": "LayoutModel",
     "model_module_version": "1.2.0",
     "state": {
      "_model_module": "@jupyter-widgets/base",
      "_model_module_version": "1.2.0",
      "_model_name": "LayoutModel",
      "_view_count": null,
      "_view_module": "@jupyter-widgets/base",
      "_view_module_version": "1.2.0",
      "_view_name": "LayoutView",
      "align_content": null,
      "align_items": null,
      "align_self": null,
      "border": null,
      "bottom": null,
      "display": null,
      "flex": null,
      "flex_flow": null,
      "grid_area": null,
      "grid_auto_columns": null,
      "grid_auto_flow": null,
      "grid_auto_rows": null,
      "grid_column": null,
      "grid_gap": null,
      "grid_row": null,
      "grid_template_areas": null,
      "grid_template_columns": null,
      "grid_template_rows": null,
      "height": null,
      "justify_content": null,
      "justify_items": null,
      "left": null,
      "margin": null,
      "max_height": null,
      "max_width": null,
      "min_height": null,
      "min_width": null,
      "object_fit": null,
      "object_position": null,
      "order": null,
      "overflow": null,
      "overflow_x": null,
      "overflow_y": null,
      "padding": null,
      "right": null,
      "top": null,
      "visibility": null,
      "width": null
     }
    },
    "441c74a9542244d8a064be1ab2426d46": {
     "model_module": "@jupyter-widgets/controls",
     "model_name": "DescriptionStyleModel",
     "model_module_version": "1.5.0",
     "state": {
      "_model_module": "@jupyter-widgets/controls",
      "_model_module_version": "1.5.0",
      "_model_name": "DescriptionStyleModel",
      "_view_count": null,
      "_view_module": "@jupyter-widgets/base",
      "_view_module_version": "1.2.0",
      "_view_name": "StyleView",
      "description_width": ""
     }
    },
    "36dcddec012f49fb9614fd079fabfc14": {
     "model_module": "@jupyter-widgets/controls",
     "model_name": "HBoxModel",
     "model_module_version": "1.5.0",
     "state": {
      "_dom_classes": [],
      "_model_module": "@jupyter-widgets/controls",
      "_model_module_version": "1.5.0",
      "_model_name": "HBoxModel",
      "_view_count": null,
      "_view_module": "@jupyter-widgets/controls",
      "_view_module_version": "1.5.0",
      "_view_name": "HBoxView",
      "box_style": "",
      "children": [
       "IPY_MODEL_61317b0793ad49cf832a87d2080231d7",
       "IPY_MODEL_0b9c09f842d44479be894a5dcada5d9c",
       "IPY_MODEL_198e8054d2ff428184292d99498e35c0"
      ],
      "layout": "IPY_MODEL_84c025ee1ebe4f818f1afb2349eeb2a7"
     }
    },
    "61317b0793ad49cf832a87d2080231d7": {
     "model_module": "@jupyter-widgets/controls",
     "model_name": "HTMLModel",
     "model_module_version": "1.5.0",
     "state": {
      "_dom_classes": [],
      "_model_module": "@jupyter-widgets/controls",
      "_model_module_version": "1.5.0",
      "_model_name": "HTMLModel",
      "_view_count": null,
      "_view_module": "@jupyter-widgets/controls",
      "_view_module_version": "1.5.0",
      "_view_name": "HTMLView",
      "description": "",
      "description_tooltip": null,
      "layout": "IPY_MODEL_61e4fb4aba8f4a239e5f3c41aeaffb14",
      "placeholder": "​",
      "style": "IPY_MODEL_0b7e4c70a91e4ebabbcde35ab3d2149c",
      "value": "Generate report structure: 100%"
     }
    },
    "0b9c09f842d44479be894a5dcada5d9c": {
     "model_module": "@jupyter-widgets/controls",
     "model_name": "FloatProgressModel",
     "model_module_version": "1.5.0",
     "state": {
      "_dom_classes": [],
      "_model_module": "@jupyter-widgets/controls",
      "_model_module_version": "1.5.0",
      "_model_name": "FloatProgressModel",
      "_view_count": null,
      "_view_module": "@jupyter-widgets/controls",
      "_view_module_version": "1.5.0",
      "_view_name": "ProgressView",
      "bar_style": "success",
      "description": "",
      "description_tooltip": null,
      "layout": "IPY_MODEL_b8cc809986114ba885c259ed6c64263a",
      "max": 1,
      "min": 0,
      "orientation": "horizontal",
      "style": "IPY_MODEL_fe74848be9da4016aeda9504ec969fb0",
      "value": 1
     }
    },
    "198e8054d2ff428184292d99498e35c0": {
     "model_module": "@jupyter-widgets/controls",
     "model_name": "HTMLModel",
     "model_module_version": "1.5.0",
     "state": {
      "_dom_classes": [],
      "_model_module": "@jupyter-widgets/controls",
      "_model_module_version": "1.5.0",
      "_model_name": "HTMLModel",
      "_view_count": null,
      "_view_module": "@jupyter-widgets/controls",
      "_view_module_version": "1.5.0",
      "_view_name": "HTMLView",
      "description": "",
      "description_tooltip": null,
      "layout": "IPY_MODEL_ac520ce6e97642e19f46b91ff15a4e37",
      "placeholder": "​",
      "style": "IPY_MODEL_58b146ccfabe4b55b5935f1decaab65f",
      "value": " 1/1 [00:05&lt;00:00,  5.33s/it]"
     }
    },
    "84c025ee1ebe4f818f1afb2349eeb2a7": {
     "model_module": "@jupyter-widgets/base",
     "model_name": "LayoutModel",
     "model_module_version": "1.2.0",
     "state": {
      "_model_module": "@jupyter-widgets/base",
      "_model_module_version": "1.2.0",
      "_model_name": "LayoutModel",
      "_view_count": null,
      "_view_module": "@jupyter-widgets/base",
      "_view_module_version": "1.2.0",
      "_view_name": "LayoutView",
      "align_content": null,
      "align_items": null,
      "align_self": null,
      "border": null,
      "bottom": null,
      "display": null,
      "flex": null,
      "flex_flow": null,
      "grid_area": null,
      "grid_auto_columns": null,
      "grid_auto_flow": null,
      "grid_auto_rows": null,
      "grid_column": null,
      "grid_gap": null,
      "grid_row": null,
      "grid_template_areas": null,
      "grid_template_columns": null,
      "grid_template_rows": null,
      "height": null,
      "justify_content": null,
      "justify_items": null,
      "left": null,
      "margin": null,
      "max_height": null,
      "max_width": null,
      "min_height": null,
      "min_width": null,
      "object_fit": null,
      "object_position": null,
      "order": null,
      "overflow": null,
      "overflow_x": null,
      "overflow_y": null,
      "padding": null,
      "right": null,
      "top": null,
      "visibility": null,
      "width": null
     }
    },
    "61e4fb4aba8f4a239e5f3c41aeaffb14": {
     "model_module": "@jupyter-widgets/base",
     "model_name": "LayoutModel",
     "model_module_version": "1.2.0",
     "state": {
      "_model_module": "@jupyter-widgets/base",
      "_model_module_version": "1.2.0",
      "_model_name": "LayoutModel",
      "_view_count": null,
      "_view_module": "@jupyter-widgets/base",
      "_view_module_version": "1.2.0",
      "_view_name": "LayoutView",
      "align_content": null,
      "align_items": null,
      "align_self": null,
      "border": null,
      "bottom": null,
      "display": null,
      "flex": null,
      "flex_flow": null,
      "grid_area": null,
      "grid_auto_columns": null,
      "grid_auto_flow": null,
      "grid_auto_rows": null,
      "grid_column": null,
      "grid_gap": null,
      "grid_row": null,
      "grid_template_areas": null,
      "grid_template_columns": null,
      "grid_template_rows": null,
      "height": null,
      "justify_content": null,
      "justify_items": null,
      "left": null,
      "margin": null,
      "max_height": null,
      "max_width": null,
      "min_height": null,
      "min_width": null,
      "object_fit": null,
      "object_position": null,
      "order": null,
      "overflow": null,
      "overflow_x": null,
      "overflow_y": null,
      "padding": null,
      "right": null,
      "top": null,
      "visibility": null,
      "width": null
     }
    },
    "0b7e4c70a91e4ebabbcde35ab3d2149c": {
     "model_module": "@jupyter-widgets/controls",
     "model_name": "DescriptionStyleModel",
     "model_module_version": "1.5.0",
     "state": {
      "_model_module": "@jupyter-widgets/controls",
      "_model_module_version": "1.5.0",
      "_model_name": "DescriptionStyleModel",
      "_view_count": null,
      "_view_module": "@jupyter-widgets/base",
      "_view_module_version": "1.2.0",
      "_view_name": "StyleView",
      "description_width": ""
     }
    },
    "b8cc809986114ba885c259ed6c64263a": {
     "model_module": "@jupyter-widgets/base",
     "model_name": "LayoutModel",
     "model_module_version": "1.2.0",
     "state": {
      "_model_module": "@jupyter-widgets/base",
      "_model_module_version": "1.2.0",
      "_model_name": "LayoutModel",
      "_view_count": null,
      "_view_module": "@jupyter-widgets/base",
      "_view_module_version": "1.2.0",
      "_view_name": "LayoutView",
      "align_content": null,
      "align_items": null,
      "align_self": null,
      "border": null,
      "bottom": null,
      "display": null,
      "flex": null,
      "flex_flow": null,
      "grid_area": null,
      "grid_auto_columns": null,
      "grid_auto_flow": null,
      "grid_auto_rows": null,
      "grid_column": null,
      "grid_gap": null,
      "grid_row": null,
      "grid_template_areas": null,
      "grid_template_columns": null,
      "grid_template_rows": null,
      "height": null,
      "justify_content": null,
      "justify_items": null,
      "left": null,
      "margin": null,
      "max_height": null,
      "max_width": null,
      "min_height": null,
      "min_width": null,
      "object_fit": null,
      "object_position": null,
      "order": null,
      "overflow": null,
      "overflow_x": null,
      "overflow_y": null,
      "padding": null,
      "right": null,
      "top": null,
      "visibility": null,
      "width": null
     }
    },
    "fe74848be9da4016aeda9504ec969fb0": {
     "model_module": "@jupyter-widgets/controls",
     "model_name": "ProgressStyleModel",
     "model_module_version": "1.5.0",
     "state": {
      "_model_module": "@jupyter-widgets/controls",
      "_model_module_version": "1.5.0",
      "_model_name": "ProgressStyleModel",
      "_view_count": null,
      "_view_module": "@jupyter-widgets/base",
      "_view_module_version": "1.2.0",
      "_view_name": "StyleView",
      "bar_color": null,
      "description_width": ""
     }
    },
    "ac520ce6e97642e19f46b91ff15a4e37": {
     "model_module": "@jupyter-widgets/base",
     "model_name": "LayoutModel",
     "model_module_version": "1.2.0",
     "state": {
      "_model_module": "@jupyter-widgets/base",
      "_model_module_version": "1.2.0",
      "_model_name": "LayoutModel",
      "_view_count": null,
      "_view_module": "@jupyter-widgets/base",
      "_view_module_version": "1.2.0",
      "_view_name": "LayoutView",
      "align_content": null,
      "align_items": null,
      "align_self": null,
      "border": null,
      "bottom": null,
      "display": null,
      "flex": null,
      "flex_flow": null,
      "grid_area": null,
      "grid_auto_columns": null,
      "grid_auto_flow": null,
      "grid_auto_rows": null,
      "grid_column": null,
      "grid_gap": null,
      "grid_row": null,
      "grid_template_areas": null,
      "grid_template_columns": null,
      "grid_template_rows": null,
      "height": null,
      "justify_content": null,
      "justify_items": null,
      "left": null,
      "margin": null,
      "max_height": null,
      "max_width": null,
      "min_height": null,
      "min_width": null,
      "object_fit": null,
      "object_position": null,
      "order": null,
      "overflow": null,
      "overflow_x": null,
      "overflow_y": null,
      "padding": null,
      "right": null,
      "top": null,
      "visibility": null,
      "width": null
     }
    },
    "58b146ccfabe4b55b5935f1decaab65f": {
     "model_module": "@jupyter-widgets/controls",
     "model_name": "DescriptionStyleModel",
     "model_module_version": "1.5.0",
     "state": {
      "_model_module": "@jupyter-widgets/controls",
      "_model_module_version": "1.5.0",
      "_model_name": "DescriptionStyleModel",
      "_view_count": null,
      "_view_module": "@jupyter-widgets/base",
      "_view_module_version": "1.2.0",
      "_view_name": "StyleView",
      "description_width": ""
     }
    },
    "71e6d0b0a07547b181f9c124fd738bd4": {
     "model_module": "@jupyter-widgets/controls",
     "model_name": "HBoxModel",
     "model_module_version": "1.5.0",
     "state": {
      "_dom_classes": [],
      "_model_module": "@jupyter-widgets/controls",
      "_model_module_version": "1.5.0",
      "_model_name": "HBoxModel",
      "_view_count": null,
      "_view_module": "@jupyter-widgets/controls",
      "_view_module_version": "1.5.0",
      "_view_name": "HBoxView",
      "box_style": "",
      "children": [
       "IPY_MODEL_2677da8951844ab28dc4f11b5e34f138",
       "IPY_MODEL_6f657e0c008b40128f9f4c5418e7638b",
       "IPY_MODEL_f1f87fa151dd47578949b5dcb5b023da"
      ],
      "layout": "IPY_MODEL_a2042c0a800f481f863f54fa3428c55f"
     }
    },
    "2677da8951844ab28dc4f11b5e34f138": {
     "model_module": "@jupyter-widgets/controls",
     "model_name": "HTMLModel",
     "model_module_version": "1.5.0",
     "state": {
      "_dom_classes": [],
      "_model_module": "@jupyter-widgets/controls",
      "_model_module_version": "1.5.0",
      "_model_name": "HTMLModel",
      "_view_count": null,
      "_view_module": "@jupyter-widgets/controls",
      "_view_module_version": "1.5.0",
      "_view_name": "HTMLView",
      "description": "",
      "description_tooltip": null,
      "layout": "IPY_MODEL_4ac316015f64463d862c5bfeb7ae8b8e",
      "placeholder": "​",
      "style": "IPY_MODEL_3bfe994568c143209a97369e0a6c03ba",
      "value": "Render HTML: 100%"
     }
    },
    "6f657e0c008b40128f9f4c5418e7638b": {
     "model_module": "@jupyter-widgets/controls",
     "model_name": "FloatProgressModel",
     "model_module_version": "1.5.0",
     "state": {
      "_dom_classes": [],
      "_model_module": "@jupyter-widgets/controls",
      "_model_module_version": "1.5.0",
      "_model_name": "FloatProgressModel",
      "_view_count": null,
      "_view_module": "@jupyter-widgets/controls",
      "_view_module_version": "1.5.0",
      "_view_name": "ProgressView",
      "bar_style": "success",
      "description": "",
      "description_tooltip": null,
      "layout": "IPY_MODEL_9c555493bd374bc49f9d8c8a60750eb9",
      "max": 1,
      "min": 0,
      "orientation": "horizontal",
      "style": "IPY_MODEL_6da379a9379f48f19b9318072dd22aea",
      "value": 1
     }
    },
    "f1f87fa151dd47578949b5dcb5b023da": {
     "model_module": "@jupyter-widgets/controls",
     "model_name": "HTMLModel",
     "model_module_version": "1.5.0",
     "state": {
      "_dom_classes": [],
      "_model_module": "@jupyter-widgets/controls",
      "_model_module_version": "1.5.0",
      "_model_name": "HTMLModel",
      "_view_count": null,
      "_view_module": "@jupyter-widgets/controls",
      "_view_module_version": "1.5.0",
      "_view_name": "HTMLView",
      "description": "",
      "description_tooltip": null,
      "layout": "IPY_MODEL_ad474009336f4cc589894ef083056d65",
      "placeholder": "​",
      "style": "IPY_MODEL_fb46c493d363458fb65b1f89b632eb4b",
      "value": " 1/1 [00:00&lt;00:00,  2.45it/s]"
     }
    },
    "a2042c0a800f481f863f54fa3428c55f": {
     "model_module": "@jupyter-widgets/base",
     "model_name": "LayoutModel",
     "model_module_version": "1.2.0",
     "state": {
      "_model_module": "@jupyter-widgets/base",
      "_model_module_version": "1.2.0",
      "_model_name": "LayoutModel",
      "_view_count": null,
      "_view_module": "@jupyter-widgets/base",
      "_view_module_version": "1.2.0",
      "_view_name": "LayoutView",
      "align_content": null,
      "align_items": null,
      "align_self": null,
      "border": null,
      "bottom": null,
      "display": null,
      "flex": null,
      "flex_flow": null,
      "grid_area": null,
      "grid_auto_columns": null,
      "grid_auto_flow": null,
      "grid_auto_rows": null,
      "grid_column": null,
      "grid_gap": null,
      "grid_row": null,
      "grid_template_areas": null,
      "grid_template_columns": null,
      "grid_template_rows": null,
      "height": null,
      "justify_content": null,
      "justify_items": null,
      "left": null,
      "margin": null,
      "max_height": null,
      "max_width": null,
      "min_height": null,
      "min_width": null,
      "object_fit": null,
      "object_position": null,
      "order": null,
      "overflow": null,
      "overflow_x": null,
      "overflow_y": null,
      "padding": null,
      "right": null,
      "top": null,
      "visibility": null,
      "width": null
     }
    },
    "4ac316015f64463d862c5bfeb7ae8b8e": {
     "model_module": "@jupyter-widgets/base",
     "model_name": "LayoutModel",
     "model_module_version": "1.2.0",
     "state": {
      "_model_module": "@jupyter-widgets/base",
      "_model_module_version": "1.2.0",
      "_model_name": "LayoutModel",
      "_view_count": null,
      "_view_module": "@jupyter-widgets/base",
      "_view_module_version": "1.2.0",
      "_view_name": "LayoutView",
      "align_content": null,
      "align_items": null,
      "align_self": null,
      "border": null,
      "bottom": null,
      "display": null,
      "flex": null,
      "flex_flow": null,
      "grid_area": null,
      "grid_auto_columns": null,
      "grid_auto_flow": null,
      "grid_auto_rows": null,
      "grid_column": null,
      "grid_gap": null,
      "grid_row": null,
      "grid_template_areas": null,
      "grid_template_columns": null,
      "grid_template_rows": null,
      "height": null,
      "justify_content": null,
      "justify_items": null,
      "left": null,
      "margin": null,
      "max_height": null,
      "max_width": null,
      "min_height": null,
      "min_width": null,
      "object_fit": null,
      "object_position": null,
      "order": null,
      "overflow": null,
      "overflow_x": null,
      "overflow_y": null,
      "padding": null,
      "right": null,
      "top": null,
      "visibility": null,
      "width": null
     }
    },
    "3bfe994568c143209a97369e0a6c03ba": {
     "model_module": "@jupyter-widgets/controls",
     "model_name": "DescriptionStyleModel",
     "model_module_version": "1.5.0",
     "state": {
      "_model_module": "@jupyter-widgets/controls",
      "_model_module_version": "1.5.0",
      "_model_name": "DescriptionStyleModel",
      "_view_count": null,
      "_view_module": "@jupyter-widgets/base",
      "_view_module_version": "1.2.0",
      "_view_name": "StyleView",
      "description_width": ""
     }
    },
    "9c555493bd374bc49f9d8c8a60750eb9": {
     "model_module": "@jupyter-widgets/base",
     "model_name": "LayoutModel",
     "model_module_version": "1.2.0",
     "state": {
      "_model_module": "@jupyter-widgets/base",
      "_model_module_version": "1.2.0",
      "_model_name": "LayoutModel",
      "_view_count": null,
      "_view_module": "@jupyter-widgets/base",
      "_view_module_version": "1.2.0",
      "_view_name": "LayoutView",
      "align_content": null,
      "align_items": null,
      "align_self": null,
      "border": null,
      "bottom": null,
      "display": null,
      "flex": null,
      "flex_flow": null,
      "grid_area": null,
      "grid_auto_columns": null,
      "grid_auto_flow": null,
      "grid_auto_rows": null,
      "grid_column": null,
      "grid_gap": null,
      "grid_row": null,
      "grid_template_areas": null,
      "grid_template_columns": null,
      "grid_template_rows": null,
      "height": null,
      "justify_content": null,
      "justify_items": null,
      "left": null,
      "margin": null,
      "max_height": null,
      "max_width": null,
      "min_height": null,
      "min_width": null,
      "object_fit": null,
      "object_position": null,
      "order": null,
      "overflow": null,
      "overflow_x": null,
      "overflow_y": null,
      "padding": null,
      "right": null,
      "top": null,
      "visibility": null,
      "width": null
     }
    },
    "6da379a9379f48f19b9318072dd22aea": {
     "model_module": "@jupyter-widgets/controls",
     "model_name": "ProgressStyleModel",
     "model_module_version": "1.5.0",
     "state": {
      "_model_module": "@jupyter-widgets/controls",
      "_model_module_version": "1.5.0",
      "_model_name": "ProgressStyleModel",
      "_view_count": null,
      "_view_module": "@jupyter-widgets/base",
      "_view_module_version": "1.2.0",
      "_view_name": "StyleView",
      "bar_color": null,
      "description_width": ""
     }
    },
    "ad474009336f4cc589894ef083056d65": {
     "model_module": "@jupyter-widgets/base",
     "model_name": "LayoutModel",
     "model_module_version": "1.2.0",
     "state": {
      "_model_module": "@jupyter-widgets/base",
      "_model_module_version": "1.2.0",
      "_model_name": "LayoutModel",
      "_view_count": null,
      "_view_module": "@jupyter-widgets/base",
      "_view_module_version": "1.2.0",
      "_view_name": "LayoutView",
      "align_content": null,
      "align_items": null,
      "align_self": null,
      "border": null,
      "bottom": null,
      "display": null,
      "flex": null,
      "flex_flow": null,
      "grid_area": null,
      "grid_auto_columns": null,
      "grid_auto_flow": null,
      "grid_auto_rows": null,
      "grid_column": null,
      "grid_gap": null,
      "grid_row": null,
      "grid_template_areas": null,
      "grid_template_columns": null,
      "grid_template_rows": null,
      "height": null,
      "justify_content": null,
      "justify_items": null,
      "left": null,
      "margin": null,
      "max_height": null,
      "max_width": null,
      "min_height": null,
      "min_width": null,
      "object_fit": null,
      "object_position": null,
      "order": null,
      "overflow": null,
      "overflow_x": null,
      "overflow_y": null,
      "padding": null,
      "right": null,
      "top": null,
      "visibility": null,
      "width": null
     }
    },
    "fb46c493d363458fb65b1f89b632eb4b": {
     "model_module": "@jupyter-widgets/controls",
     "model_name": "DescriptionStyleModel",
     "model_module_version": "1.5.0",
     "state": {
      "_model_module": "@jupyter-widgets/controls",
      "_model_module_version": "1.5.0",
      "_model_name": "DescriptionStyleModel",
      "_view_count": null,
      "_view_module": "@jupyter-widgets/base",
      "_view_module_version": "1.2.0",
      "_view_name": "StyleView",
      "description_width": ""
     }
    },
    "6ba76dfb549a4c0582466d51d4800496": {
     "model_module": "@jupyter-widgets/controls",
     "model_name": "HBoxModel",
     "model_module_version": "1.5.0",
     "state": {
      "_dom_classes": [],
      "_model_module": "@jupyter-widgets/controls",
      "_model_module_version": "1.5.0",
      "_model_name": "HBoxModel",
      "_view_count": null,
      "_view_module": "@jupyter-widgets/controls",
      "_view_module_version": "1.5.0",
      "_view_name": "HBoxView",
      "box_style": "",
      "children": [
       "IPY_MODEL_990aba5b1cf54c74b841b01f53370ec1",
       "IPY_MODEL_c9cbb16148eb4efc80bb6fa615f4ccf8",
       "IPY_MODEL_05be0f1e4e304bb5b34c5619d65dc21d"
      ],
      "layout": "IPY_MODEL_7b634a07fbfc45f3bdfeaacb3dd22dfe"
     }
    },
    "990aba5b1cf54c74b841b01f53370ec1": {
     "model_module": "@jupyter-widgets/controls",
     "model_name": "HTMLModel",
     "model_module_version": "1.5.0",
     "state": {
      "_dom_classes": [],
      "_model_module": "@jupyter-widgets/controls",
      "_model_module_version": "1.5.0",
      "_model_name": "HTMLModel",
      "_view_count": null,
      "_view_module": "@jupyter-widgets/controls",
      "_view_module_version": "1.5.0",
      "_view_name": "HTMLView",
      "description": "",
      "description_tooltip": null,
      "layout": "IPY_MODEL_ccf8251852be4a88b65ceef7c0db26b9",
      "placeholder": "​",
      "style": "IPY_MODEL_b52665be88a44e08a77659fa3d6d730c",
      "value": "Export report to file: 100%"
     }
    },
    "c9cbb16148eb4efc80bb6fa615f4ccf8": {
     "model_module": "@jupyter-widgets/controls",
     "model_name": "FloatProgressModel",
     "model_module_version": "1.5.0",
     "state": {
      "_dom_classes": [],
      "_model_module": "@jupyter-widgets/controls",
      "_model_module_version": "1.5.0",
      "_model_name": "FloatProgressModel",
      "_view_count": null,
      "_view_module": "@jupyter-widgets/controls",
      "_view_module_version": "1.5.0",
      "_view_name": "ProgressView",
      "bar_style": "success",
      "description": "",
      "description_tooltip": null,
      "layout": "IPY_MODEL_4a60a61835af4decba42801dbe68cb75",
      "max": 1,
      "min": 0,
      "orientation": "horizontal",
      "style": "IPY_MODEL_1e340495cd5945ca82183a20843032d3",
      "value": 1
     }
    },
    "05be0f1e4e304bb5b34c5619d65dc21d": {
     "model_module": "@jupyter-widgets/controls",
     "model_name": "HTMLModel",
     "model_module_version": "1.5.0",
     "state": {
      "_dom_classes": [],
      "_model_module": "@jupyter-widgets/controls",
      "_model_module_version": "1.5.0",
      "_model_name": "HTMLModel",
      "_view_count": null,
      "_view_module": "@jupyter-widgets/controls",
      "_view_module_version": "1.5.0",
      "_view_name": "HTMLView",
      "description": "",
      "description_tooltip": null,
      "layout": "IPY_MODEL_2776fc3d74854a94a5ab23ddc7cddd5c",
      "placeholder": "​",
      "style": "IPY_MODEL_2948238f949a456abfc3492addf035bd",
      "value": " 1/1 [00:00&lt;00:00, 28.85it/s]"
     }
    },
    "7b634a07fbfc45f3bdfeaacb3dd22dfe": {
     "model_module": "@jupyter-widgets/base",
     "model_name": "LayoutModel",
     "model_module_version": "1.2.0",
     "state": {
      "_model_module": "@jupyter-widgets/base",
      "_model_module_version": "1.2.0",
      "_model_name": "LayoutModel",
      "_view_count": null,
      "_view_module": "@jupyter-widgets/base",
      "_view_module_version": "1.2.0",
      "_view_name": "LayoutView",
      "align_content": null,
      "align_items": null,
      "align_self": null,
      "border": null,
      "bottom": null,
      "display": null,
      "flex": null,
      "flex_flow": null,
      "grid_area": null,
      "grid_auto_columns": null,
      "grid_auto_flow": null,
      "grid_auto_rows": null,
      "grid_column": null,
      "grid_gap": null,
      "grid_row": null,
      "grid_template_areas": null,
      "grid_template_columns": null,
      "grid_template_rows": null,
      "height": null,
      "justify_content": null,
      "justify_items": null,
      "left": null,
      "margin": null,
      "max_height": null,
      "max_width": null,
      "min_height": null,
      "min_width": null,
      "object_fit": null,
      "object_position": null,
      "order": null,
      "overflow": null,
      "overflow_x": null,
      "overflow_y": null,
      "padding": null,
      "right": null,
      "top": null,
      "visibility": null,
      "width": null
     }
    },
    "ccf8251852be4a88b65ceef7c0db26b9": {
     "model_module": "@jupyter-widgets/base",
     "model_name": "LayoutModel",
     "model_module_version": "1.2.0",
     "state": {
      "_model_module": "@jupyter-widgets/base",
      "_model_module_version": "1.2.0",
      "_model_name": "LayoutModel",
      "_view_count": null,
      "_view_module": "@jupyter-widgets/base",
      "_view_module_version": "1.2.0",
      "_view_name": "LayoutView",
      "align_content": null,
      "align_items": null,
      "align_self": null,
      "border": null,
      "bottom": null,
      "display": null,
      "flex": null,
      "flex_flow": null,
      "grid_area": null,
      "grid_auto_columns": null,
      "grid_auto_flow": null,
      "grid_auto_rows": null,
      "grid_column": null,
      "grid_gap": null,
      "grid_row": null,
      "grid_template_areas": null,
      "grid_template_columns": null,
      "grid_template_rows": null,
      "height": null,
      "justify_content": null,
      "justify_items": null,
      "left": null,
      "margin": null,
      "max_height": null,
      "max_width": null,
      "min_height": null,
      "min_width": null,
      "object_fit": null,
      "object_position": null,
      "order": null,
      "overflow": null,
      "overflow_x": null,
      "overflow_y": null,
      "padding": null,
      "right": null,
      "top": null,
      "visibility": null,
      "width": null
     }
    },
    "b52665be88a44e08a77659fa3d6d730c": {
     "model_module": "@jupyter-widgets/controls",
     "model_name": "DescriptionStyleModel",
     "model_module_version": "1.5.0",
     "state": {
      "_model_module": "@jupyter-widgets/controls",
      "_model_module_version": "1.5.0",
      "_model_name": "DescriptionStyleModel",
      "_view_count": null,
      "_view_module": "@jupyter-widgets/base",
      "_view_module_version": "1.2.0",
      "_view_name": "StyleView",
      "description_width": ""
     }
    },
    "4a60a61835af4decba42801dbe68cb75": {
     "model_module": "@jupyter-widgets/base",
     "model_name": "LayoutModel",
     "model_module_version": "1.2.0",
     "state": {
      "_model_module": "@jupyter-widgets/base",
      "_model_module_version": "1.2.0",
      "_model_name": "LayoutModel",
      "_view_count": null,
      "_view_module": "@jupyter-widgets/base",
      "_view_module_version": "1.2.0",
      "_view_name": "LayoutView",
      "align_content": null,
      "align_items": null,
      "align_self": null,
      "border": null,
      "bottom": null,
      "display": null,
      "flex": null,
      "flex_flow": null,
      "grid_area": null,
      "grid_auto_columns": null,
      "grid_auto_flow": null,
      "grid_auto_rows": null,
      "grid_column": null,
      "grid_gap": null,
      "grid_row": null,
      "grid_template_areas": null,
      "grid_template_columns": null,
      "grid_template_rows": null,
      "height": null,
      "justify_content": null,
      "justify_items": null,
      "left": null,
      "margin": null,
      "max_height": null,
      "max_width": null,
      "min_height": null,
      "min_width": null,
      "object_fit": null,
      "object_position": null,
      "order": null,
      "overflow": null,
      "overflow_x": null,
      "overflow_y": null,
      "padding": null,
      "right": null,
      "top": null,
      "visibility": null,
      "width": null
     }
    },
    "1e340495cd5945ca82183a20843032d3": {
     "model_module": "@jupyter-widgets/controls",
     "model_name": "ProgressStyleModel",
     "model_module_version": "1.5.0",
     "state": {
      "_model_module": "@jupyter-widgets/controls",
      "_model_module_version": "1.5.0",
      "_model_name": "ProgressStyleModel",
      "_view_count": null,
      "_view_module": "@jupyter-widgets/base",
      "_view_module_version": "1.2.0",
      "_view_name": "StyleView",
      "bar_color": null,
      "description_width": ""
     }
    },
    "2776fc3d74854a94a5ab23ddc7cddd5c": {
     "model_module": "@jupyter-widgets/base",
     "model_name": "LayoutModel",
     "model_module_version": "1.2.0",
     "state": {
      "_model_module": "@jupyter-widgets/base",
      "_model_module_version": "1.2.0",
      "_model_name": "LayoutModel",
      "_view_count": null,
      "_view_module": "@jupyter-widgets/base",
      "_view_module_version": "1.2.0",
      "_view_name": "LayoutView",
      "align_content": null,
      "align_items": null,
      "align_self": null,
      "border": null,
      "bottom": null,
      "display": null,
      "flex": null,
      "flex_flow": null,
      "grid_area": null,
      "grid_auto_columns": null,
      "grid_auto_flow": null,
      "grid_auto_rows": null,
      "grid_column": null,
      "grid_gap": null,
      "grid_row": null,
      "grid_template_areas": null,
      "grid_template_columns": null,
      "grid_template_rows": null,
      "height": null,
      "justify_content": null,
      "justify_items": null,
      "left": null,
      "margin": null,
      "max_height": null,
      "max_width": null,
      "min_height": null,
      "min_width": null,
      "object_fit": null,
      "object_position": null,
      "order": null,
      "overflow": null,
      "overflow_x": null,
      "overflow_y": null,
      "padding": null,
      "right": null,
      "top": null,
      "visibility": null,
      "width": null
     }
    },
    "2948238f949a456abfc3492addf035bd": {
     "model_module": "@jupyter-widgets/controls",
     "model_name": "DescriptionStyleModel",
     "model_module_version": "1.5.0",
     "state": {
      "_model_module": "@jupyter-widgets/controls",
      "_model_module_version": "1.5.0",
      "_model_name": "DescriptionStyleModel",
      "_view_count": null,
      "_view_module": "@jupyter-widgets/base",
      "_view_module_version": "1.2.0",
      "_view_name": "StyleView",
      "description_width": ""
     }
    }
   }
  }
 },
 "cells": [
  {
   "cell_type": "code",
   "metadata": {
    "id": "1SHX7NqQbEsM",
    "ExecuteTime": {
     "end_time": "2025-09-29T22:49:55.638685Z",
     "start_time": "2025-09-29T22:49:55.636181Z"
    }
   },
   "source": [
    "#importamos librerias básicas\n",
    "import pandas as pd #manipulación dataframes\n",
    "import numpy as np #matrices y vectores\n",
    "import matplotlib.pyplot as plt #graficación"
   ],
   "outputs": [],
   "execution_count": 13
  },
  {
   "cell_type": "code",
   "source": [
    "data=pd.read_excel(\"./data/Base de datos UBER.xlsx\")\n",
    "data.head() #Listar las primeras filas de data"
   ],
   "metadata": {
    "colab": {
     "base_uri": "https://localhost:8080/",
     "height": 327
    },
    "id": "jVwAiAlmb1CS",
    "outputId": "0fbe91d1-a314-4dc9-febb-65675659ba1c",
    "ExecuteTime": {
     "end_time": "2025-09-29T22:50:02.332014Z",
     "start_time": "2025-09-29T22:49:55.658115Z"
    }
   },
   "outputs": [
    {
     "data": {
      "text/plain": [
       "        Date      Time   Booking Status  Avg VTAT  Avg CTAT  \\\n",
       "0 2024-03-23  12:29:38  No Driver Found       0.0       0.0   \n",
       "1 2024-11-29  18:01:39       Incomplete       4.9       0.0   \n",
       "2 2024-08-23  08:56:10        Completed      13.4       0.0   \n",
       "3 2024-10-21  17:17:25        Completed      13.1       0.0   \n",
       "4 2024-09-16  22:08:00        Completed       5.3       0.0   \n",
       "\n",
       "  Cancelled Rides by Customer Reason for cancelling by Customer  \\\n",
       "0                          No                         No Report   \n",
       "1                          No                         No Report   \n",
       "2                          No                         No Report   \n",
       "3                          No                         No Report   \n",
       "4                          No                         No Report   \n",
       "\n",
       "  Cancelled Rides by Driver Driver Cancellation Reason Incomplete Rides  \\\n",
       "0                        No                  No Report               No   \n",
       "1                        No                  No Report               Si   \n",
       "2                        No                  No Report               No   \n",
       "3                        No                  No Report               No   \n",
       "4                        No                  No Report               No   \n",
       "\n",
       "  Incomplete Rides Reason  Booking Value  Ride Distance Payment Method  \n",
       "0               No Report              0           0.00      No Report  \n",
       "1       Vehicle Breakdown            237           5.73            UPI  \n",
       "2               No Report            627          13.58     Debit Card  \n",
       "3               No Report            416          34.02            UPI  \n",
       "4               No Report            737          48.21            UPI  "
      ],
      "text/html": [
       "<div>\n",
       "<style scoped>\n",
       "    .dataframe tbody tr th:only-of-type {\n",
       "        vertical-align: middle;\n",
       "    }\n",
       "\n",
       "    .dataframe tbody tr th {\n",
       "        vertical-align: top;\n",
       "    }\n",
       "\n",
       "    .dataframe thead th {\n",
       "        text-align: right;\n",
       "    }\n",
       "</style>\n",
       "<table border=\"1\" class=\"dataframe\">\n",
       "  <thead>\n",
       "    <tr style=\"text-align: right;\">\n",
       "      <th></th>\n",
       "      <th>Date</th>\n",
       "      <th>Time</th>\n",
       "      <th>Booking Status</th>\n",
       "      <th>Avg VTAT</th>\n",
       "      <th>Avg CTAT</th>\n",
       "      <th>Cancelled Rides by Customer</th>\n",
       "      <th>Reason for cancelling by Customer</th>\n",
       "      <th>Cancelled Rides by Driver</th>\n",
       "      <th>Driver Cancellation Reason</th>\n",
       "      <th>Incomplete Rides</th>\n",
       "      <th>Incomplete Rides Reason</th>\n",
       "      <th>Booking Value</th>\n",
       "      <th>Ride Distance</th>\n",
       "      <th>Payment Method</th>\n",
       "    </tr>\n",
       "  </thead>\n",
       "  <tbody>\n",
       "    <tr>\n",
       "      <th>0</th>\n",
       "      <td>2024-03-23</td>\n",
       "      <td>12:29:38</td>\n",
       "      <td>No Driver Found</td>\n",
       "      <td>0.0</td>\n",
       "      <td>0.0</td>\n",
       "      <td>No</td>\n",
       "      <td>No Report</td>\n",
       "      <td>No</td>\n",
       "      <td>No Report</td>\n",
       "      <td>No</td>\n",
       "      <td>No Report</td>\n",
       "      <td>0</td>\n",
       "      <td>0.00</td>\n",
       "      <td>No Report</td>\n",
       "    </tr>\n",
       "    <tr>\n",
       "      <th>1</th>\n",
       "      <td>2024-11-29</td>\n",
       "      <td>18:01:39</td>\n",
       "      <td>Incomplete</td>\n",
       "      <td>4.9</td>\n",
       "      <td>0.0</td>\n",
       "      <td>No</td>\n",
       "      <td>No Report</td>\n",
       "      <td>No</td>\n",
       "      <td>No Report</td>\n",
       "      <td>Si</td>\n",
       "      <td>Vehicle Breakdown</td>\n",
       "      <td>237</td>\n",
       "      <td>5.73</td>\n",
       "      <td>UPI</td>\n",
       "    </tr>\n",
       "    <tr>\n",
       "      <th>2</th>\n",
       "      <td>2024-08-23</td>\n",
       "      <td>08:56:10</td>\n",
       "      <td>Completed</td>\n",
       "      <td>13.4</td>\n",
       "      <td>0.0</td>\n",
       "      <td>No</td>\n",
       "      <td>No Report</td>\n",
       "      <td>No</td>\n",
       "      <td>No Report</td>\n",
       "      <td>No</td>\n",
       "      <td>No Report</td>\n",
       "      <td>627</td>\n",
       "      <td>13.58</td>\n",
       "      <td>Debit Card</td>\n",
       "    </tr>\n",
       "    <tr>\n",
       "      <th>3</th>\n",
       "      <td>2024-10-21</td>\n",
       "      <td>17:17:25</td>\n",
       "      <td>Completed</td>\n",
       "      <td>13.1</td>\n",
       "      <td>0.0</td>\n",
       "      <td>No</td>\n",
       "      <td>No Report</td>\n",
       "      <td>No</td>\n",
       "      <td>No Report</td>\n",
       "      <td>No</td>\n",
       "      <td>No Report</td>\n",
       "      <td>416</td>\n",
       "      <td>34.02</td>\n",
       "      <td>UPI</td>\n",
       "    </tr>\n",
       "    <tr>\n",
       "      <th>4</th>\n",
       "      <td>2024-09-16</td>\n",
       "      <td>22:08:00</td>\n",
       "      <td>Completed</td>\n",
       "      <td>5.3</td>\n",
       "      <td>0.0</td>\n",
       "      <td>No</td>\n",
       "      <td>No Report</td>\n",
       "      <td>No</td>\n",
       "      <td>No Report</td>\n",
       "      <td>No</td>\n",
       "      <td>No Report</td>\n",
       "      <td>737</td>\n",
       "      <td>48.21</td>\n",
       "      <td>UPI</td>\n",
       "    </tr>\n",
       "  </tbody>\n",
       "</table>\n",
       "</div>"
      ]
     },
     "execution_count": 14,
     "metadata": {},
     "output_type": "execute_result"
    }
   ],
   "execution_count": 14
  },
  {
   "cell_type": "code",
   "source": [
    "data.info()"
   ],
   "metadata": {
    "colab": {
     "base_uri": "https://localhost:8080/"
    },
    "id": "NP_UgDuAb5VZ",
    "outputId": "dc392263-e9e5-4281-d6aa-fe72424d0d26",
    "ExecuteTime": {
     "end_time": "2025-09-29T22:50:02.437157Z",
     "start_time": "2025-09-29T22:50:02.411995Z"
    }
   },
   "outputs": [
    {
     "name": "stdout",
     "output_type": "stream",
     "text": [
      "<class 'pandas.core.frame.DataFrame'>\n",
      "RangeIndex: 150000 entries, 0 to 149999\n",
      "Data columns (total 14 columns):\n",
      " #   Column                             Non-Null Count   Dtype         \n",
      "---  ------                             --------------   -----         \n",
      " 0   Date                               150000 non-null  datetime64[ns]\n",
      " 1   Time                               150000 non-null  object        \n",
      " 2   Booking Status                     150000 non-null  object        \n",
      " 3   Avg VTAT                           150000 non-null  float64       \n",
      " 4   Avg CTAT                           150000 non-null  float64       \n",
      " 5   Cancelled Rides by Customer        150000 non-null  object        \n",
      " 6   Reason for cancelling by Customer  150000 non-null  object        \n",
      " 7   Cancelled Rides by Driver          150000 non-null  object        \n",
      " 8   Driver Cancellation Reason         150000 non-null  object        \n",
      " 9   Incomplete Rides                   150000 non-null  object        \n",
      " 10  Incomplete Rides Reason            150000 non-null  object        \n",
      " 11  Booking Value                      150000 non-null  int64         \n",
      " 12  Ride Distance                      150000 non-null  float64       \n",
      " 13  Payment Method                     150000 non-null  object        \n",
      "dtypes: datetime64[ns](1), float64(3), int64(1), object(9)\n",
      "memory usage: 16.0+ MB\n"
     ]
    }
   ],
   "execution_count": 15
  },
  {
   "cell_type": "code",
   "source": [
    "import pandas as pd\n",
    "import numpy as np\n",
    "from sklearn.preprocessing import StandardScaler\n",
    "\n",
    "# Re-create the 'DateTime' column by combining 'Date' and 'Time'\n",
    "data['DateTime'] = pd.to_datetime(data['Date'].astype(str) + ' ' + data['Time'].astype(str), errors='coerce')\n",
    "\n",
    "# Drop the original 'Date' and 'Time' columns\n",
    "data = data.drop(['Date', 'Time'], axis=1)\n",
    "\n",
    "\n",
    "# --- 1. Convertir DateTime ---\n",
    "# The 'DateTime' column already exists and is in datetime format\n",
    "data[\"fecha\"] = data[\"DateTime\"]\n",
    "data[\"hora\"] = data[\"DateTime\"].dt.hour\n",
    "\n",
    "# --- 2. Extraer características de fecha ---\n",
    "data[\"anio\"] = data[\"fecha\"].dt.year\n",
    "data[\"mes\"] = data[\"fecha\"].dt.month\n",
    "data[\"dia_semana\"] = data[\"fecha\"].dt.dayofweek   # 0=lunes, 6=domingo\n",
    "\n",
    "# --- 3. Codificar hora de manera cíclica ---\n",
    "data[\"hora_sin\"] = np.sin(2 * np.pi * data[\"hora\"] / 24)\n",
    "data[\"hora_cos\"] = np.cos(2 * np.pi * data[\"hora\"] / 24)\n",
    "\n",
    "# --- 4. (Opcional) Discretizar hora en franjas horarias ---\n",
    "def discretizar_hora(hora):\n",
    "    if 5 <= hora < 12:\n",
    "        return \"mañana\"\n",
    "    elif 12 <= hora < 18:\n",
    "        return \"tarde\"\n",
    "    elif 18 <= hora < 24:\n",
    "        return \"noche\"\n",
    "    else:\n",
    "        return \"madrugada\"\n",
    "\n",
    "data[\"franja_horaria\"] = data[\"hora\"].apply(discretizar_hora)\n",
    "\n",
    "# Convertir franja_horaria en variables dummy\n",
    "data = pd.get_dummies(data, columns=[\"franja_horaria\"], dtype=int)"
   ],
   "metadata": {
    "id": "-Yz2VvGvUfNb",
    "ExecuteTime": {
     "end_time": "2025-09-29T22:50:02.629667Z",
     "start_time": "2025-09-29T22:50:02.458008Z"
    }
   },
   "outputs": [],
   "execution_count": 16
  },
  {
   "cell_type": "code",
   "source": [
    "# Función para asignar estación según mes\n",
    "def asignar_estacion(mes):\n",
    "    if mes in [12, 1, 2]:\n",
    "        return \"Invierno\"\n",
    "    elif mes in [3, 4, 5]:\n",
    "        return \"Verano\"\n",
    "    elif mes in [6, 7, 8, 9]:\n",
    "        return \"Monzon\"\n",
    "    else:  # 10, 11\n",
    "        return \"Post-Monzon\"\n",
    "\n",
    "# Crear columna de estación\n",
    "data[\"estacion\"] = data[\"mes\"].map(asignar_estacion)\n",
    "\n",
    "# Crear variables dummies sin borrar nada más\n",
    "data = pd.get_dummies(data, columns=[\"estacion\"], drop_first=False, dtype=int)"
   ],
   "metadata": {
    "id": "7z4fZaegUkaQ",
    "ExecuteTime": {
     "end_time": "2025-09-29T22:50:02.678513Z",
     "start_time": "2025-09-29T22:50:02.638896Z"
    }
   },
   "outputs": [],
   "execution_count": 17
  },
  {
   "cell_type": "code",
   "source": [
    "data.info()"
   ],
   "metadata": {
    "colab": {
     "base_uri": "https://localhost:8080/"
    },
    "id": "qQEHnbGKU3BO",
    "outputId": "65babc7e-6964-4643-ab34-6e71496f5bf1",
    "ExecuteTime": {
     "end_time": "2025-09-29T22:50:02.707448Z",
     "start_time": "2025-09-29T22:50:02.685506Z"
    }
   },
   "outputs": [
    {
     "name": "stdout",
     "output_type": "stream",
     "text": [
      "<class 'pandas.core.frame.DataFrame'>\n",
      "RangeIndex: 150000 entries, 0 to 149999\n",
      "Data columns (total 28 columns):\n",
      " #   Column                             Non-Null Count   Dtype         \n",
      "---  ------                             --------------   -----         \n",
      " 0   Booking Status                     150000 non-null  object        \n",
      " 1   Avg VTAT                           150000 non-null  float64       \n",
      " 2   Avg CTAT                           150000 non-null  float64       \n",
      " 3   Cancelled Rides by Customer        150000 non-null  object        \n",
      " 4   Reason for cancelling by Customer  150000 non-null  object        \n",
      " 5   Cancelled Rides by Driver          150000 non-null  object        \n",
      " 6   Driver Cancellation Reason         150000 non-null  object        \n",
      " 7   Incomplete Rides                   150000 non-null  object        \n",
      " 8   Incomplete Rides Reason            150000 non-null  object        \n",
      " 9   Booking Value                      150000 non-null  int64         \n",
      " 10  Ride Distance                      150000 non-null  float64       \n",
      " 11  Payment Method                     150000 non-null  object        \n",
      " 12  DateTime                           150000 non-null  datetime64[ns]\n",
      " 13  fecha                              150000 non-null  datetime64[ns]\n",
      " 14  hora                               150000 non-null  int32         \n",
      " 15  anio                               150000 non-null  int32         \n",
      " 16  mes                                150000 non-null  int32         \n",
      " 17  dia_semana                         150000 non-null  int32         \n",
      " 18  hora_sin                           150000 non-null  float64       \n",
      " 19  hora_cos                           150000 non-null  float64       \n",
      " 20  franja_horaria_madrugada           150000 non-null  int64         \n",
      " 21  franja_horaria_mañana              150000 non-null  int64         \n",
      " 22  franja_horaria_noche               150000 non-null  int64         \n",
      " 23  franja_horaria_tarde               150000 non-null  int64         \n",
      " 24  estacion_Invierno                  150000 non-null  int64         \n",
      " 25  estacion_Monzon                    150000 non-null  int64         \n",
      " 26  estacion_Post-Monzon               150000 non-null  int64         \n",
      " 27  estacion_Verano                    150000 non-null  int64         \n",
      "dtypes: datetime64[ns](2), float64(5), int32(4), int64(9), object(8)\n",
      "memory usage: 29.8+ MB\n"
     ]
    }
   ],
   "execution_count": 18
  },
  {
   "cell_type": "code",
   "source": [
    "#Eliminar una columna\n",
    "data = data.drop(['DateTime','fecha','hora','anio','mes','dia_semana','hora_cos','hora_sin'], axis=1)\n",
    "data.head()"
   ],
   "metadata": {
    "colab": {
     "base_uri": "https://localhost:8080/",
     "height": 377
    },
    "id": "h-h4-mWaUt_7",
    "outputId": "d0dcee6f-dccc-4f3c-d200-8ff4a38022e0",
    "ExecuteTime": {
     "end_time": "2025-09-29T22:50:02.733646Z",
     "start_time": "2025-09-29T22:50:02.719889Z"
    }
   },
   "outputs": [
    {
     "data": {
      "text/plain": [
       "    Booking Status  Avg VTAT  Avg CTAT Cancelled Rides by Customer  \\\n",
       "0  No Driver Found       0.0       0.0                          No   \n",
       "1       Incomplete       4.9       0.0                          No   \n",
       "2        Completed      13.4       0.0                          No   \n",
       "3        Completed      13.1       0.0                          No   \n",
       "4        Completed       5.3       0.0                          No   \n",
       "\n",
       "  Reason for cancelling by Customer Cancelled Rides by Driver  \\\n",
       "0                         No Report                        No   \n",
       "1                         No Report                        No   \n",
       "2                         No Report                        No   \n",
       "3                         No Report                        No   \n",
       "4                         No Report                        No   \n",
       "\n",
       "  Driver Cancellation Reason Incomplete Rides Incomplete Rides Reason  \\\n",
       "0                  No Report               No               No Report   \n",
       "1                  No Report               Si       Vehicle Breakdown   \n",
       "2                  No Report               No               No Report   \n",
       "3                  No Report               No               No Report   \n",
       "4                  No Report               No               No Report   \n",
       "\n",
       "   Booking Value  Ride Distance Payment Method  franja_horaria_madrugada  \\\n",
       "0              0           0.00      No Report                         0   \n",
       "1            237           5.73            UPI                         0   \n",
       "2            627          13.58     Debit Card                         0   \n",
       "3            416          34.02            UPI                         0   \n",
       "4            737          48.21            UPI                         0   \n",
       "\n",
       "   franja_horaria_mañana  franja_horaria_noche  franja_horaria_tarde  \\\n",
       "0                      0                     0                     1   \n",
       "1                      0                     1                     0   \n",
       "2                      1                     0                     0   \n",
       "3                      0                     0                     1   \n",
       "4                      0                     1                     0   \n",
       "\n",
       "   estacion_Invierno  estacion_Monzon  estacion_Post-Monzon  estacion_Verano  \n",
       "0                  0                0                     0                1  \n",
       "1                  0                0                     1                0  \n",
       "2                  0                1                     0                0  \n",
       "3                  0                0                     1                0  \n",
       "4                  0                1                     0                0  "
      ],
      "text/html": [
       "<div>\n",
       "<style scoped>\n",
       "    .dataframe tbody tr th:only-of-type {\n",
       "        vertical-align: middle;\n",
       "    }\n",
       "\n",
       "    .dataframe tbody tr th {\n",
       "        vertical-align: top;\n",
       "    }\n",
       "\n",
       "    .dataframe thead th {\n",
       "        text-align: right;\n",
       "    }\n",
       "</style>\n",
       "<table border=\"1\" class=\"dataframe\">\n",
       "  <thead>\n",
       "    <tr style=\"text-align: right;\">\n",
       "      <th></th>\n",
       "      <th>Booking Status</th>\n",
       "      <th>Avg VTAT</th>\n",
       "      <th>Avg CTAT</th>\n",
       "      <th>Cancelled Rides by Customer</th>\n",
       "      <th>Reason for cancelling by Customer</th>\n",
       "      <th>Cancelled Rides by Driver</th>\n",
       "      <th>Driver Cancellation Reason</th>\n",
       "      <th>Incomplete Rides</th>\n",
       "      <th>Incomplete Rides Reason</th>\n",
       "      <th>Booking Value</th>\n",
       "      <th>Ride Distance</th>\n",
       "      <th>Payment Method</th>\n",
       "      <th>franja_horaria_madrugada</th>\n",
       "      <th>franja_horaria_mañana</th>\n",
       "      <th>franja_horaria_noche</th>\n",
       "      <th>franja_horaria_tarde</th>\n",
       "      <th>estacion_Invierno</th>\n",
       "      <th>estacion_Monzon</th>\n",
       "      <th>estacion_Post-Monzon</th>\n",
       "      <th>estacion_Verano</th>\n",
       "    </tr>\n",
       "  </thead>\n",
       "  <tbody>\n",
       "    <tr>\n",
       "      <th>0</th>\n",
       "      <td>No Driver Found</td>\n",
       "      <td>0.0</td>\n",
       "      <td>0.0</td>\n",
       "      <td>No</td>\n",
       "      <td>No Report</td>\n",
       "      <td>No</td>\n",
       "      <td>No Report</td>\n",
       "      <td>No</td>\n",
       "      <td>No Report</td>\n",
       "      <td>0</td>\n",
       "      <td>0.00</td>\n",
       "      <td>No Report</td>\n",
       "      <td>0</td>\n",
       "      <td>0</td>\n",
       "      <td>0</td>\n",
       "      <td>1</td>\n",
       "      <td>0</td>\n",
       "      <td>0</td>\n",
       "      <td>0</td>\n",
       "      <td>1</td>\n",
       "    </tr>\n",
       "    <tr>\n",
       "      <th>1</th>\n",
       "      <td>Incomplete</td>\n",
       "      <td>4.9</td>\n",
       "      <td>0.0</td>\n",
       "      <td>No</td>\n",
       "      <td>No Report</td>\n",
       "      <td>No</td>\n",
       "      <td>No Report</td>\n",
       "      <td>Si</td>\n",
       "      <td>Vehicle Breakdown</td>\n",
       "      <td>237</td>\n",
       "      <td>5.73</td>\n",
       "      <td>UPI</td>\n",
       "      <td>0</td>\n",
       "      <td>0</td>\n",
       "      <td>1</td>\n",
       "      <td>0</td>\n",
       "      <td>0</td>\n",
       "      <td>0</td>\n",
       "      <td>1</td>\n",
       "      <td>0</td>\n",
       "    </tr>\n",
       "    <tr>\n",
       "      <th>2</th>\n",
       "      <td>Completed</td>\n",
       "      <td>13.4</td>\n",
       "      <td>0.0</td>\n",
       "      <td>No</td>\n",
       "      <td>No Report</td>\n",
       "      <td>No</td>\n",
       "      <td>No Report</td>\n",
       "      <td>No</td>\n",
       "      <td>No Report</td>\n",
       "      <td>627</td>\n",
       "      <td>13.58</td>\n",
       "      <td>Debit Card</td>\n",
       "      <td>0</td>\n",
       "      <td>1</td>\n",
       "      <td>0</td>\n",
       "      <td>0</td>\n",
       "      <td>0</td>\n",
       "      <td>1</td>\n",
       "      <td>0</td>\n",
       "      <td>0</td>\n",
       "    </tr>\n",
       "    <tr>\n",
       "      <th>3</th>\n",
       "      <td>Completed</td>\n",
       "      <td>13.1</td>\n",
       "      <td>0.0</td>\n",
       "      <td>No</td>\n",
       "      <td>No Report</td>\n",
       "      <td>No</td>\n",
       "      <td>No Report</td>\n",
       "      <td>No</td>\n",
       "      <td>No Report</td>\n",
       "      <td>416</td>\n",
       "      <td>34.02</td>\n",
       "      <td>UPI</td>\n",
       "      <td>0</td>\n",
       "      <td>0</td>\n",
       "      <td>0</td>\n",
       "      <td>1</td>\n",
       "      <td>0</td>\n",
       "      <td>0</td>\n",
       "      <td>1</td>\n",
       "      <td>0</td>\n",
       "    </tr>\n",
       "    <tr>\n",
       "      <th>4</th>\n",
       "      <td>Completed</td>\n",
       "      <td>5.3</td>\n",
       "      <td>0.0</td>\n",
       "      <td>No</td>\n",
       "      <td>No Report</td>\n",
       "      <td>No</td>\n",
       "      <td>No Report</td>\n",
       "      <td>No</td>\n",
       "      <td>No Report</td>\n",
       "      <td>737</td>\n",
       "      <td>48.21</td>\n",
       "      <td>UPI</td>\n",
       "      <td>0</td>\n",
       "      <td>0</td>\n",
       "      <td>1</td>\n",
       "      <td>0</td>\n",
       "      <td>0</td>\n",
       "      <td>1</td>\n",
       "      <td>0</td>\n",
       "      <td>0</td>\n",
       "    </tr>\n",
       "  </tbody>\n",
       "</table>\n",
       "</div>"
      ]
     },
     "execution_count": 19,
     "metadata": {},
     "output_type": "execute_result"
    }
   ],
   "execution_count": 19
  },
  {
   "cell_type": "code",
   "source": [
    "#Corrección de variables categóricas\n",
    "data['Vehicle Type']=data['Vehicle Type'].astype('category')\n",
    "data['Booking Status']=data['Booking Status'].astype('category')\n",
    "data['Cancelled Rides by Customer']=data['Cancelled Rides by Customer'].astype('category')\n",
    "data['Reason for cancelling by Customer']=data['Reason for cancelling by Customer'].astype('category')\n",
    "data['Cancelled Rides by Driver']=data['Cancelled Rides by Driver'].astype('category')\n",
    "data['Driver Cancellation Reason']=data['Driver Cancellation Reason'].astype('category')\n",
    "data['Incomplete Rides']=data['Incomplete Rides'].astype('category')\n",
    "data['Incomplete Rides Reason']=data['Incomplete Rides Reason'].astype('category')\n",
    "data['Payment Method']=data['Payment Method'].astype('category')\n",
    "\n",
    "data.info()"
   ],
   "metadata": {
    "colab": {
     "base_uri": "https://localhost:8080/"
    },
    "id": "lLV-pOueb7F6",
    "outputId": "e4d8dcf5-a9e8-4027-f297-a5a9b4fdd60b",
    "ExecuteTime": {
     "end_time": "2025-09-29T22:50:02.797570Z",
     "start_time": "2025-09-29T22:50:02.755931Z"
    }
   },
   "outputs": [
    {
     "ename": "KeyError",
     "evalue": "'Vehicle Type'",
     "output_type": "error",
     "traceback": [
      "\u001B[31m---------------------------------------------------------------------------\u001B[39m",
      "\u001B[31mKeyError\u001B[39m                                  Traceback (most recent call last)",
      "\u001B[36mFile \u001B[39m\u001B[32m~/Desktop/INT_NEG/MineriaDeDatos/UberMineria/.venv/lib/python3.12/site-packages/pandas/core/indexes/base.py:3812\u001B[39m, in \u001B[36mIndex.get_loc\u001B[39m\u001B[34m(self, key)\u001B[39m\n\u001B[32m   3811\u001B[39m \u001B[38;5;28;01mtry\u001B[39;00m:\n\u001B[32m-> \u001B[39m\u001B[32m3812\u001B[39m     \u001B[38;5;28;01mreturn\u001B[39;00m \u001B[38;5;28;43mself\u001B[39;49m\u001B[43m.\u001B[49m\u001B[43m_engine\u001B[49m\u001B[43m.\u001B[49m\u001B[43mget_loc\u001B[49m\u001B[43m(\u001B[49m\u001B[43mcasted_key\u001B[49m\u001B[43m)\u001B[49m\n\u001B[32m   3813\u001B[39m \u001B[38;5;28;01mexcept\u001B[39;00m \u001B[38;5;167;01mKeyError\u001B[39;00m \u001B[38;5;28;01mas\u001B[39;00m err:\n",
      "\u001B[36mFile \u001B[39m\u001B[32mpandas/_libs/index.pyx:167\u001B[39m, in \u001B[36mpandas._libs.index.IndexEngine.get_loc\u001B[39m\u001B[34m()\u001B[39m\n",
      "\u001B[36mFile \u001B[39m\u001B[32mpandas/_libs/index.pyx:196\u001B[39m, in \u001B[36mpandas._libs.index.IndexEngine.get_loc\u001B[39m\u001B[34m()\u001B[39m\n",
      "\u001B[36mFile \u001B[39m\u001B[32mpandas/_libs/hashtable_class_helper.pxi:7088\u001B[39m, in \u001B[36mpandas._libs.hashtable.PyObjectHashTable.get_item\u001B[39m\u001B[34m()\u001B[39m\n",
      "\u001B[36mFile \u001B[39m\u001B[32mpandas/_libs/hashtable_class_helper.pxi:7096\u001B[39m, in \u001B[36mpandas._libs.hashtable.PyObjectHashTable.get_item\u001B[39m\u001B[34m()\u001B[39m\n",
      "\u001B[31mKeyError\u001B[39m: 'Vehicle Type'",
      "\nThe above exception was the direct cause of the following exception:\n",
      "\u001B[31mKeyError\u001B[39m                                  Traceback (most recent call last)",
      "\u001B[36mCell\u001B[39m\u001B[36m \u001B[39m\u001B[32mIn[20]\u001B[39m\u001B[32m, line 2\u001B[39m\n\u001B[32m      1\u001B[39m \u001B[38;5;66;03m#Corrección de variables categóricas\u001B[39;00m\n\u001B[32m----> \u001B[39m\u001B[32m2\u001B[39m data[\u001B[33m'\u001B[39m\u001B[33mVehicle Type\u001B[39m\u001B[33m'\u001B[39m]=\u001B[43mdata\u001B[49m\u001B[43m[\u001B[49m\u001B[33;43m'\u001B[39;49m\u001B[33;43mVehicle Type\u001B[39;49m\u001B[33;43m'\u001B[39;49m\u001B[43m]\u001B[49m.astype(\u001B[33m'\u001B[39m\u001B[33mcategory\u001B[39m\u001B[33m'\u001B[39m)\n\u001B[32m      3\u001B[39m data[\u001B[33m'\u001B[39m\u001B[33mBooking Status\u001B[39m\u001B[33m'\u001B[39m]=data[\u001B[33m'\u001B[39m\u001B[33mBooking Status\u001B[39m\u001B[33m'\u001B[39m].astype(\u001B[33m'\u001B[39m\u001B[33mcategory\u001B[39m\u001B[33m'\u001B[39m)\n\u001B[32m      4\u001B[39m data[\u001B[33m'\u001B[39m\u001B[33mCancelled Rides by Customer\u001B[39m\u001B[33m'\u001B[39m]=data[\u001B[33m'\u001B[39m\u001B[33mCancelled Rides by Customer\u001B[39m\u001B[33m'\u001B[39m].astype(\u001B[33m'\u001B[39m\u001B[33mcategory\u001B[39m\u001B[33m'\u001B[39m)\n",
      "\u001B[36mFile \u001B[39m\u001B[32m~/Desktop/INT_NEG/MineriaDeDatos/UberMineria/.venv/lib/python3.12/site-packages/pandas/core/frame.py:4107\u001B[39m, in \u001B[36mDataFrame.__getitem__\u001B[39m\u001B[34m(self, key)\u001B[39m\n\u001B[32m   4105\u001B[39m \u001B[38;5;28;01mif\u001B[39;00m \u001B[38;5;28mself\u001B[39m.columns.nlevels > \u001B[32m1\u001B[39m:\n\u001B[32m   4106\u001B[39m     \u001B[38;5;28;01mreturn\u001B[39;00m \u001B[38;5;28mself\u001B[39m._getitem_multilevel(key)\n\u001B[32m-> \u001B[39m\u001B[32m4107\u001B[39m indexer = \u001B[38;5;28;43mself\u001B[39;49m\u001B[43m.\u001B[49m\u001B[43mcolumns\u001B[49m\u001B[43m.\u001B[49m\u001B[43mget_loc\u001B[49m\u001B[43m(\u001B[49m\u001B[43mkey\u001B[49m\u001B[43m)\u001B[49m\n\u001B[32m   4108\u001B[39m \u001B[38;5;28;01mif\u001B[39;00m is_integer(indexer):\n\u001B[32m   4109\u001B[39m     indexer = [indexer]\n",
      "\u001B[36mFile \u001B[39m\u001B[32m~/Desktop/INT_NEG/MineriaDeDatos/UberMineria/.venv/lib/python3.12/site-packages/pandas/core/indexes/base.py:3819\u001B[39m, in \u001B[36mIndex.get_loc\u001B[39m\u001B[34m(self, key)\u001B[39m\n\u001B[32m   3814\u001B[39m     \u001B[38;5;28;01mif\u001B[39;00m \u001B[38;5;28misinstance\u001B[39m(casted_key, \u001B[38;5;28mslice\u001B[39m) \u001B[38;5;129;01mor\u001B[39;00m (\n\u001B[32m   3815\u001B[39m         \u001B[38;5;28misinstance\u001B[39m(casted_key, abc.Iterable)\n\u001B[32m   3816\u001B[39m         \u001B[38;5;129;01mand\u001B[39;00m \u001B[38;5;28many\u001B[39m(\u001B[38;5;28misinstance\u001B[39m(x, \u001B[38;5;28mslice\u001B[39m) \u001B[38;5;28;01mfor\u001B[39;00m x \u001B[38;5;129;01min\u001B[39;00m casted_key)\n\u001B[32m   3817\u001B[39m     ):\n\u001B[32m   3818\u001B[39m         \u001B[38;5;28;01mraise\u001B[39;00m InvalidIndexError(key)\n\u001B[32m-> \u001B[39m\u001B[32m3819\u001B[39m     \u001B[38;5;28;01mraise\u001B[39;00m \u001B[38;5;167;01mKeyError\u001B[39;00m(key) \u001B[38;5;28;01mfrom\u001B[39;00m\u001B[38;5;250m \u001B[39m\u001B[34;01merr\u001B[39;00m\n\u001B[32m   3820\u001B[39m \u001B[38;5;28;01mexcept\u001B[39;00m \u001B[38;5;167;01mTypeError\u001B[39;00m:\n\u001B[32m   3821\u001B[39m     \u001B[38;5;66;03m# If we have a listlike key, _check_indexing_error will raise\u001B[39;00m\n\u001B[32m   3822\u001B[39m     \u001B[38;5;66;03m#  InvalidIndexError. Otherwise we fall through and re-raise\u001B[39;00m\n\u001B[32m   3823\u001B[39m     \u001B[38;5;66;03m#  the TypeError.\u001B[39;00m\n\u001B[32m   3824\u001B[39m     \u001B[38;5;28mself\u001B[39m._check_indexing_error(key)\n",
      "\u001B[31mKeyError\u001B[39m: 'Vehicle Type'"
     ]
    }
   ],
   "execution_count": 20
  },
  {
   "cell_type": "code",
   "source": [
    "#Descripción de variables numéricas (para mirar si hay problemas de calidad de datos)\n",
    "data.describe()"
   ],
   "metadata": {
    "colab": {
     "base_uri": "https://localhost:8080/",
     "height": 337
    },
    "id": "mfhofZIvce1e",
    "outputId": "492913a2-960a-4a74-8a74-37e254afc795"
   },
   "outputs": [],
   "execution_count": null
  },
  {
   "cell_type": "code",
   "source": [
    "#Descripción variables categóricas\n",
    "data['Vehicle Type'].value_counts().plot(kind='bar')"
   ],
   "metadata": {
    "colab": {
     "base_uri": "https://localhost:8080/",
     "height": 555
    },
    "id": "_KyLQhCucxpa",
    "outputId": "ec8994a8-e7f4-47e4-828e-1f3f3c381e60"
   },
   "outputs": [],
   "execution_count": null
  },
  {
   "cell_type": "code",
   "source": [
    "data['Booking Status'].value_counts().plot(kind='pie', autopct='%.0f%%')"
   ],
   "metadata": {
    "colab": {
     "base_uri": "https://localhost:8080/",
     "height": 424
    },
    "id": "AWyw3_isddrw",
    "outputId": "75fd9777-a306-43bc-fa26-698ecfc7fdd6"
   },
   "outputs": [],
   "execution_count": null
  },
  {
   "cell_type": "code",
   "source": [
    "!pip install ydata-profiling"
   ],
   "metadata": {
    "colab": {
     "base_uri": "https://localhost:8080/"
    },
    "id": "LXrnuz6MdfPG",
    "outputId": "94872ad5-0a00-4dfa-a814-78de55d7ef6b"
   },
   "outputs": [],
   "execution_count": null
  },
  {
   "cell_type": "code",
   "source": [
    "# Cargar librería para Profiling\n",
    "from pandas_profiling import ProfileReport"
   ],
   "metadata": {
    "id": "T03NPOWsdkKw"
   },
   "outputs": [],
   "execution_count": null
  },
  {
   "cell_type": "code",
   "source": [
    "profile_data=ProfileReport(data, minimal=False) # minimal=True\n",
    "profile_data"
   ],
   "metadata": {
    "colab": {
     "base_uri": "https://localhost:8080/",
     "height": 1000,
     "referenced_widgets": [
      "6891b97b75724cae801ed0c7df50aa29",
      "f41d304b27034b1ca6ac831dbf48607e",
      "becaf2d17e3d4b37b72cd8046d1525ff",
      "2a698eb617dc4bdfac627279cd8e4dbe",
      "7ccb70b2e6ad42e0904b2b34c784c14c",
      "60622e4cc82e43078a6e8b50377f87df",
      "70bdfd24d2f0469db22ca82b6d73fef5",
      "3d6c600a0933430598686c3f57797f28",
      "636d330bbf144799a87bb51f109ceb93",
      "0b5afeb60d70421bac16d37ec7ba1ba5",
      "441c74a9542244d8a064be1ab2426d46",
      "36dcddec012f49fb9614fd079fabfc14",
      "61317b0793ad49cf832a87d2080231d7",
      "0b9c09f842d44479be894a5dcada5d9c",
      "198e8054d2ff428184292d99498e35c0",
      "84c025ee1ebe4f818f1afb2349eeb2a7",
      "61e4fb4aba8f4a239e5f3c41aeaffb14",
      "0b7e4c70a91e4ebabbcde35ab3d2149c",
      "b8cc809986114ba885c259ed6c64263a",
      "fe74848be9da4016aeda9504ec969fb0",
      "ac520ce6e97642e19f46b91ff15a4e37",
      "58b146ccfabe4b55b5935f1decaab65f",
      "71e6d0b0a07547b181f9c124fd738bd4",
      "2677da8951844ab28dc4f11b5e34f138",
      "6f657e0c008b40128f9f4c5418e7638b",
      "f1f87fa151dd47578949b5dcb5b023da",
      "a2042c0a800f481f863f54fa3428c55f",
      "4ac316015f64463d862c5bfeb7ae8b8e",
      "3bfe994568c143209a97369e0a6c03ba",
      "9c555493bd374bc49f9d8c8a60750eb9",
      "6da379a9379f48f19b9318072dd22aea",
      "ad474009336f4cc589894ef083056d65",
      "fb46c493d363458fb65b1f89b632eb4b"
     ]
    },
    "id": "qgFKlhmldrX4",
    "outputId": "25637a8b-304d-450c-8480-1a843c46c7fc"
   },
   "outputs": [],
   "execution_count": null
  },
  {
   "cell_type": "code",
   "source": [
    "#Guardamos en html el perfilado de datos (para poder compartirlo como un informe en cualquier máquina)\n",
    "profile_data.to_file(output_file=\"output.html\")"
   ],
   "metadata": {
    "colab": {
     "base_uri": "https://localhost:8080/",
     "height": 49,
     "referenced_widgets": [
      "6ba76dfb549a4c0582466d51d4800496",
      "990aba5b1cf54c74b841b01f53370ec1",
      "c9cbb16148eb4efc80bb6fa615f4ccf8",
      "05be0f1e4e304bb5b34c5619d65dc21d",
      "7b634a07fbfc45f3bdfeaacb3dd22dfe",
      "ccf8251852be4a88b65ceef7c0db26b9",
      "b52665be88a44e08a77659fa3d6d730c",
      "4a60a61835af4decba42801dbe68cb75",
      "1e340495cd5945ca82183a20843032d3",
      "2776fc3d74854a94a5ab23ddc7cddd5c",
      "2948238f949a456abfc3492addf035bd"
     ]
    },
    "id": "CPr5Bn7WdvOR",
    "outputId": "92e31bcd-1db5-4c56-81f8-d2f4ba860b45"
   },
   "outputs": [],
   "execution_count": null
  },
  {
   "cell_type": "code",
   "source": [
    "#Se crean dummies a las variables predictoras categóricas (no a la variable obj)\n",
    "data = pd.get_dummies(data, columns=['Vehicle Type','Reason for cancelling by Customer','Cancelled Rides by Driver','Driver Cancellation Reason','Incomplete Rides','Incomplete Rides Reason','Payment Method','Cancelled Rides by Customer'], drop_first=False, dtype=int)\n",
    "data.head()"
   ],
   "metadata": {
    "colab": {
     "base_uri": "https://localhost:8080/",
     "height": 325
    },
    "id": "KPxEu-bCfB8X",
    "outputId": "37c3ca35-6c03-4276-f08b-9ae6eeb45afb"
   },
   "outputs": [],
   "execution_count": null
  },
  {
   "cell_type": "code",
   "source": [
    "#Se codifican las categorias de la VARIABLE OBJETIVO\n",
    "\n",
    "from sklearn.preprocessing import LabelEncoder\n",
    "labelencoder = LabelEncoder()\n",
    "data[\"Booking Status\"]=labelencoder.fit_transform(data[\"Booking Status\"]) #Objetivo\n",
    "\n",
    "data.head()"
   ],
   "metadata": {
    "colab": {
     "base_uri": "https://localhost:8080/",
     "height": 307
    },
    "id": "IGSFqI8FflIa",
    "outputId": "7e1f67e1-73c0-4671-adff-c8a609fc77e7"
   },
   "outputs": [],
   "execution_count": null
  },
  {
   "cell_type": "code",
   "source": [
    "#División 70-30\n",
    "from sklearn.model_selection import train_test_split\n",
    "X = data.drop(\"Booking Status\", axis = 1) # Variables predictoras\n",
    "Y = data['Booking Status'] #Variable objetivo\n",
    "X_train, X_test, Y_train, Y_test = train_test_split(X, Y, test_size=0.3, stratify=Y) #Muestreo estratificado (mantiene la proporción de clases de la variable objetivo al dividr datos)\n",
    "Y_train.value_counts().plot(kind='bar')"
   ],
   "metadata": {
    "colab": {
     "base_uri": "https://localhost:8080/",
     "height": 462
    },
    "id": "_bYDcAPOf9aE",
    "outputId": "b027c75f-6236-45d6-d152-a2e1815c0897"
   },
   "outputs": [],
   "execution_count": null
  },
  {
   "cell_type": "code",
   "source": [
    "#Variable objetivo del 30%\n",
    "Y_test.value_counts().plot(kind='bar')"
   ],
   "metadata": {
    "colab": {
     "base_uri": "https://localhost:8080/",
     "height": 462
    },
    "id": "Y4LqzbhghjdX",
    "outputId": "08daf5d9-dc31-4501-aef7-9bcfff620fe1"
   },
   "outputs": [],
   "execution_count": null
  },
  {
   "cell_type": "code",
   "source": [
    "X_train.head()"
   ],
   "metadata": {
    "colab": {
     "base_uri": "https://localhost:8080/",
     "height": 275
    },
    "id": "ZehCYNbehyuv",
    "outputId": "173bbf4d-8883-48a0-8746-6074dd7805ff"
   },
   "outputs": [],
   "execution_count": null
  },
  {
   "cell_type": "code",
   "source": [
    "#Creación del modelo con el conjunto de entrenamiento\n",
    "from sklearn.tree import DecisionTreeClassifier\n",
    "\n",
    "modelTree = DecisionTreeClassifier(criterion='gini', min_samples_leaf=2, max_depth=None) #gini, entropy\n",
    "modelTree.fit(X_train, Y_train) #70% train\n"
   ],
   "metadata": {
    "colab": {
     "base_uri": "https://localhost:8080/",
     "height": 80
    },
    "id": "UrDiHi6aiCcX",
    "outputId": "175003c2-3fa7-4d6d-aa8e-e7e726ba68c9"
   },
   "outputs": [],
   "execution_count": null
  },
  {
   "cell_type": "code",
   "source": [
    "from sklearn.tree import plot_tree\n",
    "plt.figure(figsize=(6,8))\n",
    "plot_tree(modelTree, feature_names=X_train.columns.values, class_names=labelencoder.classes_, rounded=True, filled=True)\n",
    "plt.show()"
   ],
   "metadata": {
    "colab": {
     "base_uri": "https://localhost:8080/",
     "height": 653
    },
    "id": "T792Kw1hi4Tv",
    "outputId": "3a3e9d3b-c60f-41a5-e4aa-6883b01600eb"
   },
   "outputs": [],
   "execution_count": null
  },
  {
   "cell_type": "code",
   "source": [
    "#Evaluación 30%\n",
    "from sklearn import metrics\n",
    "\n",
    "Y_pred = modelTree.predict(X_test) #30% Test\n",
    "print(Y_pred)\n"
   ],
   "metadata": {
    "colab": {
     "base_uri": "https://localhost:8080/"
    },
    "id": "j63Uvlw1jvMq",
    "outputId": "955b3c9d-4936-4fcf-eddf-6d30407bdda5"
   },
   "outputs": [],
   "execution_count": null
  },
  {
   "cell_type": "code",
   "source": [
    "#Exactitud\n",
    "exactitud=metrics.accuracy_score(y_true=Y_test, y_pred=Y_pred)\n",
    "print(exactitud)"
   ],
   "metadata": {
    "colab": {
     "base_uri": "https://localhost:8080/"
    },
    "id": "I_YVoZazkLUE",
    "outputId": "a33b1afa-3c0b-43b5-a055-00c77a1e41ee"
   },
   "outputs": [],
   "execution_count": null
  },
  {
   "cell_type": "code",
   "source": [
    "#Matriz de confusion\n",
    "from sklearn import metrics\n",
    "\n",
    "cm=metrics.confusion_matrix(y_true=Y_test, y_pred=Y_pred)\n",
    "cm"
   ],
   "metadata": {
    "colab": {
     "base_uri": "https://localhost:8080/"
    },
    "id": "Tk8_vWy4kXFO",
    "outputId": "2649acbd-f1ee-48d1-e164-3ced17ca2322"
   },
   "outputs": [],
   "execution_count": null
  },
  {
   "cell_type": "code",
   "source": [
    "#Plot de la matriz de confusion\n",
    "disp=metrics.ConfusionMatrixDisplay(confusion_matrix=cm,display_labels=labelencoder.classes_)\n",
    "disp.plot()"
   ],
   "metadata": {
    "colab": {
     "base_uri": "https://localhost:8080/",
     "height": 467
    },
    "id": "lNE1QmEGkmKe",
    "outputId": "7b00ed28-3b3a-4554-fc6d-efd0f601f20e"
   },
   "outputs": [],
   "execution_count": null
  },
  {
   "cell_type": "code",
   "source": [
    "#Precision, Recall, f1, exactitud\n",
    "print(metrics.classification_report( y_true=Y_test, y_pred=Y_pred, target_names=labelencoder.classes_))"
   ],
   "metadata": {
    "colab": {
     "base_uri": "https://localhost:8080/"
    },
    "id": "46RXtI5dlFbC",
    "outputId": "618f783a-4fb5-4781-c034-d609ebfc77f2"
   },
   "outputs": [],
   "execution_count": null
  },
  {
   "cell_type": "code",
   "source": [
    "#Normalizacion las variables numéricas (las dummies no se normalizan)\n",
    "from sklearn.preprocessing import MinMaxScaler\n",
    "\n",
    "min_max_scaler = MinMaxScaler()\n",
    "min_max_scaler.fit(data[['Avg VTAT']]) #Ajuste de los parametros: max - min\n",
    "\n",
    "#Se aplica la normalización a 70%  y 30%\n",
    "X_train[['Avg VTAT']]= min_max_scaler.transform(X_train[['Avg VTAT']]) #70%\n",
    "X_test[['Avg VTAT']]= min_max_scaler.transform(X_test[['Avg VTAT']]) #30%\n",
    "#X_train[['Avg CTAT']]= min_max_scaler.transform(X_train[['Avg CTAT']]) #70%\n",
    "#X_test[['Avg CTAT']]= min_max_scaler.transform(X_test[['Avg CTAT']]) #30%\n",
    "#X_train[['Booking Value']]= min_max_scaler.transform(X_train[['Booking Value']]) #70%\n",
    "#X_test[['Booking Value']]= min_max_scaler.transform(X_test[['Booking Value']]) #30%\n",
    "#X_train[['Ride Distance']]= min_max_scaler.transform(X_train[['Ride Distance']]) #70%\n",
    "#X_test[['Ride Distance']]= min_max_scaler.transform(X_test[['Ride Distance']]) #30%\n",
    "#X_train.head()"
   ],
   "metadata": {
    "id": "XQvzKCn0u3BY"
   },
   "outputs": [],
   "execution_count": null
  },
  {
   "cell_type": "code",
   "source": [
    "#Normalizacion las variables numéricas (las dummies no se normalizan)\n",
    "from sklearn.preprocessing import MinMaxScaler\n",
    "\n",
    "min_max_scaler = MinMaxScaler()\n",
    "min_max_scaler.fit(data[['Avg CTAT']]) #Ajuste de los parametros: max - min\n",
    "\n",
    "#Se aplica la normalización a 70%  y 30%\n",
    "#X_train[['Avg VTAT']]= min_max_scaler.transform(X_train[['Avg VTAT']]) #70%\n",
    "#X_test[['Avg VTAT']]= min_max_scaler.transform(X_test[['Avg VTAT']]) #30%\n",
    "X_train[['Avg CTAT']]= min_max_scaler.transform(X_train[['Avg CTAT']]) #70%\n",
    "X_test[['Avg CTAT']]= min_max_scaler.transform(X_test[['Avg CTAT']]) #30%\n",
    "#X_train[['Booking Value']]= min_max_scaler.transform(X_train[['Booking Value']]) #70%\n",
    "#X_test[['Booking Value']]= min_max_scaler.transform(X_test[['Booking Value']]) #30%\n",
    "#X_train[['Ride Distance']]= min_max_scaler.transform(X_train[['Ride Distance']]) #70%\n",
    "#X_test[['Ride Distance']]= min_max_scaler.transform(X_test[['Ride Distance']]) #30%\n",
    "#X_train.head()"
   ],
   "metadata": {
    "id": "p7lXYpChd2KG"
   },
   "outputs": [],
   "execution_count": null
  },
  {
   "cell_type": "code",
   "source": [
    "#Normalizacion las variables numéricas (las dummies no se normalizan)\n",
    "from sklearn.preprocessing import MinMaxScaler\n",
    "\n",
    "min_max_scaler = MinMaxScaler()\n",
    "min_max_scaler.fit(data[['Booking Value']]) #Ajuste de los parametros: max - min\n",
    "\n",
    "#Se aplica la normalización a 70%  y 30%\n",
    "#X_train[['Avg VTAT']]= min_max_scaler.transform(X_train[['Avg VTAT']]) #70%\n",
    "#X_test[['Avg VTAT']]= min_max_scaler.transform(X_test[['Avg VTAT']]) #30%\n",
    "#X_train[['Avg CTAT']]= min_max_scaler.transform(X_train[['Avg CTAT']]) #70%\n",
    "#X_test[['Avg CTAT']]= min_max_scaler.transform(X_test[['Avg CTAT']]) #30%\n",
    "X_train[['Booking Value']]= min_max_scaler.transform(X_train[['Booking Value']]) #70%\n",
    "X_test[['Booking Value']]= min_max_scaler.transform(X_test[['Booking Value']]) #30%\n",
    "#X_train[['Ride Distance']]= min_max_scaler.transform(X_train[['Ride Distance']]) #70%\n",
    "#X_test[['Ride Distance']]= min_max_scaler.transform(X_test[['Ride Distance']]) #30%\n",
    "#X_train.head()"
   ],
   "metadata": {
    "id": "immcxwORd8bS"
   },
   "outputs": [],
   "execution_count": null
  },
  {
   "cell_type": "code",
   "source": [
    "#Normalizacion las variables numéricas (las dummies no se normalizan)\n",
    "from sklearn.preprocessing import MinMaxScaler\n",
    "\n",
    "min_max_scaler = MinMaxScaler()\n",
    "min_max_scaler.fit(data[['Ride Distance']]) #Ajuste de los parametros: max - min\n",
    "\n",
    "#Se aplica la normalización a 70%  y 30%\n",
    "#X_train[['Avg VTAT']]= min_max_scaler.transform(X_train[['Avg VTAT']]) #70%\n",
    "#X_test[['Avg VTAT']]= min_max_scaler.transform(X_test[['Avg VTAT']]) #30%\n",
    "#X_train[['Avg CTAT']]= min_max_scaler.transform(X_train[['Avg CTAT']]) #70%\n",
    "#X_test[['Avg CTAT']]= min_max_scaler.transform(X_test[['Avg CTAT']]) #30%\n",
    "#X_train[['Booking Value']]= min_max_scaler.transform(X_train[['Booking Value']]) #70%\n",
    "#X_test[['Booking Value']]= min_max_scaler.transform(X_test[['Booking Value']]) #30%\n",
    "X_train[['Ride Distance']]= min_max_scaler.transform(X_train[['Ride Distance']]) #70%\n",
    "X_test[['Ride Distance']]= min_max_scaler.transform(X_test[['Ride Distance']]) #30%\n",
    "#X_train.head()"
   ],
   "metadata": {
    "id": "cd3T59UOeCtO"
   },
   "outputs": [],
   "execution_count": null
  },
  {
   "cell_type": "code",
   "source": [
    "#Aprendizaje KNN con 70%\n",
    "from sklearn.neighbors  import KNeighborsClassifier #KNeighborsRegressor\n",
    "\n",
    "modelKnn = KNeighborsClassifier(n_neighbors=1, metric='euclidean')#euclidean, minkowski\n",
    "modelKnn.fit(X_train, Y_train) #70%"
   ],
   "metadata": {
    "colab": {
     "base_uri": "https://localhost:8080/",
     "height": 80
    },
    "id": "PPUe3oT0vPTZ",
    "outputId": "e4ecc543-95fb-4124-be33-2ca07ea389bd"
   },
   "outputs": [],
   "execution_count": null
  },
  {
   "cell_type": "code",
   "source": [
    "#Evaluación de Knn con 30%\n",
    "from sklearn import metrics\n",
    "\n",
    "Y_pred = modelKnn.predict(X_test) #30%\n",
    "\n",
    "#Matriz de confusion\n",
    "cm=metrics.confusion_matrix(y_true=Y_test, y_pred=Y_pred)\n",
    "disp=metrics.ConfusionMatrixDisplay(confusion_matrix=cm,display_labels=labelencoder.classes_)\n",
    "disp.plot()\n",
    "\n",
    "#Precision, Recall, f1, exactitud\n",
    "print(metrics.classification_report( y_true=Y_test, y_pred=Y_pred, target_names=labelencoder.classes_))\n",
    "\n",
    "# Curva ROC - Removed as this is for binary classification, not multi-class\n",
    "# metrics.RocCurveDisplay.from_estimator(modelKnn,X_test, Y_test)"
   ],
   "metadata": {
    "colab": {
     "base_uri": "https://localhost:8080/",
     "height": 668
    },
    "id": "W0vWwd5bvnNa",
    "outputId": "1ea1bec7-5b1d-4fc1-f82b-b381fa578df3"
   },
   "outputs": [],
   "execution_count": null
  },
  {
   "cell_type": "code",
   "source": [
    "#Red Neuronal\n",
    "\n",
    "from sklearn.neural_network import MLPClassifier #MLPRegressor\n",
    "\n",
    "#Solo se configura capas ocultas, no se configura capa de entrada y de salida\n",
    "#activation -> función activación de la oculta\n",
    "#hidden_layer_sizes=5,7 -> dos capas ocultas con 5 neuronas y 7 neuronas\n",
    "#learning_rate-> tamaño del paso constante o decreciente\n",
    "#learning_rate_init-> valor tasa de aprendizaje\n",
    "#momentum->\n",
    "#max_iter-> iteaciones\n",
    "#random_state-> semilla para generacion numeros seudoaletorios\n",
    "modelNN = MLPClassifier(activation=\"logistic\",hidden_layer_sizes=(5), learning_rate='constant',\n",
    "                     learning_rate_init=0.2, momentum= 0.3, max_iter=500, random_state=3)\n",
    "\n",
    "modelNN.fit(X_train, Y_train) #70% normalizados"
   ],
   "metadata": {
    "colab": {
     "base_uri": "https://localhost:8080/",
     "height": 115
    },
    "id": "AIcv0SzpwElV",
    "outputId": "e35386f6-02cc-48b5-9b2f-1c8ec2393326"
   },
   "outputs": [],
   "execution_count": null
  },
  {
   "cell_type": "code",
   "source": [
    "#Loss es la desviación entre Y_train y el Y_pred\n",
    "#loss_curve_ es una lista con los valores de la función de pérdida (loss) en cada iteración/época durante el entrenamiento de la red neuronal.\n",
    "loss_values = modelNN.loss_curve_\n",
    "plt.plot(loss_values)"
   ],
   "metadata": {
    "colab": {
     "base_uri": "https://localhost:8080/",
     "height": 448
    },
    "id": "FOS_Id-Bxu59",
    "outputId": "e8a41036-30be-4eec-e0c5-32b42fe4ab42"
   },
   "outputs": [],
   "execution_count": null
  },
  {
   "cell_type": "code",
   "source": [
    "#Evaluación de Red Neuronal\n",
    "from sklearn import metrics\n",
    "\n",
    "Y_pred = modelNN.predict(X_test) #30%\n",
    "\n",
    "#Matriz de confusion\n",
    "cm=metrics.confusion_matrix(y_true=Y_test, y_pred=Y_pred)\n",
    "disp=metrics.ConfusionMatrixDisplay(confusion_matrix=cm,display_labels=labelencoder.classes_)\n",
    "disp.plot()\n",
    "\n",
    "#Precision, Recall, f1, exactitud\n",
    "print(metrics.classification_report( y_true=Y_test, y_pred=Y_pred, target_names=labelencoder.classes_))\n",
    "\n",
    "# Curva ROC - Removed as this is for binary classification, not multi-class\n",
    "# metrics.RocCurveDisplay.from_estimator(modelNN,X_test, Y_test)"
   ],
   "metadata": {
    "colab": {
     "base_uri": "https://localhost:8080/",
     "height": 668
    },
    "id": "Zzjnyi8wyfUF",
    "outputId": "f09d422b-f360-4b77-e716-82a9a909f308",
    "ExecuteTime": {
     "end_time": "2025-09-29T22:50:02.851417Z",
     "start_time": "2025-09-29T22:49:48.742740Z"
    }
   },
   "outputs": [
    {
     "ename": "NameError",
     "evalue": "name 'modelNN' is not defined",
     "output_type": "error",
     "traceback": [
      "\u001B[31m---------------------------------------------------------------------------\u001B[39m",
      "\u001B[31mNameError\u001B[39m                                 Traceback (most recent call last)",
      "\u001B[36mCell\u001B[39m\u001B[36m \u001B[39m\u001B[32mIn[12]\u001B[39m\u001B[32m, line 4\u001B[39m\n\u001B[32m      1\u001B[39m \u001B[38;5;66;03m#Evaluación de Red Neuronal\u001B[39;00m\n\u001B[32m      2\u001B[39m \u001B[38;5;28;01mfrom\u001B[39;00m\u001B[38;5;250m \u001B[39m\u001B[34;01msklearn\u001B[39;00m\u001B[38;5;250m \u001B[39m\u001B[38;5;28;01mimport\u001B[39;00m metrics\n\u001B[32m----> \u001B[39m\u001B[32m4\u001B[39m Y_pred = \u001B[43mmodelNN\u001B[49m.predict(X_test) \u001B[38;5;66;03m#30%\u001B[39;00m\n\u001B[32m      6\u001B[39m \u001B[38;5;66;03m#Matriz de confusion\u001B[39;00m\n\u001B[32m      7\u001B[39m cm=metrics.confusion_matrix(y_true=Y_test, y_pred=Y_pred)\n",
      "\u001B[31mNameError\u001B[39m: name 'modelNN' is not defined"
     ]
    }
   ],
   "execution_count": 12
  },
  {
   "cell_type": "code",
   "source": [
    "#SVM\n",
    "from sklearn.svm import SVC # SVR\n",
    "\n",
    "modelSVM = SVC(kernel='linear') #'linear', 'poly', 'rbf', 'sigmoid', 'precomputed'\n",
    "modelSVM.fit(X_train, Y_train) #70%\n"
   ],
   "metadata": {
    "colab": {
     "base_uri": "https://localhost:8080/",
     "height": 80
    },
    "id": "lNlbSyzUyhjF",
    "outputId": "ef6dd36d-4500-4291-f554-9f3daa0c422c"
   },
   "outputs": [],
   "execution_count": null
  },
  {
   "cell_type": "code",
   "source": [
    "#Evaluación de SVM\n",
    "from sklearn import metrics\n",
    "\n",
    "Y_pred = modelSVM.predict(X_test) #30%\n",
    "\n",
    "#Matriz de confusion\n",
    "cm=metrics.confusion_matrix(y_true=Y_test, y_pred=Y_pred)\n",
    "disp=metrics.ConfusionMatrixDisplay(confusion_matrix=cm,display_labels=labelencoder.classes_)\n",
    "disp.plot()\n",
    "\n",
    "#Precision, Recall, f1, exactitud\n",
    "print(metrics.classification_report( y_true=Y_test, y_pred=Y_pred, target_names=labelencoder.classes_))\n",
    "\n",
    "# Curva ROC - Removed as this is for binary classification, not multi-class\n",
    "# metrics.RocCurveDisplay.from_estimator(modelSVM,X_test, Y_test)"
   ],
   "metadata": {
    "colab": {
     "base_uri": "https://localhost:8080/",
     "height": 668
    },
    "id": "JGe4TJUNylZe",
    "outputId": "3778b121-34f9-4b21-af83-7edde2d3924d"
   },
   "outputs": [],
   "execution_count": null
  },
  {
   "cell_type": "code",
   "source": [
    "#pickle es una librería de Python para serializar objetos (guardarlos en un archivo en formato binario)\n",
    "\n",
    "import pickle\n",
    "filename = 'modelo.pkl'\n",
    "variables= X.columns._values\n",
    "pickle.dump([modelTree,modelKnn, modelNN, modelSVM, labelencoder,variables,min_max_scaler], open(filename, 'wb'))"
   ],
   "metadata": {
    "id": "xLaTYFKazCx2"
   },
   "outputs": [],
   "execution_count": null
  }
 ]
}
