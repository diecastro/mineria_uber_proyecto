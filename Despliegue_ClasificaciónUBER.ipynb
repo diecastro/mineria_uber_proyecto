{
 "nbformat": 4,
 "nbformat_minor": 0,
 "metadata": {
  "colab": {
   "provenance": []
  },
  "kernelspec": {
   "name": "python3",
   "display_name": "Python 3"
  },
  "language_info": {
   "name": "python"
  }
 },
 "cells": [
  {
   "cell_type": "markdown",
   "source": [
    "#Despliegue\n",
    "\n",
    "- Cargamos el modelo\n",
    "\n",
    "- Cargamos los datos futuros\n",
    "\n",
    "- Preparar los datos futuros\n",
    "\n",
    "- Aplicamos el modelo para la predicción"
   ],
   "metadata": {
    "id": "7Xe18T6Bz2MJ"
   }
  },
  {
   "cell_type": "code",
   "source": [
    "#importamos librerias básicas\n",
    "import pandas as pd #manipulación dataframes\n",
    "import numpy as np #matrices y vectores\n",
    "import pickle\n",
    "import streamlit as st"
   ],
   "metadata": {
    "id": "QMJ46uaS0KEM",
    "ExecuteTime": {
     "end_time": "2025-09-30T00:40:44.393462Z",
     "start_time": "2025-09-30T00:40:44.391794Z"
    }
   },
   "outputs": [],
   "execution_count": 263
  },
  {
   "cell_type": "code",
   "source": [
    "#Cargamos el modelo\n",
    "filename = 'modelo.pkl'\n",
    "modelTree,modelKnn, modelNN, modelSVM, labelencoder,variables,min_max_scaler = pickle.load(open(filename, 'rb'))"
   ],
   "metadata": {
    "id": "sQlDzJm70TKd",
    "colab": {
     "base_uri": "https://localhost:8080/",
     "height": 183
    },
    "outputId": "12c94158-2caa-49bb-86c5-6b3b95b06d7c",
    "ExecuteTime": {
     "end_time": "2025-09-30T00:40:44.428021Z",
     "start_time": "2025-09-30T00:40:44.407592Z"
    }
   },
   "outputs": [],
   "execution_count": 264
  },
  {
   "cell_type": "code",
   "source": [
    "#Cargamos los datos futuros\n",
    "data=pd.read_excel(\"./data/BDUBERDatosFuturos.xlsx\")"
   ],
   "metadata": {
    "colab": {
     "base_uri": "https://localhost:8080/",
     "height": 327
    },
    "id": "07oL4ief1nsx",
    "outputId": "d284ecae-5bb5-4588-f5dc-a70575cad5c1",
    "ExecuteTime": {
     "end_time": "2025-09-30T00:40:44.453378Z",
     "start_time": "2025-09-30T00:40:44.445637Z"
    }
   },
   "outputs": [],
   "execution_count": 265
  },
  {
   "metadata": {
    "ExecuteTime": {
     "end_time": "2025-09-30T00:40:44.475293Z",
     "start_time": "2025-09-30T00:40:44.467169Z"
    }
   },
   "cell_type": "code",
   "source": [
    "# Re-create the 'DateTime' column by combining 'Date' and 'Time'\n",
    "data['DateTime'] = pd.to_datetime(data['Date'].astype(str) + ' ' + data['Time'].astype(str), errors='coerce')\n",
    "# Drop the original 'Date' and 'Time' columns\n",
    "data = data.drop(['Date', 'Time'], axis=1)\n",
    "# --- 1. Convertir DateTime ---\n",
    "# The 'DateTime' column already exists and is in datetime format\n",
    "data[\"fecha\"] = data[\"DateTime\"]\n",
    "data[\"hora\"] = data[\"DateTime\"].dt.hour\n",
    "\n",
    "# --- 2. Extraer características de fecha ---\n",
    "data[\"anio\"] = data[\"fecha\"].dt.year\n",
    "data[\"mes\"] = data[\"fecha\"].dt.month\n",
    "data[\"dia_semana\"] = data[\"fecha\"].dt.dayofweek   # 0=lunes, 6=domingo\n",
    "\n",
    "# --- 3. Codificar hora de manera cíclica ---\n",
    "data[\"hora_sin\"] = np.sin(2 * np.pi * data[\"hora\"] / 24)\n",
    "data[\"hora_cos\"] = np.cos(2 * np.pi * data[\"hora\"] / 24)\n",
    "\n",
    "# --- 4. (Opcional) Discretizar hora en franjas horarias ---\n",
    "def discretizar_hora(hora):\n",
    "    if 5 <= hora < 12:\n",
    "        return \"mañana\"\n",
    "    elif 12 <= hora < 18:\n",
    "        return \"tarde\"\n",
    "    elif 18 <= hora < 24:\n",
    "        return \"noche\"\n",
    "    else:\n",
    "        return \"madrugada\"\n",
    "\n",
    "data[\"franja_horaria\"] = data[\"hora\"].apply(discretizar_hora)\n",
    "\n",
    "# Convertir franja_horaria en variables dummy\n",
    "data = pd.get_dummies(data, columns=[\"franja_horaria\"], dtype=int)\n",
    "# Función para asignar estación según mes\n",
    "def asignar_estacion(mes):\n",
    "    if mes in [12, 1, 2]:\n",
    "        return \"Invierno\"\n",
    "    elif mes in [3, 4, 5]:\n",
    "        return \"Verano\"\n",
    "    elif mes in [6, 7, 8, 9]:\n",
    "        return \"Monzon\"\n",
    "    else:  # 10, 11\n",
    "        return \"Post-Monzon\"\n",
    "\n",
    "# Crear columna de estación\n",
    "data[\"estacion\"] = data[\"mes\"].map(asignar_estacion)\n",
    "# Crear variables dummies sin borrar nada más\n",
    "data = pd.get_dummies(data, columns=[\"estacion\"], drop_first=False, dtype=int)\n",
    "data = data.drop(['DateTime','fecha','hora','anio','mes','dia_semana','hora_cos','hora_sin'], axis=1)\n"
   ],
   "outputs": [],
   "execution_count": 266
  },
  {
   "cell_type": "code",
   "source": [
    "#Se realiza la preparación\n",
    "data_preparada=data.copy()\n",
    "data_preparada = pd.get_dummies(data_preparada, columns=['Vehicle Type','Booking Status','Cancelled Rides by Customer','Reason for cancelling by Customer','Cancelled Rides by Driver','Driver Cancellation Reason','Incomplete Rides','Incomplete Rides Reason','Payment Method'], drop_first=False) #En despliegue no se borran dummies\n",
    "\n",
    "#Se adicionan las columnas faltantes\n",
    "data_preparada=data_preparada.reindex(columns=variables,fill_value=0)\n",
    "data_preparada.head()"
   ],
   "metadata": {
    "colab": {
     "base_uri": "https://localhost:8080/",
     "height": 394
    },
    "id": "UjotEuoF1s6y",
    "outputId": "da543f11-3079-4b92-ac19-4489881a2895",
    "ExecuteTime": {
     "end_time": "2025-09-30T00:40:44.496814Z",
     "start_time": "2025-09-30T00:40:44.488275Z"
    }
   },
   "outputs": [
    {
     "data": {
      "text/plain": [
       "   Avg VTAT  Avg CTAT  Booking Value  Ride Distance  franja_horaria_madrugada  \\\n",
       "0      12.1         0            136           6.56                         0   \n",
       "1       0.0         0              0           0.00                         0   \n",
       "2       6.1         0            135          10.36                         0   \n",
       "3       7.7         0            181          19.84                         0   \n",
       "4       0.0         0              0           0.00                         0   \n",
       "\n",
       "   franja_horaria_mañana  franja_horaria_noche  franja_horaria_tarde  \\\n",
       "0                      0                     0                     1   \n",
       "1                      0                     0                     1   \n",
       "2                      0                     1                     0   \n",
       "3                      0                     0                     1   \n",
       "4                      1                     0                     0   \n",
       "\n",
       "   estacion_Invierno  estacion_Monzon  ...  \\\n",
       "0                  0                0  ...   \n",
       "1                  0                1  ...   \n",
       "2                  1                0  ...   \n",
       "3                  0                1  ...   \n",
       "4                  0                1  ...   \n",
       "\n",
       "   Incomplete Rides Reason_Other Issue  \\\n",
       "0                                False   \n",
       "1                                False   \n",
       "2                                 True   \n",
       "3                                False   \n",
       "4                                False   \n",
       "\n",
       "   Incomplete Rides Reason_Vehicle Breakdown  Payment Method_Cash  \\\n",
       "0                                          0                False   \n",
       "1                                          0                False   \n",
       "2                                          0                 True   \n",
       "3                                          0                 True   \n",
       "4                                          0                False   \n",
       "\n",
       "   Payment Method_Credit Card  Payment Method_Debit Card  \\\n",
       "0                           0                          0   \n",
       "1                           0                          0   \n",
       "2                           0                          0   \n",
       "3                           0                          0   \n",
       "4                           0                          0   \n",
       "\n",
       "   Payment Method_No Report  Payment Method_UPI  Payment Method_Uber Wallet  \\\n",
       "0                     False                True                       False   \n",
       "1                      True               False                       False   \n",
       "2                     False               False                       False   \n",
       "3                     False               False                       False   \n",
       "4                      True               False                       False   \n",
       "\n",
       "   Cancelled Rides by Customer_No  Cancelled Rides by Customer_Si  \n",
       "0                            True                           False  \n",
       "1                            True                           False  \n",
       "2                            True                           False  \n",
       "3                            True                           False  \n",
       "4                            True                           False  \n",
       "\n",
       "[5 rows x 46 columns]"
      ],
      "text/html": [
       "<div>\n",
       "<style scoped>\n",
       "    .dataframe tbody tr th:only-of-type {\n",
       "        vertical-align: middle;\n",
       "    }\n",
       "\n",
       "    .dataframe tbody tr th {\n",
       "        vertical-align: top;\n",
       "    }\n",
       "\n",
       "    .dataframe thead th {\n",
       "        text-align: right;\n",
       "    }\n",
       "</style>\n",
       "<table border=\"1\" class=\"dataframe\">\n",
       "  <thead>\n",
       "    <tr style=\"text-align: right;\">\n",
       "      <th></th>\n",
       "      <th>Avg VTAT</th>\n",
       "      <th>Avg CTAT</th>\n",
       "      <th>Booking Value</th>\n",
       "      <th>Ride Distance</th>\n",
       "      <th>franja_horaria_madrugada</th>\n",
       "      <th>franja_horaria_mañana</th>\n",
       "      <th>franja_horaria_noche</th>\n",
       "      <th>franja_horaria_tarde</th>\n",
       "      <th>estacion_Invierno</th>\n",
       "      <th>estacion_Monzon</th>\n",
       "      <th>...</th>\n",
       "      <th>Incomplete Rides Reason_Other Issue</th>\n",
       "      <th>Incomplete Rides Reason_Vehicle Breakdown</th>\n",
       "      <th>Payment Method_Cash</th>\n",
       "      <th>Payment Method_Credit Card</th>\n",
       "      <th>Payment Method_Debit Card</th>\n",
       "      <th>Payment Method_No Report</th>\n",
       "      <th>Payment Method_UPI</th>\n",
       "      <th>Payment Method_Uber Wallet</th>\n",
       "      <th>Cancelled Rides by Customer_No</th>\n",
       "      <th>Cancelled Rides by Customer_Si</th>\n",
       "    </tr>\n",
       "  </thead>\n",
       "  <tbody>\n",
       "    <tr>\n",
       "      <th>0</th>\n",
       "      <td>12.1</td>\n",
       "      <td>0</td>\n",
       "      <td>136</td>\n",
       "      <td>6.56</td>\n",
       "      <td>0</td>\n",
       "      <td>0</td>\n",
       "      <td>0</td>\n",
       "      <td>1</td>\n",
       "      <td>0</td>\n",
       "      <td>0</td>\n",
       "      <td>...</td>\n",
       "      <td>False</td>\n",
       "      <td>0</td>\n",
       "      <td>False</td>\n",
       "      <td>0</td>\n",
       "      <td>0</td>\n",
       "      <td>False</td>\n",
       "      <td>True</td>\n",
       "      <td>False</td>\n",
       "      <td>True</td>\n",
       "      <td>False</td>\n",
       "    </tr>\n",
       "    <tr>\n",
       "      <th>1</th>\n",
       "      <td>0.0</td>\n",
       "      <td>0</td>\n",
       "      <td>0</td>\n",
       "      <td>0.00</td>\n",
       "      <td>0</td>\n",
       "      <td>0</td>\n",
       "      <td>0</td>\n",
       "      <td>1</td>\n",
       "      <td>0</td>\n",
       "      <td>1</td>\n",
       "      <td>...</td>\n",
       "      <td>False</td>\n",
       "      <td>0</td>\n",
       "      <td>False</td>\n",
       "      <td>0</td>\n",
       "      <td>0</td>\n",
       "      <td>True</td>\n",
       "      <td>False</td>\n",
       "      <td>False</td>\n",
       "      <td>True</td>\n",
       "      <td>False</td>\n",
       "    </tr>\n",
       "    <tr>\n",
       "      <th>2</th>\n",
       "      <td>6.1</td>\n",
       "      <td>0</td>\n",
       "      <td>135</td>\n",
       "      <td>10.36</td>\n",
       "      <td>0</td>\n",
       "      <td>0</td>\n",
       "      <td>1</td>\n",
       "      <td>0</td>\n",
       "      <td>1</td>\n",
       "      <td>0</td>\n",
       "      <td>...</td>\n",
       "      <td>True</td>\n",
       "      <td>0</td>\n",
       "      <td>True</td>\n",
       "      <td>0</td>\n",
       "      <td>0</td>\n",
       "      <td>False</td>\n",
       "      <td>False</td>\n",
       "      <td>False</td>\n",
       "      <td>True</td>\n",
       "      <td>False</td>\n",
       "    </tr>\n",
       "    <tr>\n",
       "      <th>3</th>\n",
       "      <td>7.7</td>\n",
       "      <td>0</td>\n",
       "      <td>181</td>\n",
       "      <td>19.84</td>\n",
       "      <td>0</td>\n",
       "      <td>0</td>\n",
       "      <td>0</td>\n",
       "      <td>1</td>\n",
       "      <td>0</td>\n",
       "      <td>1</td>\n",
       "      <td>...</td>\n",
       "      <td>False</td>\n",
       "      <td>0</td>\n",
       "      <td>True</td>\n",
       "      <td>0</td>\n",
       "      <td>0</td>\n",
       "      <td>False</td>\n",
       "      <td>False</td>\n",
       "      <td>False</td>\n",
       "      <td>True</td>\n",
       "      <td>False</td>\n",
       "    </tr>\n",
       "    <tr>\n",
       "      <th>4</th>\n",
       "      <td>0.0</td>\n",
       "      <td>0</td>\n",
       "      <td>0</td>\n",
       "      <td>0.00</td>\n",
       "      <td>0</td>\n",
       "      <td>1</td>\n",
       "      <td>0</td>\n",
       "      <td>0</td>\n",
       "      <td>0</td>\n",
       "      <td>1</td>\n",
       "      <td>...</td>\n",
       "      <td>False</td>\n",
       "      <td>0</td>\n",
       "      <td>False</td>\n",
       "      <td>0</td>\n",
       "      <td>0</td>\n",
       "      <td>True</td>\n",
       "      <td>False</td>\n",
       "      <td>False</td>\n",
       "      <td>True</td>\n",
       "      <td>False</td>\n",
       "    </tr>\n",
       "  </tbody>\n",
       "</table>\n",
       "<p>5 rows × 46 columns</p>\n",
       "</div>"
      ]
     },
     "execution_count": 267,
     "metadata": {},
     "output_type": "execute_result"
    }
   ],
   "execution_count": 267
  },
  {
   "cell_type": "code",
   "source": [
    "Y_fut= modelTree.predict(data_preparada)\n",
    "print(labelencoder.inverse_transform(Y_fut))"
   ],
   "metadata": {
    "colab": {
     "base_uri": "https://localhost:8080/",
     "height": 143
    },
    "id": "Sn7WrQ274aZK",
    "outputId": "2fda1faf-e493-49bf-ba88-055472e99f86",
    "ExecuteTime": {
     "end_time": "2025-09-30T00:40:44.533519Z",
     "start_time": "2025-09-30T00:40:44.529448Z"
    }
   },
   "outputs": [
    {
     "name": "stdout",
     "output_type": "stream",
     "text": [
      "['Completed' 'No Driver Found' 'Incomplete' 'Completed' 'No Driver Found'\n",
      " 'Cancelled by Driver' 'Completed' 'Completed' 'Completed' 'Completed'\n",
      " 'Cancelled by Driver' 'Cancelled by Customer']\n"
     ]
    }
   ],
   "execution_count": 268
  },
  {
   "cell_type": "code",
   "source": [
    "#Hacemos la predicción con Knn\n",
    "Y_fut = modelKnn.predict(data_preparada)\n",
    "data['Prediccion Knn']=labelencoder.inverse_transform(Y_fut)\n",
    "print(data['Prediccion Knn'])"
   ],
   "metadata": {
    "colab": {
     "base_uri": "https://localhost:8080/",
     "height": 143
    },
    "id": "mny9ciP44rgc",
    "outputId": "3ce910fc-ce41-4f88-e356-480ccefdfe8c",
    "ExecuteTime": {
     "end_time": "2025-09-30T00:40:44.582685Z",
     "start_time": "2025-09-30T00:40:44.563523Z"
    }
   },
   "outputs": [
    {
     "name": "stdout",
     "output_type": "stream",
     "text": [
      "0                 Completed\n",
      "1           No Driver Found\n",
      "2                 Completed\n",
      "3                 Completed\n",
      "4           No Driver Found\n",
      "5       Cancelled by Driver\n",
      "6                 Completed\n",
      "7                 Completed\n",
      "8                 Completed\n",
      "9                 Completed\n",
      "10      Cancelled by Driver\n",
      "11    Cancelled by Customer\n",
      "Name: Prediccion Knn, dtype: object\n"
     ]
    }
   ],
   "execution_count": 269
  },
  {
   "cell_type": "code",
   "source": [
    "#Hacemos la predicción con Red Neuronal\n",
    "Y_fut = modelNN.predict(data_preparada)\n",
    "data['Prediccion Neural_Network']=labelencoder.inverse_transform(Y_fut)\n",
    "print(data['Prediccion Neural_Network'])"
   ],
   "metadata": {
    "colab": {
     "base_uri": "https://localhost:8080/",
     "height": 143
    },
    "id": "z78dv8Bt5MEg",
    "outputId": "456c3390-4f61-4406-a2b7-36777edaa975",
    "ExecuteTime": {
     "end_time": "2025-09-30T00:40:44.690467Z",
     "start_time": "2025-09-30T00:40:44.685896Z"
    }
   },
   "outputs": [
    {
     "name": "stdout",
     "output_type": "stream",
     "text": [
      "0     Cancelled by Driver\n",
      "1         No Driver Found\n",
      "2               Completed\n",
      "3               Completed\n",
      "4         No Driver Found\n",
      "5     Cancelled by Driver\n",
      "6               Completed\n",
      "7               Completed\n",
      "8               Completed\n",
      "9               Completed\n",
      "10    Cancelled by Driver\n",
      "11              Completed\n",
      "Name: Prediccion Neural_Network, dtype: object\n"
     ]
    }
   ],
   "execution_count": 270
  },
  {
   "cell_type": "code",
   "source": [
    "# Hacemos la predicción con Máquina soporte vectorial\n",
    "Y_fut = modelSVM.predict(data_preparada)\n",
    "data['Prediccion SVM']=labelencoder.inverse_transform(Y_fut)\n",
    "print(data['Prediccion SVM'])"
   ],
   "metadata": {
    "colab": {
     "base_uri": "https://localhost:8080/",
     "height": 143
    },
    "id": "m-LkmLOd5bc7",
    "outputId": "5bb82b48-de35-4699-a295-916715a59d7a",
    "ExecuteTime": {
     "end_time": "2025-09-30T00:40:44.736405Z",
     "start_time": "2025-09-30T00:40:44.730064Z"
    }
   },
   "outputs": [
    {
     "name": "stdout",
     "output_type": "stream",
     "text": [
      "0                 Completed\n",
      "1           No Driver Found\n",
      "2                Incomplete\n",
      "3                 Completed\n",
      "4           No Driver Found\n",
      "5       Cancelled by Driver\n",
      "6                 Completed\n",
      "7                 Completed\n",
      "8                 Completed\n",
      "9                 Completed\n",
      "10      Cancelled by Driver\n",
      "11    Cancelled by Customer\n",
      "Name: Prediccion SVM, dtype: object\n"
     ]
    }
   ],
   "execution_count": 271
  }
 ]
}
