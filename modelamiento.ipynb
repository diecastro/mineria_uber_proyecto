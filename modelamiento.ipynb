{
 "cells": [
  {
   "metadata": {},
   "cell_type": "markdown",
   "source": [
    "# Punto 4: Modelamiento, Evaluación e Interpretación\n",
    "\n",
    "# Estudiantes:\n",
    "* Diego Castro Díaz\n",
    "* Isabella Orozco Jordán\n",
    "* Manuela Idárraga Gómez\n",
    "\n",
    "\n",
    "Este notebook desarrolla el **ciclo de modelamiento predictivo** sobre el dataset de Uber (`data.csv`)"
   ],
   "id": "146966c750d63106"
  },
  {
   "metadata": {
    "ExecuteTime": {
     "end_time": "2025-09-26T20:40:10.592357Z",
     "start_time": "2025-09-26T20:40:10.099087Z"
    }
   },
   "cell_type": "code",
   "source": [
    "import matplotlib.pyplot as plt\n",
    "import numpy as np\n",
    "import pandas as pd\n",
    "import seaborn as sns\n",
    "import xgboost as xgb\n",
    "from catboost import CatBoostClassifier\n",
    "from imblearn.over_sampling import SMOTE\n",
    "from sklearn import metrics\n",
    "from sklearn.ensemble import (\n",
    "    BaggingClassifier,\n",
    "    RandomForestClassifier,\n",
    "    AdaBoostClassifier,\n",
    "    GradientBoostingClassifier,\n",
    "    VotingClassifier,\n",
    "    StackingClassifier,\n",
    ")\n",
    "from sklearn.feature_selection import mutual_info_classif\n",
    "from sklearn.linear_model import LogisticRegression\n",
    "from sklearn.model_selection import train_test_split\n",
    "from sklearn.neighbors import KNeighborsClassifier\n",
    "from sklearn.neural_network import MLPClassifier\n",
    "from sklearn.preprocessing import LabelEncoder, MinMaxScaler\n",
    "from sklearn.tree import DecisionTreeClassifier, plot_tree\n"
   ],
   "id": "96499d83474c638e",
   "outputs": [],
   "execution_count": 1
  },
  {
   "metadata": {
    "ExecuteTime": {
     "end_time": "2025-09-26T20:40:10.878601Z",
     "start_time": "2025-09-26T20:40:10.666190Z"
    }
   },
   "cell_type": "code",
   "source": [
    "data = pd.read_csv('./data/data.csv')\n",
    "data.head()"
   ],
   "id": "a3f4142f5db6703",
   "outputs": [
    {
     "data": {
      "text/plain": [
       "         Date      Time  Booking ID Booking Status Customer ID  Vehicle Type  \\\n",
       "0  23/03/2024  12:29:38  CNR5884300  NoDriverFound  CID1982111         eBike   \n",
       "1  29/11/2024  18:01:39  CNR1326809     Incomplete  CID4604802       GoSedan   \n",
       "2  23/08/2024   8:56:10  CNR8494506      Completed  CID9202816          Auto   \n",
       "3  21/10/2024  17:17:25  CNR8906825      Completed  CID2610914  PremierSedan   \n",
       "4  16/09/2024  22:08:00  CNR1950162      Completed  CID9933542          Bike   \n",
       "\n",
       "      Pickup Location    Drop Location  Avg VTAT  Avg CTAT  ...  \\\n",
       "0          PalamVihar          Jhilmil       0.0       0.0  ...   \n",
       "1        ShastriNagar  GurgaonSector56       4.9       0.0  ...   \n",
       "2             Khandsa     MalviyaNagar      13.4       0.0  ...   \n",
       "3  CentralSecretariat         Inderlok      13.1       0.0  ...   \n",
       "4     GhitorniVillage       KhanMarket       5.3       0.0  ...   \n",
       "\n",
       "   Reason for cancelling by Customer Cancelled Rides by Driver  \\\n",
       "0                                NaN                         0   \n",
       "1                                NaN                         0   \n",
       "2                                NaN                         0   \n",
       "3                                NaN                         0   \n",
       "4                                NaN                         0   \n",
       "\n",
       "   Driver Cancellation Reason Incomplete Rides  Incomplete Rides Reason  \\\n",
       "0                         NaN                0                      NaN   \n",
       "1                         NaN                1         VehicleBreakdown   \n",
       "2                         NaN                0                      NaN   \n",
       "3                         NaN                0                      NaN   \n",
       "4                         NaN                0                      NaN   \n",
       "\n",
       "  Booking Value  Ride Distance  Driver Ratings  Customer Rating  \\\n",
       "0             0           0.00            4.23              4.4   \n",
       "1           237           5.73            4.23              4.4   \n",
       "2           627          13.58            4.90              4.9   \n",
       "3           416          34.02            4.60              5.0   \n",
       "4           737          48.21            4.10              4.3   \n",
       "\n",
       "   Payment Method  \n",
       "0             NaN  \n",
       "1             UPI  \n",
       "2       DebitCard  \n",
       "3             UPI  \n",
       "4             UPI  \n",
       "\n",
       "[5 rows x 21 columns]"
      ],
      "text/html": [
       "<div>\n",
       "<style scoped>\n",
       "    .dataframe tbody tr th:only-of-type {\n",
       "        vertical-align: middle;\n",
       "    }\n",
       "\n",
       "    .dataframe tbody tr th {\n",
       "        vertical-align: top;\n",
       "    }\n",
       "\n",
       "    .dataframe thead th {\n",
       "        text-align: right;\n",
       "    }\n",
       "</style>\n",
       "<table border=\"1\" class=\"dataframe\">\n",
       "  <thead>\n",
       "    <tr style=\"text-align: right;\">\n",
       "      <th></th>\n",
       "      <th>Date</th>\n",
       "      <th>Time</th>\n",
       "      <th>Booking ID</th>\n",
       "      <th>Booking Status</th>\n",
       "      <th>Customer ID</th>\n",
       "      <th>Vehicle Type</th>\n",
       "      <th>Pickup Location</th>\n",
       "      <th>Drop Location</th>\n",
       "      <th>Avg VTAT</th>\n",
       "      <th>Avg CTAT</th>\n",
       "      <th>...</th>\n",
       "      <th>Reason for cancelling by Customer</th>\n",
       "      <th>Cancelled Rides by Driver</th>\n",
       "      <th>Driver Cancellation Reason</th>\n",
       "      <th>Incomplete Rides</th>\n",
       "      <th>Incomplete Rides Reason</th>\n",
       "      <th>Booking Value</th>\n",
       "      <th>Ride Distance</th>\n",
       "      <th>Driver Ratings</th>\n",
       "      <th>Customer Rating</th>\n",
       "      <th>Payment Method</th>\n",
       "    </tr>\n",
       "  </thead>\n",
       "  <tbody>\n",
       "    <tr>\n",
       "      <th>0</th>\n",
       "      <td>23/03/2024</td>\n",
       "      <td>12:29:38</td>\n",
       "      <td>CNR5884300</td>\n",
       "      <td>NoDriverFound</td>\n",
       "      <td>CID1982111</td>\n",
       "      <td>eBike</td>\n",
       "      <td>PalamVihar</td>\n",
       "      <td>Jhilmil</td>\n",
       "      <td>0.0</td>\n",
       "      <td>0.0</td>\n",
       "      <td>...</td>\n",
       "      <td>NaN</td>\n",
       "      <td>0</td>\n",
       "      <td>NaN</td>\n",
       "      <td>0</td>\n",
       "      <td>NaN</td>\n",
       "      <td>0</td>\n",
       "      <td>0.00</td>\n",
       "      <td>4.23</td>\n",
       "      <td>4.4</td>\n",
       "      <td>NaN</td>\n",
       "    </tr>\n",
       "    <tr>\n",
       "      <th>1</th>\n",
       "      <td>29/11/2024</td>\n",
       "      <td>18:01:39</td>\n",
       "      <td>CNR1326809</td>\n",
       "      <td>Incomplete</td>\n",
       "      <td>CID4604802</td>\n",
       "      <td>GoSedan</td>\n",
       "      <td>ShastriNagar</td>\n",
       "      <td>GurgaonSector56</td>\n",
       "      <td>4.9</td>\n",
       "      <td>0.0</td>\n",
       "      <td>...</td>\n",
       "      <td>NaN</td>\n",
       "      <td>0</td>\n",
       "      <td>NaN</td>\n",
       "      <td>1</td>\n",
       "      <td>VehicleBreakdown</td>\n",
       "      <td>237</td>\n",
       "      <td>5.73</td>\n",
       "      <td>4.23</td>\n",
       "      <td>4.4</td>\n",
       "      <td>UPI</td>\n",
       "    </tr>\n",
       "    <tr>\n",
       "      <th>2</th>\n",
       "      <td>23/08/2024</td>\n",
       "      <td>8:56:10</td>\n",
       "      <td>CNR8494506</td>\n",
       "      <td>Completed</td>\n",
       "      <td>CID9202816</td>\n",
       "      <td>Auto</td>\n",
       "      <td>Khandsa</td>\n",
       "      <td>MalviyaNagar</td>\n",
       "      <td>13.4</td>\n",
       "      <td>0.0</td>\n",
       "      <td>...</td>\n",
       "      <td>NaN</td>\n",
       "      <td>0</td>\n",
       "      <td>NaN</td>\n",
       "      <td>0</td>\n",
       "      <td>NaN</td>\n",
       "      <td>627</td>\n",
       "      <td>13.58</td>\n",
       "      <td>4.90</td>\n",
       "      <td>4.9</td>\n",
       "      <td>DebitCard</td>\n",
       "    </tr>\n",
       "    <tr>\n",
       "      <th>3</th>\n",
       "      <td>21/10/2024</td>\n",
       "      <td>17:17:25</td>\n",
       "      <td>CNR8906825</td>\n",
       "      <td>Completed</td>\n",
       "      <td>CID2610914</td>\n",
       "      <td>PremierSedan</td>\n",
       "      <td>CentralSecretariat</td>\n",
       "      <td>Inderlok</td>\n",
       "      <td>13.1</td>\n",
       "      <td>0.0</td>\n",
       "      <td>...</td>\n",
       "      <td>NaN</td>\n",
       "      <td>0</td>\n",
       "      <td>NaN</td>\n",
       "      <td>0</td>\n",
       "      <td>NaN</td>\n",
       "      <td>416</td>\n",
       "      <td>34.02</td>\n",
       "      <td>4.60</td>\n",
       "      <td>5.0</td>\n",
       "      <td>UPI</td>\n",
       "    </tr>\n",
       "    <tr>\n",
       "      <th>4</th>\n",
       "      <td>16/09/2024</td>\n",
       "      <td>22:08:00</td>\n",
       "      <td>CNR1950162</td>\n",
       "      <td>Completed</td>\n",
       "      <td>CID9933542</td>\n",
       "      <td>Bike</td>\n",
       "      <td>GhitorniVillage</td>\n",
       "      <td>KhanMarket</td>\n",
       "      <td>5.3</td>\n",
       "      <td>0.0</td>\n",
       "      <td>...</td>\n",
       "      <td>NaN</td>\n",
       "      <td>0</td>\n",
       "      <td>NaN</td>\n",
       "      <td>0</td>\n",
       "      <td>NaN</td>\n",
       "      <td>737</td>\n",
       "      <td>48.21</td>\n",
       "      <td>4.10</td>\n",
       "      <td>4.3</td>\n",
       "      <td>UPI</td>\n",
       "    </tr>\n",
       "  </tbody>\n",
       "</table>\n",
       "<p>5 rows × 21 columns</p>\n",
       "</div>"
      ]
     },
     "execution_count": 2,
     "metadata": {},
     "output_type": "execute_result"
    }
   ],
   "execution_count": 2
  },
  {
   "metadata": {
    "ExecuteTime": {
     "end_time": "2025-09-26T20:40:10.914930Z",
     "start_time": "2025-09-26T20:40:10.904517Z"
    }
   },
   "cell_type": "code",
   "source": [
    "target = 'Booking Status'\n",
    "y = data[target].astype(str)\n",
    "X = data.drop(columns=[target])\n",
    "\n",
    "num_cols = [c for c in X.columns if np.issubdtype(X[c].dtype, np.number)]\n",
    "cat_cols = [c for c in X.columns if c not in num_cols]\n",
    "print(\"Variables numéricas:\", num_cols)\n",
    "print(\"Variables categóricas:\", cat_cols)"
   ],
   "id": "2cc0ffd74bc78eed",
   "outputs": [
    {
     "name": "stdout",
     "output_type": "stream",
     "text": [
      "Variables numéricas: ['Avg VTAT', 'Avg CTAT', 'Cancelled Rides by Customer', 'Cancelled Rides by Driver', 'Incomplete Rides', 'Booking Value', 'Ride Distance', 'Driver Ratings', 'Customer Rating']\n",
      "Variables categóricas: ['Date', 'Time', 'Booking ID', 'Customer ID', 'Vehicle Type', 'Pickup Location', 'Drop Location', 'Reason for cancelling by Customer', 'Driver Cancellation Reason', 'Incomplete Rides Reason', 'Payment Method']\n"
     ]
    }
   ],
   "execution_count": 3
  },
  {
   "metadata": {
    "ExecuteTime": {
     "end_time": "2025-09-26T20:40:10.939778Z",
     "start_time": "2025-09-26T20:40:10.938299Z"
    }
   },
   "cell_type": "code",
   "source": [
    "def cambiodetipo(array, tipo):\n",
    "    for each in array:\n",
    "        data[each] = data[each].astype(tipo);"
   ],
   "id": "7393eaaf0d7019f5",
   "outputs": [],
   "execution_count": 4
  },
  {
   "metadata": {
    "ExecuteTime": {
     "end_time": "2025-09-26T20:40:11.126204Z",
     "start_time": "2025-09-26T20:40:10.974309Z"
    }
   },
   "cell_type": "code",
   "source": [
    "#Correccion de tipo de datos\n",
    "variables_categoricas_a_corregir = ['Vehicle Type', 'Booking Status', 'Reason for cancelling by Customer',\n",
    "                                    'Driver Cancellation Reason', 'Incomplete Rides Reason', 'Payment Method']\n",
    "cambiodetipo(variables_categoricas_a_corregir, 'category')\n",
    "cambiodetipo(['Pickup Location', 'Drop Location', 'Booking ID', 'Customer ID'], 'string')\n",
    "data['Date'] = pd.to_datetime(data['Date'], format='%d/%m/%Y')\n",
    "data['Time'] = pd.to_datetime(data['Time'], format='%H:%M:%S')\n",
    "data.info()"
   ],
   "id": "ba9e3db913fec4e3",
   "outputs": [
    {
     "name": "stdout",
     "output_type": "stream",
     "text": [
      "<class 'pandas.core.frame.DataFrame'>\n",
      "RangeIndex: 150000 entries, 0 to 149999\n",
      "Data columns (total 21 columns):\n",
      " #   Column                             Non-Null Count   Dtype         \n",
      "---  ------                             --------------   -----         \n",
      " 0   Date                               150000 non-null  datetime64[ns]\n",
      " 1   Time                               150000 non-null  datetime64[ns]\n",
      " 2   Booking ID                         150000 non-null  string        \n",
      " 3   Booking Status                     150000 non-null  category      \n",
      " 4   Customer ID                        150000 non-null  string        \n",
      " 5   Vehicle Type                       150000 non-null  category      \n",
      " 6   Pickup Location                    150000 non-null  string        \n",
      " 7   Drop Location                      150000 non-null  string        \n",
      " 8   Avg VTAT                           150000 non-null  float64       \n",
      " 9   Avg CTAT                           150000 non-null  float64       \n",
      " 10  Cancelled Rides by Customer        150000 non-null  int64         \n",
      " 11  Reason for cancelling by Customer  10500 non-null   category      \n",
      " 12  Cancelled Rides by Driver          150000 non-null  int64         \n",
      " 13  Driver Cancellation Reason         27000 non-null   category      \n",
      " 14  Incomplete Rides                   150000 non-null  int64         \n",
      " 15  Incomplete Rides Reason            9000 non-null    category      \n",
      " 16  Booking Value                      150000 non-null  int64         \n",
      " 17  Ride Distance                      150000 non-null  float64       \n",
      " 18  Driver Ratings                     150000 non-null  float64       \n",
      " 19  Customer Rating                    150000 non-null  float64       \n",
      " 20  Payment Method                     102000 non-null  category      \n",
      "dtypes: category(6), datetime64[ns](2), float64(5), int64(4), string(4)\n",
      "memory usage: 18.0 MB\n"
     ]
    }
   ],
   "execution_count": 5
  },
  {
   "metadata": {
    "ExecuteTime": {
     "end_time": "2025-09-26T20:40:11.146165Z",
     "start_time": "2025-09-26T20:40:11.135782Z"
    }
   },
   "cell_type": "code",
   "source": [
    "min_max_scaler = MinMaxScaler()\n",
    "variables_numericas = ['Cancelled Rides by Customer', 'Cancelled Rides by Driver', 'Incomplete Rides']\n",
    "min_max_scaler.fit(data[variables_numericas])  #Ajuste de los parametros: max - min\n",
    "data[variables_numericas] = min_max_scaler.transform(data[variables_numericas])\n",
    "data.head()"
   ],
   "id": "dc076a11b1602e84",
   "outputs": [
    {
     "data": {
      "text/plain": [
       "        Date                Time  Booking ID Booking Status Customer ID  \\\n",
       "0 2024-03-23 1900-01-01 12:29:38  CNR5884300  NoDriverFound  CID1982111   \n",
       "1 2024-11-29 1900-01-01 18:01:39  CNR1326809     Incomplete  CID4604802   \n",
       "2 2024-08-23 1900-01-01 08:56:10  CNR8494506      Completed  CID9202816   \n",
       "3 2024-10-21 1900-01-01 17:17:25  CNR8906825      Completed  CID2610914   \n",
       "4 2024-09-16 1900-01-01 22:08:00  CNR1950162      Completed  CID9933542   \n",
       "\n",
       "   Vehicle Type     Pickup Location    Drop Location  Avg VTAT  Avg CTAT  ...  \\\n",
       "0         eBike          PalamVihar          Jhilmil       0.0       0.0  ...   \n",
       "1       GoSedan        ShastriNagar  GurgaonSector56       4.9       0.0  ...   \n",
       "2          Auto             Khandsa     MalviyaNagar      13.4       0.0  ...   \n",
       "3  PremierSedan  CentralSecretariat         Inderlok      13.1       0.0  ...   \n",
       "4          Bike     GhitorniVillage       KhanMarket       5.3       0.0  ...   \n",
       "\n",
       "   Reason for cancelling by Customer Cancelled Rides by Driver  \\\n",
       "0                                NaN                       0.0   \n",
       "1                                NaN                       0.0   \n",
       "2                                NaN                       0.0   \n",
       "3                                NaN                       0.0   \n",
       "4                                NaN                       0.0   \n",
       "\n",
       "   Driver Cancellation Reason Incomplete Rides  Incomplete Rides Reason  \\\n",
       "0                         NaN              0.0                      NaN   \n",
       "1                         NaN              1.0         VehicleBreakdown   \n",
       "2                         NaN              0.0                      NaN   \n",
       "3                         NaN              0.0                      NaN   \n",
       "4                         NaN              0.0                      NaN   \n",
       "\n",
       "  Booking Value  Ride Distance  Driver Ratings  Customer Rating  \\\n",
       "0             0           0.00            4.23              4.4   \n",
       "1           237           5.73            4.23              4.4   \n",
       "2           627          13.58            4.90              4.9   \n",
       "3           416          34.02            4.60              5.0   \n",
       "4           737          48.21            4.10              4.3   \n",
       "\n",
       "   Payment Method  \n",
       "0             NaN  \n",
       "1             UPI  \n",
       "2       DebitCard  \n",
       "3             UPI  \n",
       "4             UPI  \n",
       "\n",
       "[5 rows x 21 columns]"
      ],
      "text/html": [
       "<div>\n",
       "<style scoped>\n",
       "    .dataframe tbody tr th:only-of-type {\n",
       "        vertical-align: middle;\n",
       "    }\n",
       "\n",
       "    .dataframe tbody tr th {\n",
       "        vertical-align: top;\n",
       "    }\n",
       "\n",
       "    .dataframe thead th {\n",
       "        text-align: right;\n",
       "    }\n",
       "</style>\n",
       "<table border=\"1\" class=\"dataframe\">\n",
       "  <thead>\n",
       "    <tr style=\"text-align: right;\">\n",
       "      <th></th>\n",
       "      <th>Date</th>\n",
       "      <th>Time</th>\n",
       "      <th>Booking ID</th>\n",
       "      <th>Booking Status</th>\n",
       "      <th>Customer ID</th>\n",
       "      <th>Vehicle Type</th>\n",
       "      <th>Pickup Location</th>\n",
       "      <th>Drop Location</th>\n",
       "      <th>Avg VTAT</th>\n",
       "      <th>Avg CTAT</th>\n",
       "      <th>...</th>\n",
       "      <th>Reason for cancelling by Customer</th>\n",
       "      <th>Cancelled Rides by Driver</th>\n",
       "      <th>Driver Cancellation Reason</th>\n",
       "      <th>Incomplete Rides</th>\n",
       "      <th>Incomplete Rides Reason</th>\n",
       "      <th>Booking Value</th>\n",
       "      <th>Ride Distance</th>\n",
       "      <th>Driver Ratings</th>\n",
       "      <th>Customer Rating</th>\n",
       "      <th>Payment Method</th>\n",
       "    </tr>\n",
       "  </thead>\n",
       "  <tbody>\n",
       "    <tr>\n",
       "      <th>0</th>\n",
       "      <td>2024-03-23</td>\n",
       "      <td>1900-01-01 12:29:38</td>\n",
       "      <td>CNR5884300</td>\n",
       "      <td>NoDriverFound</td>\n",
       "      <td>CID1982111</td>\n",
       "      <td>eBike</td>\n",
       "      <td>PalamVihar</td>\n",
       "      <td>Jhilmil</td>\n",
       "      <td>0.0</td>\n",
       "      <td>0.0</td>\n",
       "      <td>...</td>\n",
       "      <td>NaN</td>\n",
       "      <td>0.0</td>\n",
       "      <td>NaN</td>\n",
       "      <td>0.0</td>\n",
       "      <td>NaN</td>\n",
       "      <td>0</td>\n",
       "      <td>0.00</td>\n",
       "      <td>4.23</td>\n",
       "      <td>4.4</td>\n",
       "      <td>NaN</td>\n",
       "    </tr>\n",
       "    <tr>\n",
       "      <th>1</th>\n",
       "      <td>2024-11-29</td>\n",
       "      <td>1900-01-01 18:01:39</td>\n",
       "      <td>CNR1326809</td>\n",
       "      <td>Incomplete</td>\n",
       "      <td>CID4604802</td>\n",
       "      <td>GoSedan</td>\n",
       "      <td>ShastriNagar</td>\n",
       "      <td>GurgaonSector56</td>\n",
       "      <td>4.9</td>\n",
       "      <td>0.0</td>\n",
       "      <td>...</td>\n",
       "      <td>NaN</td>\n",
       "      <td>0.0</td>\n",
       "      <td>NaN</td>\n",
       "      <td>1.0</td>\n",
       "      <td>VehicleBreakdown</td>\n",
       "      <td>237</td>\n",
       "      <td>5.73</td>\n",
       "      <td>4.23</td>\n",
       "      <td>4.4</td>\n",
       "      <td>UPI</td>\n",
       "    </tr>\n",
       "    <tr>\n",
       "      <th>2</th>\n",
       "      <td>2024-08-23</td>\n",
       "      <td>1900-01-01 08:56:10</td>\n",
       "      <td>CNR8494506</td>\n",
       "      <td>Completed</td>\n",
       "      <td>CID9202816</td>\n",
       "      <td>Auto</td>\n",
       "      <td>Khandsa</td>\n",
       "      <td>MalviyaNagar</td>\n",
       "      <td>13.4</td>\n",
       "      <td>0.0</td>\n",
       "      <td>...</td>\n",
       "      <td>NaN</td>\n",
       "      <td>0.0</td>\n",
       "      <td>NaN</td>\n",
       "      <td>0.0</td>\n",
       "      <td>NaN</td>\n",
       "      <td>627</td>\n",
       "      <td>13.58</td>\n",
       "      <td>4.90</td>\n",
       "      <td>4.9</td>\n",
       "      <td>DebitCard</td>\n",
       "    </tr>\n",
       "    <tr>\n",
       "      <th>3</th>\n",
       "      <td>2024-10-21</td>\n",
       "      <td>1900-01-01 17:17:25</td>\n",
       "      <td>CNR8906825</td>\n",
       "      <td>Completed</td>\n",
       "      <td>CID2610914</td>\n",
       "      <td>PremierSedan</td>\n",
       "      <td>CentralSecretariat</td>\n",
       "      <td>Inderlok</td>\n",
       "      <td>13.1</td>\n",
       "      <td>0.0</td>\n",
       "      <td>...</td>\n",
       "      <td>NaN</td>\n",
       "      <td>0.0</td>\n",
       "      <td>NaN</td>\n",
       "      <td>0.0</td>\n",
       "      <td>NaN</td>\n",
       "      <td>416</td>\n",
       "      <td>34.02</td>\n",
       "      <td>4.60</td>\n",
       "      <td>5.0</td>\n",
       "      <td>UPI</td>\n",
       "    </tr>\n",
       "    <tr>\n",
       "      <th>4</th>\n",
       "      <td>2024-09-16</td>\n",
       "      <td>1900-01-01 22:08:00</td>\n",
       "      <td>CNR1950162</td>\n",
       "      <td>Completed</td>\n",
       "      <td>CID9933542</td>\n",
       "      <td>Bike</td>\n",
       "      <td>GhitorniVillage</td>\n",
       "      <td>KhanMarket</td>\n",
       "      <td>5.3</td>\n",
       "      <td>0.0</td>\n",
       "      <td>...</td>\n",
       "      <td>NaN</td>\n",
       "      <td>0.0</td>\n",
       "      <td>NaN</td>\n",
       "      <td>0.0</td>\n",
       "      <td>NaN</td>\n",
       "      <td>737</td>\n",
       "      <td>48.21</td>\n",
       "      <td>4.10</td>\n",
       "      <td>4.3</td>\n",
       "      <td>UPI</td>\n",
       "    </tr>\n",
       "  </tbody>\n",
       "</table>\n",
       "<p>5 rows × 21 columns</p>\n",
       "</div>"
      ]
     },
     "execution_count": 6,
     "metadata": {},
     "output_type": "execute_result"
    }
   ],
   "execution_count": 6
  },
  {
   "metadata": {
    "ExecuteTime": {
     "end_time": "2025-09-26T20:40:11.185609Z",
     "start_time": "2025-09-26T20:40:11.175157Z"
    }
   },
   "cell_type": "code",
   "source": [
    "#Eliminacion de variables\n",
    "selected_data = data.copy()\n",
    "selected_data = selected_data.drop(\n",
    "    columns=['Booking ID', 'Customer ID', 'Vehicle Type', 'Pickup Location', 'Drop Location', 'Date', 'Time',\n",
    "             'Customer Rating', 'Driver Ratings'])\n",
    "selected_data.head()"
   ],
   "id": "42d2408efd6d0bd4",
   "outputs": [
    {
     "data": {
      "text/plain": [
       "  Booking Status  Avg VTAT  Avg CTAT  Cancelled Rides by Customer  \\\n",
       "0  NoDriverFound       0.0       0.0                          0.0   \n",
       "1     Incomplete       4.9       0.0                          0.0   \n",
       "2      Completed      13.4       0.0                          0.0   \n",
       "3      Completed      13.1       0.0                          0.0   \n",
       "4      Completed       5.3       0.0                          0.0   \n",
       "\n",
       "  Reason for cancelling by Customer  Cancelled Rides by Driver  \\\n",
       "0                               NaN                        0.0   \n",
       "1                               NaN                        0.0   \n",
       "2                               NaN                        0.0   \n",
       "3                               NaN                        0.0   \n",
       "4                               NaN                        0.0   \n",
       "\n",
       "  Driver Cancellation Reason  Incomplete Rides Incomplete Rides Reason  \\\n",
       "0                        NaN               0.0                     NaN   \n",
       "1                        NaN               1.0        VehicleBreakdown   \n",
       "2                        NaN               0.0                     NaN   \n",
       "3                        NaN               0.0                     NaN   \n",
       "4                        NaN               0.0                     NaN   \n",
       "\n",
       "   Booking Value  Ride Distance Payment Method  \n",
       "0              0           0.00            NaN  \n",
       "1            237           5.73            UPI  \n",
       "2            627          13.58      DebitCard  \n",
       "3            416          34.02            UPI  \n",
       "4            737          48.21            UPI  "
      ],
      "text/html": [
       "<div>\n",
       "<style scoped>\n",
       "    .dataframe tbody tr th:only-of-type {\n",
       "        vertical-align: middle;\n",
       "    }\n",
       "\n",
       "    .dataframe tbody tr th {\n",
       "        vertical-align: top;\n",
       "    }\n",
       "\n",
       "    .dataframe thead th {\n",
       "        text-align: right;\n",
       "    }\n",
       "</style>\n",
       "<table border=\"1\" class=\"dataframe\">\n",
       "  <thead>\n",
       "    <tr style=\"text-align: right;\">\n",
       "      <th></th>\n",
       "      <th>Booking Status</th>\n",
       "      <th>Avg VTAT</th>\n",
       "      <th>Avg CTAT</th>\n",
       "      <th>Cancelled Rides by Customer</th>\n",
       "      <th>Reason for cancelling by Customer</th>\n",
       "      <th>Cancelled Rides by Driver</th>\n",
       "      <th>Driver Cancellation Reason</th>\n",
       "      <th>Incomplete Rides</th>\n",
       "      <th>Incomplete Rides Reason</th>\n",
       "      <th>Booking Value</th>\n",
       "      <th>Ride Distance</th>\n",
       "      <th>Payment Method</th>\n",
       "    </tr>\n",
       "  </thead>\n",
       "  <tbody>\n",
       "    <tr>\n",
       "      <th>0</th>\n",
       "      <td>NoDriverFound</td>\n",
       "      <td>0.0</td>\n",
       "      <td>0.0</td>\n",
       "      <td>0.0</td>\n",
       "      <td>NaN</td>\n",
       "      <td>0.0</td>\n",
       "      <td>NaN</td>\n",
       "      <td>0.0</td>\n",
       "      <td>NaN</td>\n",
       "      <td>0</td>\n",
       "      <td>0.00</td>\n",
       "      <td>NaN</td>\n",
       "    </tr>\n",
       "    <tr>\n",
       "      <th>1</th>\n",
       "      <td>Incomplete</td>\n",
       "      <td>4.9</td>\n",
       "      <td>0.0</td>\n",
       "      <td>0.0</td>\n",
       "      <td>NaN</td>\n",
       "      <td>0.0</td>\n",
       "      <td>NaN</td>\n",
       "      <td>1.0</td>\n",
       "      <td>VehicleBreakdown</td>\n",
       "      <td>237</td>\n",
       "      <td>5.73</td>\n",
       "      <td>UPI</td>\n",
       "    </tr>\n",
       "    <tr>\n",
       "      <th>2</th>\n",
       "      <td>Completed</td>\n",
       "      <td>13.4</td>\n",
       "      <td>0.0</td>\n",
       "      <td>0.0</td>\n",
       "      <td>NaN</td>\n",
       "      <td>0.0</td>\n",
       "      <td>NaN</td>\n",
       "      <td>0.0</td>\n",
       "      <td>NaN</td>\n",
       "      <td>627</td>\n",
       "      <td>13.58</td>\n",
       "      <td>DebitCard</td>\n",
       "    </tr>\n",
       "    <tr>\n",
       "      <th>3</th>\n",
       "      <td>Completed</td>\n",
       "      <td>13.1</td>\n",
       "      <td>0.0</td>\n",
       "      <td>0.0</td>\n",
       "      <td>NaN</td>\n",
       "      <td>0.0</td>\n",
       "      <td>NaN</td>\n",
       "      <td>0.0</td>\n",
       "      <td>NaN</td>\n",
       "      <td>416</td>\n",
       "      <td>34.02</td>\n",
       "      <td>UPI</td>\n",
       "    </tr>\n",
       "    <tr>\n",
       "      <th>4</th>\n",
       "      <td>Completed</td>\n",
       "      <td>5.3</td>\n",
       "      <td>0.0</td>\n",
       "      <td>0.0</td>\n",
       "      <td>NaN</td>\n",
       "      <td>0.0</td>\n",
       "      <td>NaN</td>\n",
       "      <td>0.0</td>\n",
       "      <td>NaN</td>\n",
       "      <td>737</td>\n",
       "      <td>48.21</td>\n",
       "      <td>UPI</td>\n",
       "    </tr>\n",
       "  </tbody>\n",
       "</table>\n",
       "</div>"
      ]
     },
     "execution_count": 7,
     "metadata": {},
     "output_type": "execute_result"
    }
   ],
   "execution_count": 7
  },
  {
   "metadata": {
    "ExecuteTime": {
     "end_time": "2025-09-26T20:40:11.243320Z",
     "start_time": "2025-09-26T20:40:11.232307Z"
    }
   },
   "cell_type": "code",
   "source": [
    "#Reduccion de dimensionalidad\n",
    "# Cash, NA, Debit\n",
    "mapa_pago = {\n",
    "    'DebitCard': 'Debit',\n",
    "    'CreditCard': 'Debit',\n",
    "    'UberWallet': 'Debit',\n",
    "    'Cash': 'Cash',\n",
    "    'UPI': 'Debit',\n",
    "}\n",
    "selected_data['Payment Method'] = selected_data['Payment Method'].map(mapa_pago)\n",
    "selected_data['Payment Method'] = selected_data['Payment Method'].astype('category');\n",
    "selected_data.info()\n"
   ],
   "id": "8a32e7270d9afa95",
   "outputs": [
    {
     "name": "stdout",
     "output_type": "stream",
     "text": [
      "<class 'pandas.core.frame.DataFrame'>\n",
      "RangeIndex: 150000 entries, 0 to 149999\n",
      "Data columns (total 12 columns):\n",
      " #   Column                             Non-Null Count   Dtype   \n",
      "---  ------                             --------------   -----   \n",
      " 0   Booking Status                     150000 non-null  category\n",
      " 1   Avg VTAT                           150000 non-null  float64 \n",
      " 2   Avg CTAT                           150000 non-null  float64 \n",
      " 3   Cancelled Rides by Customer        150000 non-null  float64 \n",
      " 4   Reason for cancelling by Customer  10500 non-null   category\n",
      " 5   Cancelled Rides by Driver          150000 non-null  float64 \n",
      " 6   Driver Cancellation Reason         27000 non-null   category\n",
      " 7   Incomplete Rides                   150000 non-null  float64 \n",
      " 8   Incomplete Rides Reason            9000 non-null    category\n",
      " 9   Booking Value                      150000 non-null  int64   \n",
      " 10  Ride Distance                      150000 non-null  float64 \n",
      " 11  Payment Method                     102000 non-null  category\n",
      "dtypes: category(5), float64(6), int64(1)\n",
      "memory usage: 8.7 MB\n"
     ]
    }
   ],
   "execution_count": 8
  },
  {
   "metadata": {
    "ExecuteTime": {
     "end_time": "2025-09-26T20:40:11.404015Z",
     "start_time": "2025-09-26T20:40:11.313435Z"
    }
   },
   "cell_type": "code",
   "source": [
    "# Transformacion de variables\n",
    "distance_bins = [0, 15, 30, float('inf')]\n",
    "distance_labels = ['Corta', 'Intermedia', 'Extensa']\n",
    "\n",
    "selected_data['Ride Distance'] = pd.cut(selected_data['Ride Distance'], bins=distance_bins, labels=distance_labels,\n",
    "                                        include_lowest=True)\n",
    "selected_data['Ride Distance'].value_counts().plot(kind='bar')"
   ],
   "id": "597b85707eea03f9",
   "outputs": [
    {
     "data": {
      "text/plain": [
       "<Axes: xlabel='Ride Distance'>"
      ]
     },
     "execution_count": 9,
     "metadata": {},
     "output_type": "execute_result"
    },
    {
     "data": {
      "text/plain": [
       "<Figure size 640x480 with 1 Axes>"
      ],
      "image/png": "[encoded data removed]"
     },
     "metadata": {},
     "output_type": "display_data"
    }
   ],
   "execution_count": 9
  },
  {
   "metadata": {
    "ExecuteTime": {
     "end_time": "2025-09-26T20:40:11.467485Z",
     "start_time": "2025-09-26T20:40:11.416236Z"
    }
   },
   "cell_type": "code",
   "source": [
    "# Transformacion de variables\n",
    "ctat_bins = [0, 10, 45, float('inf')]\n",
    "ctat_labels = ['Alto', 'Medio', 'Bajo']\n",
    "\n",
    "selected_data['Avg CTAT'] = pd.cut(selected_data['Avg CTAT'], bins=ctat_bins, labels=ctat_labels, include_lowest=True)\n",
    "selected_data['Avg CTAT'].value_counts().plot(kind='bar')"
   ],
   "id": "749911f76fac27fe",
   "outputs": [
    {
     "data": {
      "text/plain": [
       "<Axes: xlabel='Avg CTAT'>"
      ]
     },
     "execution_count": 10,
     "metadata": {},
     "output_type": "execute_result"
    },
    {
     "data": {
      "text/plain": [
       "<Figure size 640x480 with 1 Axes>"
      ],
      "image/png": "[encoded data removed]"
     },
     "metadata": {},
     "output_type": "display_data"
    }
   ],
   "execution_count": 10
  },
  {
   "metadata": {
    "ExecuteTime": {
     "end_time": "2025-09-26T20:40:11.519513Z",
     "start_time": "2025-09-26T20:40:11.486856Z"
    }
   },
   "cell_type": "code",
   "source": [
    "vtat_bins = [2, 7, 12, 20]\n",
    "vtat_labels = ['Bajo', 'Medio', 'Alto']\n",
    "\n",
    "selected_data['Avg VTAT'] = pd.cut(\n",
    "    selected_data['Avg VTAT'],\n",
    "    bins=vtat_bins,\n",
    "    labels=vtat_labels,\n",
    "    include_lowest=True\n",
    ")\n",
    "selected_data['Avg VTAT'].value_counts().plot(kind='bar')\n"
   ],
   "id": "f5536b32580be3ff",
   "outputs": [
    {
     "data": {
      "text/plain": [
       "<Axes: xlabel='Avg VTAT'>"
      ]
     },
     "execution_count": 11,
     "metadata": {},
     "output_type": "execute_result"
    },
    {
     "data": {
      "text/plain": [
       "<Figure size 640x480 with 1 Axes>"
      ],
      "image/png": "[encoded data removed]"
     },
     "metadata": {},
     "output_type": "display_data"
    }
   ],
   "execution_count": 11
  },
  {
   "metadata": {
    "ExecuteTime": {
     "end_time": "2025-09-26T20:40:11.551733Z",
     "start_time": "2025-09-26T20:40:11.535951Z"
    }
   },
   "cell_type": "code",
   "source": [
    "#LabelEncoder para la variable objetivo\n",
    "labelencoder = LabelEncoder()\n",
    "selected_data[\"Booking Status\"] = labelencoder.fit_transform(data[\"Booking Status\"])\n",
    "data.head()"
   ],
   "id": "fdcdc8f9f5f2e759",
   "outputs": [
    {
     "data": {
      "text/plain": [
       "        Date                Time  Booking ID Booking Status Customer ID  \\\n",
       "0 2024-03-23 1900-01-01 12:29:38  CNR5884300  NoDriverFound  CID1982111   \n",
       "1 2024-11-29 1900-01-01 18:01:39  CNR1326809     Incomplete  CID4604802   \n",
       "2 2024-08-23 1900-01-01 08:56:10  CNR8494506      Completed  CID9202816   \n",
       "3 2024-10-21 1900-01-01 17:17:25  CNR8906825      Completed  CID2610914   \n",
       "4 2024-09-16 1900-01-01 22:08:00  CNR1950162      Completed  CID9933542   \n",
       "\n",
       "   Vehicle Type     Pickup Location    Drop Location  Avg VTAT  Avg CTAT  ...  \\\n",
       "0         eBike          PalamVihar          Jhilmil       0.0       0.0  ...   \n",
       "1       GoSedan        ShastriNagar  GurgaonSector56       4.9       0.0  ...   \n",
       "2          Auto             Khandsa     MalviyaNagar      13.4       0.0  ...   \n",
       "3  PremierSedan  CentralSecretariat         Inderlok      13.1       0.0  ...   \n",
       "4          Bike     GhitorniVillage       KhanMarket       5.3       0.0  ...   \n",
       "\n",
       "   Reason for cancelling by Customer Cancelled Rides by Driver  \\\n",
       "0                                NaN                       0.0   \n",
       "1                                NaN                       0.0   \n",
       "2                                NaN                       0.0   \n",
       "3                                NaN                       0.0   \n",
       "4                                NaN                       0.0   \n",
       "\n",
       "   Driver Cancellation Reason Incomplete Rides  Incomplete Rides Reason  \\\n",
       "0                         NaN              0.0                      NaN   \n",
       "1                         NaN              1.0         VehicleBreakdown   \n",
       "2                         NaN              0.0                      NaN   \n",
       "3                         NaN              0.0                      NaN   \n",
       "4                         NaN              0.0                      NaN   \n",
       "\n",
       "  Booking Value  Ride Distance  Driver Ratings  Customer Rating  \\\n",
       "0             0           0.00            4.23              4.4   \n",
       "1           237           5.73            4.23              4.4   \n",
       "2           627          13.58            4.90              4.9   \n",
       "3           416          34.02            4.60              5.0   \n",
       "4           737          48.21            4.10              4.3   \n",
       "\n",
       "   Payment Method  \n",
       "0             NaN  \n",
       "1             UPI  \n",
       "2       DebitCard  \n",
       "3             UPI  \n",
       "4             UPI  \n",
       "\n",
       "[5 rows x 21 columns]"
      ],
      "text/html": [
       "<div>\n",
       "<style scoped>\n",
       "    .dataframe tbody tr th:only-of-type {\n",
       "        vertical-align: middle;\n",
       "    }\n",
       "\n",
       "    .dataframe tbody tr th {\n",
       "        vertical-align: top;\n",
       "    }\n",
       "\n",
       "    .dataframe thead th {\n",
       "        text-align: right;\n",
       "    }\n",
       "</style>\n",
       "<table border=\"1\" class=\"dataframe\">\n",
       "  <thead>\n",
       "    <tr style=\"text-align: right;\">\n",
       "      <th></th>\n",
       "      <th>Date</th>\n",
       "      <th>Time</th>\n",
       "      <th>Booking ID</th>\n",
       "      <th>Booking Status</th>\n",
       "      <th>Customer ID</th>\n",
       "      <th>Vehicle Type</th>\n",
       "      <th>Pickup Location</th>\n",
       "      <th>Drop Location</th>\n",
       "      <th>Avg VTAT</th>\n",
       "      <th>Avg CTAT</th>\n",
       "      <th>...</th>\n",
       "      <th>Reason for cancelling by Customer</th>\n",
       "      <th>Cancelled Rides by Driver</th>\n",
       "      <th>Driver Cancellation Reason</th>\n",
       "      <th>Incomplete Rides</th>\n",
       "      <th>Incomplete Rides Reason</th>\n",
       "      <th>Booking Value</th>\n",
       "      <th>Ride Distance</th>\n",
       "      <th>Driver Ratings</th>\n",
       "      <th>Customer Rating</th>\n",
       "      <th>Payment Method</th>\n",
       "    </tr>\n",
       "  </thead>\n",
       "  <tbody>\n",
       "    <tr>\n",
       "      <th>0</th>\n",
       "      <td>2024-03-23</td>\n",
       "      <td>1900-01-01 12:29:38</td>\n",
       "      <td>CNR5884300</td>\n",
       "      <td>NoDriverFound</td>\n",
       "      <td>CID1982111</td>\n",
       "      <td>eBike</td>\n",
       "      <td>PalamVihar</td>\n",
       "      <td>Jhilmil</td>\n",
       "      <td>0.0</td>\n",
       "      <td>0.0</td>\n",
       "      <td>...</td>\n",
       "      <td>NaN</td>\n",
       "      <td>0.0</td>\n",
       "      <td>NaN</td>\n",
       "      <td>0.0</td>\n",
       "      <td>NaN</td>\n",
       "      <td>0</td>\n",
       "      <td>0.00</td>\n",
       "      <td>4.23</td>\n",
       "      <td>4.4</td>\n",
       "      <td>NaN</td>\n",
       "    </tr>\n",
       "    <tr>\n",
       "      <th>1</th>\n",
       "      <td>2024-11-29</td>\n",
       "      <td>1900-01-01 18:01:39</td>\n",
       "      <td>CNR1326809</td>\n",
       "      <td>Incomplete</td>\n",
       "      <td>CID4604802</td>\n",
       "      <td>GoSedan</td>\n",
       "      <td>ShastriNagar</td>\n",
       "      <td>GurgaonSector56</td>\n",
       "      <td>4.9</td>\n",
       "      <td>0.0</td>\n",
       "      <td>...</td>\n",
       "      <td>NaN</td>\n",
       "      <td>0.0</td>\n",
       "      <td>NaN</td>\n",
       "      <td>1.0</td>\n",
       "      <td>VehicleBreakdown</td>\n",
       "      <td>237</td>\n",
       "      <td>5.73</td>\n",
       "      <td>4.23</td>\n",
       "      <td>4.4</td>\n",
       "      <td>UPI</td>\n",
       "    </tr>\n",
       "    <tr>\n",
       "      <th>2</th>\n",
       "      <td>2024-08-23</td>\n",
       "      <td>1900-01-01 08:56:10</td>\n",
       "      <td>CNR8494506</td>\n",
       "      <td>Completed</td>\n",
       "      <td>CID9202816</td>\n",
       "      <td>Auto</td>\n",
       "      <td>Khandsa</td>\n",
       "      <td>MalviyaNagar</td>\n",
       "      <td>13.4</td>\n",
       "      <td>0.0</td>\n",
       "      <td>...</td>\n",
       "      <td>NaN</td>\n",
       "      <td>0.0</td>\n",
       "      <td>NaN</td>\n",
       "      <td>0.0</td>\n",
       "      <td>NaN</td>\n",
       "      <td>627</td>\n",
       "      <td>13.58</td>\n",
       "      <td>4.90</td>\n",
       "      <td>4.9</td>\n",
       "      <td>DebitCard</td>\n",
       "    </tr>\n",
       "    <tr>\n",
       "      <th>3</th>\n",
       "      <td>2024-10-21</td>\n",
       "      <td>1900-01-01 17:17:25</td>\n",
       "      <td>CNR8906825</td>\n",
       "      <td>Completed</td>\n",
       "      <td>CID2610914</td>\n",
       "      <td>PremierSedan</td>\n",
       "      <td>CentralSecretariat</td>\n",
       "      <td>Inderlok</td>\n",
       "      <td>13.1</td>\n",
       "      <td>0.0</td>\n",
       "      <td>...</td>\n",
       "      <td>NaN</td>\n",
       "      <td>0.0</td>\n",
       "      <td>NaN</td>\n",
       "      <td>0.0</td>\n",
       "      <td>NaN</td>\n",
       "      <td>416</td>\n",
       "      <td>34.02</td>\n",
       "      <td>4.60</td>\n",
       "      <td>5.0</td>\n",
       "      <td>UPI</td>\n",
       "    </tr>\n",
       "    <tr>\n",
       "      <th>4</th>\n",
       "      <td>2024-09-16</td>\n",
       "      <td>1900-01-01 22:08:00</td>\n",
       "      <td>CNR1950162</td>\n",
       "      <td>Completed</td>\n",
       "      <td>CID9933542</td>\n",
       "      <td>Bike</td>\n",
       "      <td>GhitorniVillage</td>\n",
       "      <td>KhanMarket</td>\n",
       "      <td>5.3</td>\n",
       "      <td>0.0</td>\n",
       "      <td>...</td>\n",
       "      <td>NaN</td>\n",
       "      <td>0.0</td>\n",
       "      <td>NaN</td>\n",
       "      <td>0.0</td>\n",
       "      <td>NaN</td>\n",
       "      <td>737</td>\n",
       "      <td>48.21</td>\n",
       "      <td>4.10</td>\n",
       "      <td>4.3</td>\n",
       "      <td>UPI</td>\n",
       "    </tr>\n",
       "  </tbody>\n",
       "</table>\n",
       "<p>5 rows × 21 columns</p>\n",
       "</div>"
      ]
     },
     "execution_count": 12,
     "metadata": {},
     "output_type": "execute_result"
    }
   ],
   "execution_count": 12
  },
  {
   "metadata": {
    "ExecuteTime": {
     "end_time": "2025-09-26T20:40:14.903447Z",
     "start_time": "2025-09-26T20:40:11.578843Z"
    }
   },
   "cell_type": "code",
   "source": [
    "#revisionj de fuga de informacion / correlacion\n",
    "\n",
    "X = selected_data.drop(columns=['Booking Status'])\n",
    "y = selected_data['Booking Status']\n",
    "\n",
    "X_enc = X.copy()\n",
    "for col in X_enc.select_dtypes(include=['object', 'category']).columns:\n",
    "    le = LabelEncoder()\n",
    "    X_enc[col] = le.fit_transform(X_enc[col].astype(str))\n",
    "\n",
    "# Calcular importancia de cada variable respecto al target\n",
    "mi = mutual_info_classif(X_enc, y, discrete_features='auto')\n",
    "\n",
    "mi_scores = pd.Series(mi, index=X_enc.columns).sort_values(ascending=False)\n",
    "print(mi_scores)"
   ],
   "id": "fb6fd69802cdfd50",
   "outputs": [
    {
     "name": "stdout",
     "output_type": "stream",
     "text": [
      "Payment Method                       0.635834\n",
      "Booking Value                        0.627515\n",
      "Avg CTAT                             0.510438\n",
      "Driver Cancellation Reason           0.482843\n",
      "Cancelled Rides by Driver            0.475160\n",
      "Avg VTAT                             0.339925\n",
      "Ride Distance                        0.313983\n",
      "Reason for cancelling by Customer    0.268009\n",
      "Cancelled Rides by Customer          0.256281\n",
      "Incomplete Rides Reason              0.243421\n",
      "Incomplete Rides                     0.230331\n",
      "dtype: float64\n"
     ]
    }
   ],
   "execution_count": 13
  },
  {
   "metadata": {
    "ExecuteTime": {
     "end_time": "2025-09-26T20:40:14.976273Z",
     "start_time": "2025-09-26T20:40:14.927538Z"
    }
   },
   "cell_type": "code",
   "source": [
    "cols_fuga = [\n",
    "    'Driver Cancellation Reason',\n",
    "    'Cancelled Rides by Driver',\n",
    "    'Reason for cancelling by Customer',\n",
    "    'Cancelled Rides by Customer',\n",
    "    'Incomplete Rides Reason',\n",
    "    'Incomplete Rides'\n",
    "]\n",
    "#No sirven para predecir, porque estan construidas con la misma informacion que el target.\n",
    "X = selected_data.drop(columns=cols_fuga + ['Booking Status'])\n",
    "Y = selected_data['Booking Status']\n",
    "X_train, X_test, Y_train, Y_test = train_test_split(X, Y, test_size=0.3)  #En regresion no es muestreo estratificado\n",
    "Y_train.plot(kind='hist')"
   ],
   "id": "b6ae10c1efbf9024",
   "outputs": [
    {
     "data": {
      "text/plain": [
       "<Axes: ylabel='Frequency'>"
      ]
     },
     "execution_count": 14,
     "metadata": {},
     "output_type": "execute_result"
    },
    {
     "data": {
      "text/plain": [
       "<Figure size 640x480 with 1 Axes>"
      ],
      "image/png": "[encoded data removed]"
     },
     "metadata": {},
     "output_type": "display_data"
    }
   ],
   "execution_count": 14
  },
  {
   "metadata": {
    "ExecuteTime": {
     "end_time": "2025-09-26T20:40:15.054505Z",
     "start_time": "2025-09-26T20:40:14.996153Z"
    }
   },
   "cell_type": "code",
   "source": [
    "# Copia del dataset\n",
    "X_enc = X.copy()\n",
    "\n",
    "# DecisionTreeClassifier no trabajka con objetos o cats\n",
    "for col in X_enc.select_dtypes(include=['object', 'category']).columns:\n",
    "    le = LabelEncoder()\n",
    "    X_enc[col] = le.fit_transform(X_enc[col].astype(str))\n",
    "\n",
    "X_train, X_test, Y_train, Y_test = train_test_split(X_enc, Y, test_size=0.3, random_state=42)\n"
   ],
   "id": "7a14a762570f2581",
   "outputs": [],
   "execution_count": 15
  },
  {
   "metadata": {
    "ExecuteTime": {
     "end_time": "2025-09-26T20:40:15.112245Z",
     "start_time": "2025-09-26T20:40:15.064467Z"
    }
   },
   "cell_type": "code",
   "source": [
    "#Arbol de clasificación\n",
    "#class_weight='balanced' balancea automatico\n",
    "model_dt = DecisionTreeClassifier(criterion='gini', min_samples_leaf=20, max_depth=5, class_weight='balanced')\n",
    "model_dt.fit(X_train, Y_train)\n",
    "\n",
    "#Evaluación\n",
    "Y_pred = model_dt.predict(X_test)\n",
    "print(metrics.classification_report(y_true=Y_test, y_pred=Y_pred, target_names=labelencoder.classes_))\n"
   ],
   "id": "dc55f4584372e5e3",
   "outputs": [
    {
     "name": "stdout",
     "output_type": "stream",
     "text": [
      "                     precision    recall  f1-score   support\n",
      "\n",
      "CancelledbyCustomer       1.00      0.54      0.70      3075\n",
      "  CancelledbyDriver       0.85      1.00      0.92      8152\n",
      "          Completed       0.99      0.67      0.80     27921\n",
      "         Incomplete       0.21      0.90      0.34      2688\n",
      "      NoDriverFound       1.00      1.00      1.00      3164\n",
      "\n",
      "           accuracy                           0.76     45000\n",
      "          macro avg       0.81      0.82      0.75     45000\n",
      "       weighted avg       0.92      0.76      0.80     45000\n",
      "\n"
     ]
    }
   ],
   "execution_count": 16
  },
  {
   "metadata": {
    "ExecuteTime": {
     "end_time": "2025-09-26T20:40:15.181478Z",
     "start_time": "2025-09-26T20:40:15.123733Z"
    }
   },
   "cell_type": "code",
   "source": [
    "cm = metrics.confusion_matrix(Y_test, Y_pred)\n",
    "plt.figure(figsize=(6, 5))\n",
    "sns.heatmap(cm, annot=True, fmt='d', cmap='Blues',\n",
    "            xticklabels=labelencoder.classes_,\n",
    "            yticklabels=labelencoder.classes_)\n",
    "plt.xlabel(\"Predicción\")\n",
    "plt.ylabel(\"Real\")\n",
    "plt.title(\"Matriz de Confusión\")\n",
    "plt.show()"
   ],
   "id": "1586a85d0cc7f493",
   "outputs": [
    {
     "data": {
      "text/plain": [
       "<Figure size 600x500 with 2 Axes>"
      ],
      "image/png": "[encoded data removed]"
     },
     "metadata": {},
     "output_type": "display_data"
    }
   ],
   "execution_count": 17
  },
  {
   "metadata": {
    "ExecuteTime": {
     "end_time": "2025-09-26T20:40:15.451796Z",
     "start_time": "2025-09-26T20:40:15.195330Z"
    }
   },
   "cell_type": "code",
   "source": [
    "plt.figure(figsize=(20, 20))\n",
    "plot_tree(model_dt, feature_names=X_train.columns.values, class_names=labelencoder.classes_, rounded=True, filled=True)\n",
    "plt.show()"
   ],
   "id": "3ebecdda8247c98e",
   "outputs": [
    {
     "data": {
      "text/plain": [
       "<Figure size 2000x2000 with 1 Axes>"
      ],
      "image/png": "[encoded data removed]"
     },
     "metadata": {},
     "output_type": "display_data"
    }
   ],
   "execution_count": 18
  },
  {
   "metadata": {
    "ExecuteTime": {
     "end_time": "2025-09-26T20:40:16.205087Z",
     "start_time": "2025-09-26T20:40:15.465161Z"
    }
   },
   "cell_type": "code",
   "source": [
    "#Método Perezoso\n",
    "model_knn = KNeighborsClassifier(n_neighbors=1, metric='euclidean')\n",
    "model_knn.fit(X_train, Y_train)\n",
    "\n",
    "#Evaluación\n",
    "Y_pred = model_knn.predict(X_test)\n",
    "print(metrics.classification_report(y_true=Y_test, y_pred=Y_pred, target_names=labelencoder.classes_))"
   ],
   "id": "7d60073243daa8ee",
   "outputs": [
    {
     "name": "stdout",
     "output_type": "stream",
     "text": [
      "                     precision    recall  f1-score   support\n",
      "\n",
      "CancelledbyCustomer       1.00      0.54      0.70      3075\n",
      "  CancelledbyDriver       0.85      1.00      0.92      8152\n",
      "          Completed       0.92      0.92      0.92     27921\n",
      "         Incomplete       0.20      0.20      0.20      2688\n",
      "      NoDriverFound       1.00      1.00      1.00      3164\n",
      "\n",
      "           accuracy                           0.87     45000\n",
      "          macro avg       0.79      0.73      0.75     45000\n",
      "       weighted avg       0.88      0.87      0.87     45000\n",
      "\n"
     ]
    }
   ],
   "execution_count": 19
  },
  {
   "metadata": {
    "ExecuteTime": {
     "end_time": "2025-09-26T20:40:21.904785Z",
     "start_time": "2025-09-26T20:40:16.217116Z"
    }
   },
   "cell_type": "code",
   "source": [
    "smote = SMOTE(random_state=42)\n",
    "X_res, Y_res = smote.fit_resample(X_train, Y_train)\n",
    "print(\"Tamaño original:\", X_train.shape, \" → Balanceado con SMOTE:\", X_res.shape)\n",
    "#Necesito usar smote para balancear la clase, similar a lo del arbol\n",
    "\n",
    "#Red neuronal\n",
    "model_rn = MLPClassifier(activation=\"relu\", hidden_layer_sizes=(25), learning_rate='constant',\n",
    "                         learning_rate_init=0.02, momentum=0.3, max_iter=500, verbose=False, random_state=42)\n",
    "model_rn.fit(X_res, Y_res)\n",
    "\n",
    "#Evaluación\n",
    "Y_pred = model_rn.predict(X_test)\n",
    "print(metrics.classification_report(y_true=Y_test, y_pred=Y_pred, target_names=labelencoder.classes_))"
   ],
   "id": "e3c0861168b4f14b",
   "outputs": [
    {
     "name": "stdout",
     "output_type": "stream",
     "text": [
      "Tamaño original: (105000, 5)  → Balanceado con SMOTE: (325395, 5)\n",
      "                     precision    recall  f1-score   support\n",
      "\n",
      "CancelledbyCustomer       1.00      0.54      0.70      3075\n",
      "  CancelledbyDriver       0.85      1.00      0.92      8152\n",
      "          Completed       0.97      0.73      0.83     27921\n",
      "         Incomplete       0.21      0.73      0.32      2688\n",
      "      NoDriverFound       1.00      1.00      1.00      3164\n",
      "\n",
      "           accuracy                           0.78     45000\n",
      "          macro avg       0.80      0.80      0.75     45000\n",
      "       weighted avg       0.90      0.78      0.82     45000\n",
      "\n"
     ]
    }
   ],
   "execution_count": 20
  },
  {
   "metadata": {
    "ExecuteTime": {
     "end_time": "2025-09-26T20:40:27.027038Z",
     "start_time": "2025-09-26T20:40:21.918593Z"
    }
   },
   "cell_type": "code",
   "source": [
    "#Bagging: Knn\n",
    "modelo_base = KNeighborsClassifier(n_neighbors=1, metric='euclidean')\n",
    "\n",
    "model_bag = BaggingClassifier(modelo_base, n_estimators=10, max_samples=0.6)  #n_estimators=100\n",
    "model_bag.fit(X_train, Y_train)  #70%\n",
    "\n",
    "#Evaluación\n",
    "Y_pred = model_bag.predict(X_test)  #30%\n",
    "print(metrics.classification_report(y_true=Y_test, y_pred=Y_pred, target_names=labelencoder.classes_))"
   ],
   "id": "c7fb965603737192",
   "outputs": [
    {
     "name": "stdout",
     "output_type": "stream",
     "text": [
      "                     precision    recall  f1-score   support\n",
      "\n",
      "CancelledbyCustomer       1.00      0.54      0.70      3075\n",
      "  CancelledbyDriver       0.85      1.00      0.92      8152\n",
      "          Completed       0.92      0.98      0.95     27921\n",
      "         Incomplete       0.25      0.08      0.13      2688\n",
      "      NoDriverFound       1.00      1.00      1.00      3164\n",
      "\n",
      "           accuracy                           0.90     45000\n",
      "          macro avg       0.80      0.72      0.74     45000\n",
      "       weighted avg       0.88      0.90      0.88     45000\n",
      "\n"
     ]
    }
   ],
   "execution_count": 21
  },
  {
   "metadata": {
    "ExecuteTime": {
     "end_time": "2025-09-26T20:40:29.871747Z",
     "start_time": "2025-09-26T20:40:27.048730Z"
    }
   },
   "cell_type": "code",
   "source": [
    "#Random Forest\n",
    "model_rf = RandomForestClassifier(n_estimators=100, max_samples=0.7, criterion='gini',\n",
    "                                  max_depth=None, min_samples_leaf=2)\n",
    "model_rf.fit(X_train, Y_train)  #70%\n",
    "\n",
    "#Evaluación\n",
    "Y_pred = model_rf.predict(X_test)  #30%\n",
    "print(metrics.classification_report(y_true=Y_test, y_pred=Y_pred, target_names=labelencoder.classes_))"
   ],
   "id": "9656d233dde75a80",
   "outputs": [
    {
     "name": "stdout",
     "output_type": "stream",
     "text": [
      "                     precision    recall  f1-score   support\n",
      "\n",
      "CancelledbyCustomer       1.00      0.54      0.70      3075\n",
      "  CancelledbyDriver       0.85      1.00      0.92      8152\n",
      "          Completed       0.92      0.98      0.95     27921\n",
      "         Incomplete       0.26      0.07      0.11      2688\n",
      "      NoDriverFound       1.00      1.00      1.00      3164\n",
      "\n",
      "           accuracy                           0.90     45000\n",
      "          macro avg       0.81      0.72      0.74     45000\n",
      "       weighted avg       0.88      0.90      0.88     45000\n",
      "\n"
     ]
    }
   ],
   "execution_count": 22
  },
  {
   "metadata": {
    "ExecuteTime": {
     "end_time": "2025-09-26T20:40:29.898998Z",
     "start_time": "2025-09-26T20:40:29.892368Z"
    }
   },
   "cell_type": "code",
   "source": [
    "# Se imprimen la importancia de las características\n",
    "print('Importancia de las características')\n",
    "for i, j in sorted(zip(X_train.columns, model_rf.feature_importances_)):\n",
    "    print(i, j)"
   ],
   "id": "85142b4faee437f5",
   "outputs": [
    {
     "name": "stdout",
     "output_type": "stream",
     "text": [
      "Importancia de las características\n",
      "Avg CTAT 0.09900576272509615\n",
      "Avg VTAT 0.3002638217394599\n",
      "Booking Value 0.28851620380752335\n",
      "Payment Method 0.273858843891\n",
      "Ride Distance 0.038355367836920534\n"
     ]
    }
   ],
   "execution_count": 23
  },
  {
   "metadata": {
    "ExecuteTime": {
     "end_time": "2025-09-26T20:47:02.953536Z",
     "start_time": "2025-09-26T20:46:59.292089Z"
    }
   },
   "cell_type": "code",
   "source": [
    "#AdaBoost:Adaptive Boosting\n",
    "#Aplicando smote, no resulto :/\n",
    "# smote = SMOTE(random_state=42)\n",
    "# X_res, Y_res = smote.fit_resample(X_train, Y_train)\n",
    "\n",
    "modelo_base = DecisionTreeClassifier(max_depth=1, random_state=42)\n",
    "model_boos = AdaBoostClassifier(\n",
    "    modelo_base,\n",
    "    n_estimators=200,\n",
    "    random_state=42\n",
    ")\n",
    "model_boos.fit(X_train, Y_train)  #70%\n",
    "\n",
    "#Evaluación\n",
    "Y_pred = model_boos.predict(X_test)  #30%\n",
    "print(metrics.classification_report(y_true=Y_test, y_pred=Y_pred, target_names=labelencoder.classes_))\n",
    "\n",
    "# TODO: este esta jodido revisarlo\n",
    "\n"
   ],
   "id": "37bbc331a0851f92",
   "outputs": [
    {
     "name": "stdout",
     "output_type": "stream",
     "text": [
      "                     precision    recall  f1-score   support\n",
      "\n",
      "CancelledbyCustomer       0.00      0.00      0.00      3075\n",
      "  CancelledbyDriver       0.73      1.00      0.84      8152\n",
      "          Completed       0.91      1.00      0.95     27921\n",
      "         Incomplete       0.00      0.00      0.00      2688\n",
      "      NoDriverFound       1.00      1.00      1.00      3164\n",
      "\n",
      "           accuracy                           0.87     45000\n",
      "          macro avg       0.53      0.60      0.56     45000\n",
      "       weighted avg       0.77      0.87      0.81     45000\n",
      "\n"
     ]
    },
    {
     "name": "stderr",
     "output_type": "stream",
     "text": [
      "/Users/dicastro/Desktop/INT_NEG/MineriaDeDatos/UberMineria/.venv/lib/python3.12/site-packages/sklearn/metrics/_classification.py:1731: UndefinedMetricWarning: Precision is ill-defined and being set to 0.0 in labels with no predicted samples. Use `zero_division` parameter to control this behavior.\n",
      "  _warn_prf(average, modifier, f\"{metric.capitalize()} is\", result.shape[0])\n",
      "/Users/dicastro/Desktop/INT_NEG/MineriaDeDatos/UberMineria/.venv/lib/python3.12/site-packages/sklearn/metrics/_classification.py:1731: UndefinedMetricWarning: Precision is ill-defined and being set to 0.0 in labels with no predicted samples. Use `zero_division` parameter to control this behavior.\n",
      "  _warn_prf(average, modifier, f\"{metric.capitalize()} is\", result.shape[0])\n",
      "/Users/dicastro/Desktop/INT_NEG/MineriaDeDatos/UberMineria/.venv/lib/python3.12/site-packages/sklearn/metrics/_classification.py:1731: UndefinedMetricWarning: Precision is ill-defined and being set to 0.0 in labels with no predicted samples. Use `zero_division` parameter to control this behavior.\n",
      "  _warn_prf(average, modifier, f\"{metric.capitalize()} is\", result.shape[0])\n"
     ]
    }
   ],
   "execution_count": 34
  },
  {
   "metadata": {
    "ExecuteTime": {
     "end_time": "2025-09-26T20:41:17.962701Z",
     "start_time": "2025-09-26T20:40:37.895570Z"
    }
   },
   "cell_type": "code",
   "source": [
    "# Gradient Boosting\n",
    "\n",
    "#tasa de aprendizaje controla el tamaño de la actualización de cada modelo (contribución de cada nuevo árbol)\n",
    "model_gbc = GradientBoostingClassifier(\n",
    "    n_estimators=200,\n",
    "    learning_rate=0.1,\n",
    "    max_depth=3,\n",
    "    random_state=42)\n",
    "model_gbc.fit(X_train, Y_train)  #70%\n",
    "\n",
    "#Evaluación\n",
    "Y_pred = model_gbc.predict(X_test)  #30%\n",
    "print(metrics.classification_report(y_true=Y_test, y_pred=Y_pred, target_names=labelencoder.classes_))"
   ],
   "id": "5f09c5200678a283",
   "outputs": [
    {
     "name": "stdout",
     "output_type": "stream",
     "text": [
      "                     precision    recall  f1-score   support\n",
      "\n",
      "CancelledbyCustomer       1.00      0.54      0.70      3075\n",
      "  CancelledbyDriver       0.85      1.00      0.92      8152\n",
      "          Completed       0.91      0.99      0.95     27921\n",
      "         Incomplete       0.29      0.04      0.07      2688\n",
      "      NoDriverFound       1.00      1.00      1.00      3164\n",
      "\n",
      "           accuracy                           0.91     45000\n",
      "          macro avg       0.81      0.71      0.73     45000\n",
      "       weighted avg       0.88      0.91      0.88     45000\n",
      "\n"
     ]
    }
   ],
   "execution_count": 25
  },
  {
   "metadata": {
    "ExecuteTime": {
     "end_time": "2025-09-26T20:41:18.978990Z",
     "start_time": "2025-09-26T20:41:17.971039Z"
    }
   },
   "cell_type": "code",
   "source": [
    "# XGboost\n",
    "model_xgb = xgb.XGBClassifier(\n",
    "    max_depth=10,\n",
    "    learning_rate=0.1,\n",
    "    n_estimators=100,\n",
    "    subsample=0.8  #enable_categorical=True,\n",
    ")\n",
    "\n",
    "model_xgb.fit(X_train, Y_train)  #70%\n",
    "\n",
    "#Evaluación\n",
    "Y_pred = model_xgb.predict(X_test)  #30%\n",
    "print(metrics.classification_report(y_true=Y_test, y_pred=Y_pred, target_names=labelencoder.classes_))"
   ],
   "id": "7422d220598b37de",
   "outputs": [
    {
     "name": "stdout",
     "output_type": "stream",
     "text": [
      "                     precision    recall  f1-score   support\n",
      "\n",
      "CancelledbyCustomer       1.00      0.54      0.70      3075\n",
      "  CancelledbyDriver       0.85      1.00      0.92      8152\n",
      "          Completed       0.91      1.00      0.95     27921\n",
      "         Incomplete       0.19      0.00      0.01      2688\n",
      "      NoDriverFound       1.00      1.00      1.00      3164\n",
      "\n",
      "           accuracy                           0.91     45000\n",
      "          macro avg       0.79      0.71      0.72     45000\n",
      "       weighted avg       0.87      0.91      0.88     45000\n",
      "\n"
     ]
    }
   ],
   "execution_count": 26
  },
  {
   "metadata": {
    "ExecuteTime": {
     "end_time": "2025-09-26T20:41:21.484533Z",
     "start_time": "2025-09-26T20:41:19.008751Z"
    }
   },
   "cell_type": "code",
   "source": [
    "#CatBoostClassifier\n",
    "model_cat = CatBoostClassifier(iterations=100, depth=10, verbose=False,\n",
    "                               cat_features=[])  #Variables categóricas\n",
    "model_cat.fit(X_train, Y_train)\n",
    "\n",
    "#Evaluación\n",
    "Y_pred = model_cat.predict(X_test)  #30%\n",
    "print(metrics.classification_report(y_true=Y_test, y_pred=Y_pred, target_names=labelencoder.classes_))"
   ],
   "id": "648300e519d4cdc0",
   "outputs": [
    {
     "name": "stdout",
     "output_type": "stream",
     "text": [
      "                     precision    recall  f1-score   support\n",
      "\n",
      "CancelledbyCustomer       1.00      0.54      0.70      3075\n",
      "  CancelledbyDriver       0.85      1.00      0.92      8152\n",
      "          Completed       0.91      1.00      0.95     27921\n",
      "         Incomplete       0.21      0.00      0.01      2688\n",
      "      NoDriverFound       1.00      1.00      1.00      3164\n",
      "\n",
      "           accuracy                           0.91     45000\n",
      "          macro avg       0.79      0.71      0.72     45000\n",
      "       weighted avg       0.87      0.91      0.88     45000\n",
      "\n"
     ]
    }
   ],
   "execution_count": 27
  },
  {
   "metadata": {
    "ExecuteTime": {
     "end_time": "2025-09-26T20:41:24.074793Z",
     "start_time": "2025-09-26T20:41:21.505346Z"
    }
   },
   "cell_type": "code",
   "source": [
    "#Votacion hard\n",
    "clasificadores = [('dt', model_dt), ('knn', model_knn), ('net', model_rn)]\n",
    "\n",
    "model_vot_hard = VotingClassifier(estimators=clasificadores, voting='hard')\n",
    "model_vot_hard.fit(X_train, Y_train)  #70%\n",
    "\n",
    "#Evaluación\n",
    "Y_pred = model_vot_hard.predict(X_test)  #30%\n",
    "print(metrics.classification_report(y_true=Y_test, y_pred=Y_pred, target_names=labelencoder.classes_))"
   ],
   "id": "f43eadf781a53e9b",
   "outputs": [
    {
     "name": "stdout",
     "output_type": "stream",
     "text": [
      "                     precision    recall  f1-score   support\n",
      "\n",
      "CancelledbyCustomer       1.00      0.54      0.70      3075\n",
      "  CancelledbyDriver       0.85      1.00      0.92      8152\n",
      "          Completed       0.92      0.94      0.93     27921\n",
      "         Incomplete       0.22      0.19      0.21      2688\n",
      "      NoDriverFound       1.00      1.00      1.00      3164\n",
      "\n",
      "           accuracy                           0.88     45000\n",
      "          macro avg       0.80      0.73      0.75     45000\n",
      "       weighted avg       0.88      0.88      0.87     45000\n",
      "\n"
     ]
    }
   ],
   "execution_count": 28
  },
  {
   "metadata": {
    "ExecuteTime": {
     "end_time": "2025-09-26T20:41:26.330679Z",
     "start_time": "2025-09-26T20:41:24.092297Z"
    }
   },
   "cell_type": "code",
   "source": [
    "#votacion soft\n",
    "\n",
    "clasificadores = [('dt', model_dt), ('knn', model_knn), ('net', model_rn)]\n",
    "model_vot_soft = VotingClassifier(estimators=clasificadores, voting='soft', weights=[0.3, 0.4, 0.3])\n",
    "model_vot_soft.fit(X_train, Y_train)  #70%\n",
    "\n",
    "#Evaluación\n",
    "Y_pred = model_vot_soft.predict(X_test)  #30%\n",
    "print(metrics.classification_report(y_true=Y_test, y_pred=Y_pred, target_names=labelencoder.classes_))"
   ],
   "id": "3e5df05c9d5cd04d",
   "outputs": [
    {
     "name": "stdout",
     "output_type": "stream",
     "text": [
      "                     precision    recall  f1-score   support\n",
      "\n",
      "CancelledbyCustomer       1.00      0.54      0.70      3075\n",
      "  CancelledbyDriver       0.85      1.00      0.92      8152\n",
      "          Completed       0.92      0.93      0.93     27921\n",
      "         Incomplete       0.21      0.20      0.20      2688\n",
      "      NoDriverFound       1.00      1.00      1.00      3164\n",
      "\n",
      "           accuracy                           0.88     45000\n",
      "          macro avg       0.80      0.73      0.75     45000\n",
      "       weighted avg       0.88      0.88      0.87     45000\n",
      "\n"
     ]
    }
   ],
   "execution_count": 29
  },
  {
   "metadata": {
    "ExecuteTime": {
     "end_time": "2025-09-26T20:41:38.536445Z",
     "start_time": "2025-09-26T20:41:26.348210Z"
    }
   },
   "cell_type": "code",
   "source": [
    "# stacking\n",
    "clasificadores = [('dt', model_dt), ('knn', model_knn), ('net', model_rn)]\n",
    "\n",
    "metodo_ensamblador = LogisticRegression()  #SVM, NN, KNN\n",
    "\n",
    "model_stack = StackingClassifier(estimators=clasificadores, final_estimator=metodo_ensamblador)\n",
    "model_stack.fit(X_train, Y_train)  #70%\n",
    "\n",
    "#Evaluación\n",
    "Y_pred = model_stack.predict(X_test)  #30%\n",
    "print(metrics.classification_report(y_true=Y_test, y_pred=Y_pred, target_names=labelencoder.classes_))"
   ],
   "id": "4f5e9f65b49b0956",
   "outputs": [
    {
     "name": "stdout",
     "output_type": "stream",
     "text": [
      "                     precision    recall  f1-score   support\n",
      "\n",
      "CancelledbyCustomer       1.00      0.54      0.70      3075\n",
      "  CancelledbyDriver       0.85      1.00      0.92      8152\n",
      "          Completed       0.91      1.00      0.95     27921\n",
      "         Incomplete       0.00      0.00      0.00      2688\n",
      "      NoDriverFound       1.00      1.00      1.00      3164\n",
      "\n",
      "           accuracy                           0.91     45000\n",
      "          macro avg       0.75      0.71      0.71     45000\n",
      "       weighted avg       0.86      0.91      0.88     45000\n",
      "\n"
     ]
    },
    {
     "name": "stderr",
     "output_type": "stream",
     "text": [
      "/Users/dicastro/Desktop/INT_NEG/MineriaDeDatos/UberMineria/.venv/lib/python3.12/site-packages/sklearn/metrics/_classification.py:1731: UndefinedMetricWarning: Precision is ill-defined and being set to 0.0 in labels with no predicted samples. Use `zero_division` parameter to control this behavior.\n",
      "  _warn_prf(average, modifier, f\"{metric.capitalize()} is\", result.shape[0])\n",
      "/Users/dicastro/Desktop/INT_NEG/MineriaDeDatos/UberMineria/.venv/lib/python3.12/site-packages/sklearn/metrics/_classification.py:1731: UndefinedMetricWarning: Precision is ill-defined and being set to 0.0 in labels with no predicted samples. Use `zero_division` parameter to control this behavior.\n",
      "  _warn_prf(average, modifier, f\"{metric.capitalize()} is\", result.shape[0])\n",
      "/Users/dicastro/Desktop/INT_NEG/MineriaDeDatos/UberMineria/.venv/lib/python3.12/site-packages/sklearn/metrics/_classification.py:1731: UndefinedMetricWarning: Precision is ill-defined and being set to 0.0 in labels with no predicted samples. Use `zero_division` parameter to control this behavior.\n",
      "  _warn_prf(average, modifier, f\"{metric.capitalize()} is\", result.shape[0])\n"
     ]
    }
   ],
   "execution_count": 30
  }
 ],
 "metadata": {
  "kernelspec": {
   "display_name": "Python 3",
   "language": "python",
   "name": "python3"
  },
  "language_info": {
   "codemirror_mode": {
    "name": "ipython",
    "version": 2
   },
   "file_extension": ".py",
   "mimetype": "text/x-python",
   "name": "python",
   "nbconvert_exporter": "python",
   "pygments_lexer": "ipython2",
   "version": "2.7.6"
  }
 },
 "nbformat": 4,
 "nbformat_minor": 5
}
